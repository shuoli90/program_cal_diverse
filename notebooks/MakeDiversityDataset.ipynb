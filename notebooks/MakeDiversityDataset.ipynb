{
 "cells": [
  {
   "cell_type": "code",
   "execution_count": 5,
   "metadata": {},
   "outputs": [],
   "source": [
    "## the evaluation file will have \n",
    "# {'prompt': 'The prompt text', 'testcase_inputs': {'0': 'input 0', '1': 'input 1', ...}} that should be it, \n",
    "# possibly some post-condition on the outputs\n",
    "import random\n",
    "import string\n",
    "\n",
    "description_1 = \"\"\"\n",
    "An integer N (1 ≤ N ≤ 10^3), representing some quantity or size.\n",
    "A list of integers A of size N, where each integer is between 0 and 1e5.\n",
    "A character C from the set {'a', 'b', 'c', 'd', 'e'}.\"\"\"\n",
    "\n",
    "def tcgen_1(): \n",
    "    N = random.randint(1, 10**3)\n",
    "    \n",
    "    A = [random.randint(0, 10**5) for _ in range(N)]\n",
    "\n",
    "    C = random.choice(['a', 'b', 'c', 'd', 'e'])\n",
    "    \n",
    "    return N, A, C\n",
    "\n",
    "description_2 = \"\"\"\n",
    "An integer N (1 ≤ N ≤ 10^3), representing some quantity or size.\n",
    "A list of integers A of size N, where each integer is between 0 and 1e6.\n",
    "A string S of lowercase English letters, with a length up to 100 characters.\"\"\"\n",
    "\n",
    "def tcgen_2():\n",
    "    # Generate a random integer N\n",
    "    N = random.randint(1, 10**2)\n",
    "    \n",
    "    # Generate a list of N integers, each between 1 and 1e5\n",
    "    A = [random.randint(1, 10**6) for _ in range(N)]\n",
    "    \n",
    "    # Generate a random string S of lowercase English letters, with a length up to 100 characters\n",
    "    S_length = random.randint(1, 100)\n",
    "    S = ''.join(random.choice(string.ascii_lowercase) for _ in range(S_length))\n",
    "    \n",
    "    return N, A, S\n",
    "\n",
    "\n"
   ]
  },
  {
   "cell_type": "code",
   "execution_count": 8,
   "metadata": {},
   "outputs": [
    {
     "name": "stdout",
     "output_type": "stream",
     "text": [
      "['65\\n'\n",
      " '380047 544513 233164 308847 14579 183068 988285 423238 128123 198816 589753 '\n",
      " '539139 347539 227868 829902 787973 931972 219560 445566 429753 275977 290746 '\n",
      " '268077 996418 199866 745388 249797 578203 616243 661364 681295 507654 197462 '\n",
      " '864493 336072 376293 208925 240779 482733 709684 577902 53027 506670 995167 '\n",
      " '666530 151882 278923 245950 951336 702082 817448 38583 898723 725728 478654 '\n",
      " '355143 337798 385876 982208 740813 843167 565939 890827 378833 369135\\n'\n",
      " 'khykqorrr',\n",
      " '38\\n'\n",
      " '39573 416969 537939 957838 667795 682080 29442 869178 23347 827025 142630 '\n",
      " '472007 68268 222705 164134 485334 701990 404646 197182 302328 552767 157264 '\n",
      " '213760 553854 704236 840539 987053 395904 90572 281417 679911 295885 99786 '\n",
      " '340329 977554 846736 503688 15874\\n'\n",
      " 'meeemahnldxucgkywebsqgsxqetbhcbwei']\n"
     ]
    }
   ],
   "source": [
    "def serialize_element_to_string(element): \n",
    "    if type(element) == int: \n",
    "        return str(element)\n",
    "    elif type(element) == list: \n",
    "        return ' '.join([str(x) for x in element])\n",
    "    elif type(element) == str: \n",
    "        return element\n",
    "    else: \n",
    "        raise ValueError(f\"Can't serialize element of type {type(element)}\")\n",
    "\n",
    "\n",
    "# turns an output tuple into a string\n",
    "def serialize_tuples_to_string(output_tuple):\n",
    "    return '\\n'.join([serialize_element_to_string(x) for x in output_tuple])\n",
    "\n",
    "def make_n_string_tcs(tcgen_fun, num_tcs): \n",
    "    output_tuples = [] \n",
    "    for _ in range(num_tcs): \n",
    "        output_tuples.append(tcgen_fun())\n",
    "    output_strings = []\n",
    "    for t in output_tuples: \n",
    "        output_strings.append(serialize_tuples_to_string(t))\n",
    "        \n",
    "    return output_strings\n",
    "\n",
    "# from pprint import pprint \n",
    "pprint(make_n_string_tcs(tcgen_2, 2))"
   ]
  },
  {
   "cell_type": "code",
   "execution_count": 9,
   "metadata": {},
   "outputs": [],
   "source": [
    "dataset = []\n",
    "\n",
    "example_1 = {'prompt': description_1, 'testcase_inputs': make_n_string_tcs(tcgen_1, 200)}\n",
    "example_2 = {'prompt': description_2, 'testcase_inputs': make_n_string_tcs(tcgen_2, 200)}\n",
    "\n",
    "OUTPUT_DIRECTORY = \"/data1/shypula/diversity_dataset/\"\n",
    "\n",
    "# save as jsonl \n",
    "\n",
    "import json\n",
    "import os\n",
    "\n",
    "if not os.path.exists(OUTPUT_DIRECTORY): \n",
    "    os.makedirs(OUTPUT_DIRECTORY)\n",
    "with open(OUTPUT_DIRECTORY + \"diversity_dataset.jsonl\", 'w') as f: \n",
    "    for example in [example_1, example_2]: \n",
    "        f.write(json.dumps(example) + '\\n')"
   ]
  },
  {
   "cell_type": "code",
   "execution_count": null,
   "metadata": {},
   "outputs": [],
   "source": []
  }
 ],
 "metadata": {
  "kernelspec": {
   "display_name": "py39",
   "language": "python",
   "name": "python3"
  },
  "language_info": {
   "codemirror_mode": {
    "name": "ipython",
    "version": 3
   },
   "file_extension": ".py",
   "mimetype": "text/x-python",
   "name": "python",
   "nbconvert_exporter": "python",
   "pygments_lexer": "ipython3",
   "version": "3.9.0"
  }
 },
 "nbformat": 4,
 "nbformat_minor": 2
}
