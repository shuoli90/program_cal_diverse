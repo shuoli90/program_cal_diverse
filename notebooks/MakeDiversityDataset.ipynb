{
 "cells": [
  {
   "cell_type": "code",
   "execution_count": 1,
   "metadata": {},
   "outputs": [],
   "source": [
    "## the evaluation file will have \n",
    "# {'prompt': 'The prompt text', 'testcase_inputs': {'0': 'input 0', '1': 'input 1', ...}} that should be it, \n",
    "# possibly some post-condition on the outputs\n",
    "import random\n",
    "import string\n",
    "\n",
    "description_1 = \"\"\"\n",
    "An integer N (1 ≤ N ≤ 10^3), representing some quantity or size.\n",
    "A list of integers A of size N, where each integer is between 0 and 1e5.\n",
    "A character C from the set {'a', 'b', 'c', 'd', 'e'}.\"\"\"\n",
    "\n",
    "def tcgen_1(): \n",
    "    N = random.randint(1, 10**3)\n",
    "    \n",
    "    A = [random.randint(0, 10**5) for _ in range(N)]\n",
    "\n",
    "    C = random.choice(['a', 'b', 'c', 'd', 'e'])\n",
    "    \n",
    "    return N, A, C\n",
    "\n",
    "description_2 = \"\"\"\n",
    "An integer N (1 ≤ N ≤ 10^3), representing some quantity or size.\n",
    "A list of integers A of size N, where each integer is between 0 and 1e6.\n",
    "A string S of lowercase English letters, with a length up to 100 characters.\"\"\"\n",
    "\n",
    "def tcgen_2():\n",
    "    # Generate a random integer N\n",
    "    N = random.randint(1, 10**2)\n",
    "    \n",
    "    # Generate a list of N integers, each between 1 and 1e5\n",
    "    A = [random.randint(1, 10**6) for _ in range(N)]\n",
    "    \n",
    "    # Generate a random string S of lowercase English letters, with a length up to 100 characters\n",
    "    S_length = random.randint(1, 100)\n",
    "    S = ''.join(random.choice(string.ascii_lowercase) for _ in range(S_length))\n",
    "    \n",
    "    return N, A, S\n",
    "\n",
    "\n"
   ]
  },
  {
   "cell_type": "code",
   "execution_count": 2,
   "metadata": {},
   "outputs": [
    {
     "name": "stdout",
     "output_type": "stream",
     "text": [
      "{'0': '67\\n'\n",
      "      '507013 771967 220408 75676 607490 786710 687742 125168 475900 956255 '\n",
      "      '132558 616355 385108 161228 241995 357651 215246 431891 305926 378888 '\n",
      "      '651882 236237 695447 874297 862290 787821 886621 922597 667888 481027 '\n",
      "      '910887 585422 422432 956086 777052 90742 306880 761808 847583 509971 '\n",
      "      '729572 807412 355280 748850 669442 818620 643518 216079 94433 952795 '\n",
      "      '159051 430603 642247 253823 63676 297472 171657 652158 963576 251294 '\n",
      "      '190928 871152 655149 695210 19462 324362 989982\\n'\n",
      "      'olvtrygeddtwtfjrmurltvhekakhusrmjqelgzrbvtehfxzmhrltyly',\n",
      " '1': '91\\n'\n",
      "      '269855 829089 3248 527901 773023 102008 784328 414192 792297 396430 '\n",
      "      '715570 682955 432154 562178 528928 475998 159587 656078 582098 21549 '\n",
      "      '407560 673207 32329 172260 86045 613828 97606 105433 40359 777084 '\n",
      "      '410163 948526 300617 974670 715133 443404 992625 799830 794945 41935 '\n",
      "      '687453 125129 965351 989011 978727 577839 646929 866474 536298 818616 '\n",
      "      '231823 99147 265762 299169 593118 888394 932880 937046 760126 671311 '\n",
      "      '895281 837012 729738 10627 757684 46402 441561 892518 914045 532141 '\n",
      "      '19973 624147 18083 923495 358820 790793 993915 286064 816391 901195 '\n",
      "      '708080 92010 483502 242309 630592 512728 303570 504376 465810 724183 '\n",
      "      '501541\\n'\n",
      "      'yzyocmniprujfzevginjcrfxvcimtkuvboitrwblwmawqrncuxnbplrocecvkabiflyhrzomabeuqapjqaxb'}\n"
     ]
    }
   ],
   "source": [
    "def serialize_element_to_string(element): \n",
    "    if type(element) == int: \n",
    "        return str(element)\n",
    "    elif type(element) == list: \n",
    "        return ' '.join([str(x) for x in element])\n",
    "    elif type(element) == str: \n",
    "        return element\n",
    "    else: \n",
    "        raise ValueError(f\"Can't serialize element of type {type(element)}\")\n",
    "\n",
    "\n",
    "# turns an output tuple into a string\n",
    "def serialize_tuples_to_string(output_tuple):\n",
    "    return '\\n'.join([serialize_element_to_string(x) for x in output_tuple])\n",
    "\n",
    "def make_n_string_tcs(tcgen_fun, num_tcs): \n",
    "    output_tuples = [] \n",
    "    for _ in range(num_tcs): \n",
    "        output_tuples.append(tcgen_fun())\n",
    "    output_strings = {}\n",
    "    for i, t in enumerate(output_tuples): \n",
    "        output_strings[str(i)] = serialize_tuples_to_string(t)\n",
    "        \n",
    "    return output_strings\n",
    "\n",
    "from pprint import pprint \n",
    "pprint(make_n_string_tcs(tcgen_2, 2))"
   ]
  },
  {
   "cell_type": "code",
   "execution_count": 3,
   "metadata": {},
   "outputs": [],
   "source": [
    "dataset = []\n",
    "\n",
    "example_1 = {'prompt': description_1, 'testcase_inputs': make_n_string_tcs(tcgen_1, 200)}\n",
    "example_2 = {'prompt': description_2, 'testcase_inputs': make_n_string_tcs(tcgen_2, 200)}\n",
    "\n",
    "OUTPUT_DIRECTORY = \"/home/data1/cal_diverse/diversity_debug/\"\n",
    "\n",
    "# save as jsonl \n",
    "\n",
    "import json\n",
    "import os\n",
    "\n",
    "if not os.path.exists(OUTPUT_DIRECTORY): \n",
    "    os.makedirs(OUTPUT_DIRECTORY)\n",
    "with open(OUTPUT_DIRECTORY + \"diversity_dataset.jsonl\", 'w') as f: \n",
    "    for example in [example_1, example_2]: \n",
    "        f.write(json.dumps(example) + '\\n')"
   ]
  },
  {
   "cell_type": "code",
   "execution_count": null,
   "metadata": {},
   "outputs": [],
   "source": []
  }
 ],
 "metadata": {
  "kernelspec": {
   "display_name": "py39",
   "language": "python",
   "name": "python3"
  },
  "language_info": {
   "codemirror_mode": {
    "name": "ipython",
    "version": 3
   },
   "file_extension": ".py",
   "mimetype": "text/x-python",
   "name": "python",
   "nbconvert_exporter": "python",
   "pygments_lexer": "ipython3",
   "version": "3.8.16"
  }
 },
 "nbformat": 4,
 "nbformat_minor": 2
}
