{
 "cells": [
  {
   "cell_type": "code",
   "execution_count": 1,
   "metadata": {},
   "outputs": [],
   "source": [
    "import pandas as pd \n",
    "import os \n",
    "import shutil\n",
    "import random \n",
    "import glob \n",
    "from bs4 import BeautifulSoup\n",
    "from tqdm import tqdm "
   ]
  },
  {
   "cell_type": "code",
   "execution_count": 28,
   "metadata": {},
   "outputs": [],
   "source": [
    "PATH_TO_CODENET = \"/home/alex/Documents/PennPhD/learning2perf/data/Project_CodeNet\"\n",
    "PATH_TO_METADATA = \"/home/alex/Documents/PennPhD/learning2perf/data/Project_CodeNet/metadata\"\n",
    "PATH_TO_PROBLEM_DESC = \"/home/alex/Documents/PennPhD/learning2perf/data/Project_CodeNet/problem_descriptions_translated\"\n",
    "PATH_TO_DATA = \"/home/alex/Documents/PennPhD/learning2perf/data/Project_CodeNet/data\"\n",
    "PATH_TO_TESTCASES = \"/home/alex/Documents/PennPhD/learning2perf/data/codenet/merged_test_cases\"\n",
    "PATH_TO_PROBLEM_DESC_ORIG = \"/home/alex/Documents/PennPhD/learning2perf/data/Project_CodeNet/problem_descriptions\"\n",
    "\n",
    "\n",
    "# problem desc is /{problem_id}.html\n",
    "# metadata is /{problem_id}.csv\n",
    "# data is /{problem_id}/LANG/{submission_id}.{ext}\n",
    "# testcases is /{problem_id}/input.*.txt and /{problem_id}/output.*.txt\n",
    "\n",
    "def html_string_to_text(html_string):\n",
    "    soup = BeautifulSoup(html_string, 'html.parser')\n",
    "    return soup.get_text()\n",
    "\n",
    "\n",
    "def print_n_from_dict(d, n=5, max_len=100):\n",
    "    for i, (k, v) in enumerate(d.items()):\n",
    "        if type(v) == str and len(v) > max_len:\n",
    "            print(f\"{k}: {v[:max_len]}...\")\n",
    "        else: \n",
    "            print(f\"{k}: {v}\")\n",
    "        if i > n:\n",
    "            break\n",
    "\n"
   ]
  },
  {
   "cell_type": "code",
   "execution_count": 11,
   "metadata": {},
   "outputs": [
    {
     "name": "stderr",
     "output_type": "stream",
     "text": [
      " 94%|█████████▎| 3742/3999 [00:02<00:00, 1297.30it/s]Traceback (most recent call last):\n",
      "  File \"/tmp/ipykernel_470939/1050089094.py\", line 12, in <module>\n",
      "    problem_id_2_text[problem_id] = html_string_to_text(html_string)\n",
      "  File \"/tmp/ipykernel_470939/1421285147.py\", line 15, in html_string_to_text\n",
      "    soup = BeautifulSoup(html_string, 'html.parser')\n",
      "  File \"/home/alex/anaconda3/envs/py38_gem5/lib/python3.8/site-packages/bs4/__init__.py\", line 344, in __init__\n",
      "    raise ParserRejectedMarkup(\n",
      "bs4.builder.ParserRejectedMarkup: The markup you provided was rejected by the parser. Trying a different parser or a different encoding may help.\n",
      "\n",
      "Original exception(s) from parser:\n",
      " unknown status keyword 'C' in marked section\n",
      "100%|██████████| 3999/3999 [00:03<00:00, 1248.31it/s]"
     ]
    },
    {
     "name": "stdout",
     "output_type": "stream",
     "text": [
      "Error processing p00194\n",
      "p01245: \n",
      "Problem C: Magical Dungeon\n",
      "\n",
      "Arthur C. Malory is a wandering valiant fighter (in a game world).\n",
      "\n",
      "\n",
      "On...\n",
      "p02649: \n",
      "Score : 800 points\n",
      "\n",
      "\n",
      "Problem StatementGiven are N pairwise distinct non-negative integers A_1,A_2,\\...\n",
      "p01438: \n",
      "Problem B: Butterfly\n",
      "\n",
      "Claire is a man-eater. She's a real man-eater. She's going around with dozens...\n",
      "p02830: \n",
      "Score : 200 points\n",
      "\n",
      "\n",
      "Problem StatementGiven are strings s and t of length N each, both consisting o...\n",
      "p01245: \n",
      "<H1><font color=\"#000\">Problem C:</font> Magical Dungeon</H1>\n",
      "\n",
      "<p>\n",
      "Arthur C. Malory is a wandering ...\n",
      "p02649: <span class=\"lang-en\">\n",
      "<p>Score : <var>800</var> points</p>\n",
      "<div class=\"part\">\n",
      "<section>\n",
      "<h3>Problem...\n",
      "p01438: \n",
      "<H1><font color=\"#000\">Problem B:</font> Butterfly</H1>\n",
      "\n",
      "<p>\n",
      "Claire is a man-eater. She's a real ma...\n",
      "p02830: <span class=\"lang-en\">\n",
      "<p>Score : <var>200</var> points</p>\n",
      "<div class=\"part\">\n",
      "<section>\n",
      "<h3>Problem...\n"
     ]
    },
    {
     "name": "stderr",
     "output_type": "stream",
     "text": [
      "\n"
     ]
    }
   ],
   "source": [
    "problem_id_2_html = {}\n",
    "problem_id_2_text = {}\n",
    "import traceback\n",
    "\n",
    "all_html_files = glob.glob(os.path.join(PATH_TO_PROBLEM_DESC, \"*.html\"))\n",
    "for html_file in tqdm(all_html_files):\n",
    "    problem_id = os.path.basename(html_file).replace(\".html\", \"\")\n",
    "    with open(html_file, \"r\") as f:\n",
    "        html_string = f.read()\n",
    "        problem_id_2_html[problem_id] = html_string\n",
    "        try: \n",
    "            problem_id_2_text[problem_id] = html_string_to_text(html_string)\n",
    "        except Exception as e:\n",
    "            problem_id_2_text[problem_id] = html_string\n",
    "            print(f\"Error processing {problem_id}\")\n",
    "            traceback.print_exc()\n",
    "        \n",
    "\n",
    "        \n",
    "print_n_from_dict(problem_id_2_text, 2)\n",
    "print_n_from_dict(problem_id_2_html, 2)"
   ]
  },
  {
   "cell_type": "code",
   "execution_count": 12,
   "metadata": {},
   "outputs": [
    {
     "name": "stderr",
     "output_type": "stream",
     "text": [
      "100%|██████████| 3999/3999 [00:03<00:00, 1161.25it/s]\n"
     ]
    }
   ],
   "source": [
    "problem_id_2_html_orig = {}\n",
    "problem_id_2_text_orig = {}\n",
    "\n",
    "all_html_files = glob.glob(os.path.join(PATH_TO_PROBLEM_DESC_ORIG, \"*.html\"))\n",
    "for html_file in tqdm(all_html_files):\n",
    "    problem_id = os.path.basename(html_file).replace(\".html\", \"\")\n",
    "    with open(html_file, \"r\") as f:\n",
    "        html_string = f.read()\n",
    "        problem_id_2_html_orig[problem_id] = html_string\n",
    "        problem_id_2_text_orig[problem_id] = html_string_to_text(html_string)\n",
    "        "
   ]
  },
  {
   "cell_type": "code",
   "execution_count": 13,
   "metadata": {},
   "outputs": [
    {
     "name": "stdout",
     "output_type": "stream",
     "text": [
      "count     3999.000000\n",
      "mean      1847.297324\n",
      "std       1090.382192\n",
      "min          0.000000\n",
      "25%       1139.500000\n",
      "50%       1643.000000\n",
      "75%       2323.500000\n",
      "max      20297.000000\n",
      "dtype: float64\n",
      "count     3999.000000\n",
      "mean      2672.850963\n",
      "std       1293.106508\n",
      "min          1.000000\n",
      "25%       1880.000000\n",
      "50%       2529.000000\n",
      "75%       3250.500000\n",
      "max      27218.000000\n",
      "dtype: float64\n"
     ]
    }
   ],
   "source": [
    "print(pd.Series(problem_id_2_text).apply(len).describe())\n",
    "print(pd.Series(problem_id_2_html).apply(len).describe())"
   ]
  },
  {
   "cell_type": "code",
   "execution_count": 14,
   "metadata": {},
   "outputs": [
    {
     "name": "stdout",
     "output_type": "stream",
     "text": [
      "count     3999.000000\n",
      "mean      1591.359840\n",
      "std       1061.352577\n",
      "min          1.000000\n",
      "25%        947.000000\n",
      "50%       1345.000000\n",
      "75%       1915.000000\n",
      "max      20297.000000\n",
      "dtype: float64\n",
      "count     3999.000000\n",
      "mean      2506.493623\n",
      "std       1319.754792\n",
      "min          1.000000\n",
      "25%       1699.000000\n",
      "50%       2315.000000\n",
      "75%       3050.000000\n",
      "max      27218.000000\n",
      "dtype: float64\n"
     ]
    }
   ],
   "source": [
    "print(pd.Series(problem_id_2_text_orig).apply(len).describe())\n",
    "print(pd.Series(problem_id_2_html_orig).apply(len).describe())"
   ]
  },
  {
   "cell_type": "code",
   "execution_count": 9,
   "metadata": {},
   "outputs": [
    {
     "data": {
      "text/plain": [
       "dict_keys([])"
      ]
     },
     "execution_count": 9,
     "metadata": {},
     "output_type": "execute_result"
    }
   ],
   "source": []
  },
  {
   "cell_type": "code",
   "execution_count": 15,
   "metadata": {},
   "outputs": [
    {
     "name": "stderr",
     "output_type": "stream",
     "text": [
      " 20%|██        | 801/3999 [00:02<00:08, 381.19it/s]Traceback (most recent call last):\n",
      "  File \"/tmp/ipykernel_470939/2506468446.py\", line 13, in <module>\n",
      "    problem_id_2_solve_rate[i] = calc_solve_rate(i)\n",
      "  File \"/tmp/ipykernel_470939/2506468446.py\", line 7, in calc_solve_rate\n",
      "    return len(submissions[accepted]) / len(submissions)\n",
      "ZeroDivisionError: division by zero\n",
      " 22%|██▏       | 876/3999 [00:02<00:10, 310.88it/s]"
     ]
    },
    {
     "name": "stdout",
     "output_type": "stream",
     "text": [
      "Error processing p02478\n"
     ]
    },
    {
     "name": "stderr",
     "output_type": "stream",
     "text": [
      " 44%|████▍     | 1762/3999 [00:04<00:05, 397.62it/s]Traceback (most recent call last):\n",
      "  File \"/tmp/ipykernel_470939/2506468446.py\", line 13, in <module>\n",
      "    problem_id_2_solve_rate[i] = calc_solve_rate(i)\n",
      "  File \"/tmp/ipykernel_470939/2506468446.py\", line 7, in calc_solve_rate\n",
      "    return len(submissions[accepted]) / len(submissions)\n",
      "ZeroDivisionError: division by zero\n",
      " 46%|████▋     | 1852/3999 [00:04<00:05, 380.97it/s]"
     ]
    },
    {
     "name": "stdout",
     "output_type": "stream",
     "text": [
      "Error processing p02533\n"
     ]
    },
    {
     "name": "stderr",
     "output_type": "stream",
     "text": [
      " 57%|█████▋    | 2287/3999 [00:06<00:04, 367.01it/s]Traceback (most recent call last):\n",
      "  File \"/tmp/ipykernel_470939/2506468446.py\", line 13, in <module>\n",
      "    problem_id_2_solve_rate[i] = calc_solve_rate(i)\n",
      "  File \"/tmp/ipykernel_470939/2506468446.py\", line 7, in calc_solve_rate\n",
      "    return len(submissions[accepted]) / len(submissions)\n",
      "ZeroDivisionError: division by zero\n",
      "Traceback (most recent call last):\n",
      "  File \"/tmp/ipykernel_470939/2506468446.py\", line 13, in <module>\n",
      "    problem_id_2_solve_rate[i] = calc_solve_rate(i)\n",
      "  File \"/tmp/ipykernel_470939/2506468446.py\", line 7, in calc_solve_rate\n",
      "    return len(submissions[accepted]) / len(submissions)\n",
      "ZeroDivisionError: division by zero\n",
      " 59%|█████▉    | 2374/3999 [00:06<00:04, 391.00it/s]"
     ]
    },
    {
     "name": "stdout",
     "output_type": "stream",
     "text": [
      "Error processing p02395\n",
      "Error processing p02015\n"
     ]
    },
    {
     "name": "stderr",
     "output_type": "stream",
     "text": [
      " 98%|█████████▊| 3928/3999 [00:10<00:00, 358.92it/s]Traceback (most recent call last):\n",
      "  File \"/tmp/ipykernel_470939/2506468446.py\", line 13, in <module>\n",
      "    problem_id_2_solve_rate[i] = calc_solve_rate(i)\n",
      "  File \"/tmp/ipykernel_470939/2506468446.py\", line 7, in calc_solve_rate\n",
      "    return len(submissions[accepted]) / len(submissions)\n",
      "ZeroDivisionError: division by zero\n",
      "100%|██████████| 3999/3999 [00:10<00:00, 370.45it/s]"
     ]
    },
    {
     "name": "stdout",
     "output_type": "stream",
     "text": [
      "Error processing p02387\n"
     ]
    },
    {
     "name": "stderr",
     "output_type": "stream",
     "text": [
      "\n"
     ]
    },
    {
     "data": {
      "text/plain": [
       "(array([ 41., 145., 421., 593., 636., 610., 517., 455., 213., 363.]),\n",
       " array([0. , 0.1, 0.2, 0.3, 0.4, 0.5, 0.6, 0.7, 0.8, 0.9, 1. ]),\n",
       " <BarContainer object of 10 artists>)"
      ]
     },
     "execution_count": 15,
     "metadata": {},
     "output_type": "execute_result"
    },
    {
     "data": {
      "image/png": "[encoded data removed]",
      "text/plain": [
       "<Figure size 640x480 with 1 Axes>"
      ]
     },
     "metadata": {},
     "output_type": "display_data"
    }
   ],
   "source": [
    "# demo_problem_id = pd.read_csv(os.path.join(PATH_TO_METADATA, \"p00659.csv\")) \n",
    "# demo_problem_id.head()\n",
    "def calc_solve_rate(problem_id):\n",
    "    problem_id = str(problem_id)\n",
    "    submissions = pd.read_csv(os.path.join(PATH_TO_METADATA, f\"{problem_id}.csv\"))\n",
    "    accepted = submissions[\"status\"] == \"Accepted\" \n",
    "    return len(submissions[accepted]) / len(submissions)\n",
    "\n",
    "# problem_id_2_solve_rate = {problem_id: calc_solve_rate(problem_id) for problem_id in problem_id_2_text.keys()}\n",
    "problem_id_2_solve_rate = {}\n",
    "for i in tqdm(problem_id_2_text.keys()):\n",
    "    try: \n",
    "        problem_id_2_solve_rate[i] = calc_solve_rate(i)\n",
    "    except Exception as e:\n",
    "        print(f\"Error processing {i}\")\n",
    "        traceback.print_exc()\n",
    "import matplotlib.pyplot as plt\n",
    "%matplotlib inline\n",
    "plt.hist(list(problem_id_2_solve_rate.values()))"
   ]
  },
  {
   "cell_type": "code",
   "execution_count": 44,
   "metadata": {},
   "outputs": [
    {
     "name": "stdout",
     "output_type": "stream",
     "text": [
      "number of above solve rate 0: 3978\n",
      "proportion of above solve rate 0: 0.9959939909864797\n",
      "\n",
      "number of above solve rate 5: 3968\n",
      "proportion of above solve rate 5: 0.9934902353530295\n",
      "\n",
      "number of above solve rate 10: 3952\n",
      "proportion of above solve rate 10: 0.9894842263395093\n",
      "\n",
      "number of above solve rate 15: 3899\n",
      "proportion of above solve rate 15: 0.9762143214822233\n",
      "\n",
      "number of above solve rate 20: 3799\n",
      "proportion of above solve rate 20: 0.9511767651477215\n",
      "\n",
      "number of above solve rate 25: 3619\n",
      "proportion of above solve rate 25: 0.9061091637456185\n",
      "\n",
      "number of above solve rate 30: 3387\n",
      "proportion of above solve rate 30: 0.8480220330495744\n",
      "\n",
      "number of above solve rate 35: 3106\n",
      "proportion of above solve rate 35: 0.7776664997496244\n",
      "\n",
      "number of above solve rate 40: 2784\n",
      "proportion of above solve rate 40: 0.6970455683525288\n",
      "\n",
      "number of above solve rate 45: 2469\n",
      "proportion of above solve rate 45: 0.6181772658988482\n",
      "\n",
      "number of above solve rate 50: 2129\n",
      "proportion of above solve rate 50: 0.5330495743615423\n",
      "\n",
      "number of above solve rate 55: 1835\n",
      "proportion of above solve rate 55: 0.45943915873810715\n",
      "\n",
      "number of above solve rate 60: 1548\n",
      "proportion of above solve rate 60: 0.3875813720580871\n",
      "\n",
      "number of above solve rate 65: 1272\n",
      "proportion of above solve rate 65: 0.3184777165748623\n",
      "\n",
      "number of above solve rate 70: 1031\n",
      "proportion of above solve rate 70: 0.2581372058087131\n",
      "\n",
      "number of above solve rate 75: 786\n",
      "proportion of above solve rate 75: 0.19679519278918378\n",
      "\n",
      "number of above solve rate 80: 574\n",
      "proportion of above solve rate 80: 0.14371557336004007\n",
      "\n",
      "number of above solve rate 85: 443\n",
      "proportion of above solve rate 85: 0.11091637456184276\n",
      "\n",
      "number of above solve rate 90: 361\n",
      "proportion of above solve rate 90: 0.09038557836755133\n",
      "\n",
      "number of above solve rate 95: 324\n",
      "proportion of above solve rate 95: 0.08112168252378568\n",
      "\n",
      "number of above solve rate 100: 0\n",
      "proportion of above solve rate 100: 0.0\n",
      "\n",
      "574\n"
     ]
    }
   ],
   "source": [
    "# print percentiles \n",
    "for i in range(0, 101, 5):\n",
    "    print(f\"number of above solve rate {i}: {len([v for v in problem_id_2_solve_rate.values() if v > i/100])}\")\n",
    "    print(f\"proportion of above solve rate {i}: {len([v for v in problem_id_2_solve_rate.values() if v > i/100])/len(problem_id_2_solve_rate)}\")\n",
    "    print(f\"\")\n",
    "    \n",
    "high_solve_rate = {k: v for k, v in problem_id_2_solve_rate.items() if v > 0.80}\n",
    "print(len(high_solve_rate))"
   ]
  },
  {
   "cell_type": "code",
   "execution_count": 29,
   "metadata": {},
   "outputs": [
    {
     "name": "stderr",
     "output_type": "stream",
     "text": [
      "100%|██████████| 3999/3999 [00:55<00:00, 72.19it/s]"
     ]
    },
    {
     "name": "stdout",
     "output_type": "stream",
     "text": [
      "p01245: {'12': '7 8\\n0 2 3\\n2 3 -20\\n3 4 3\\n4 1 -5\\n1 5 1\\n5 4 5\\n1 3 2\\n4 6 -2\\n0 6 30\\n7 8\\n0 2 3\\n2 3 -20\\n3 4 3\\n4 1 -5\\n1 5 1\\n5 4 5\\n1 3 2\\n3 6 -2\\n0 6 20\\n4 4\\n0 1 -10\\n1 2 -50\\n2 1 51\\n1 3 1\\n0 3 20\\n11 14\\n0 1 -49\\n1 2 1\\n2 3 40\\n3 1 -40\\n1 4 -9\\n4 5 40\\n5 1 -30\\n1 6 -19\\n11 7 40\\n7 1 -18\\n1 8 -30\\n8 7 40\\n9 1 -9\\n1 10 1\\n0 10 50\\n3 4\\n0 1 -79\\n1 2 10\\n2 0 50\\n2 1 10\\n0 1 44\\n0 0', '52': '7 8\\n0 2 3\\n2 2 -20\\n3 4 3\\n4 0 -5\\n1 5 1\\n5 4 5\\n1 3 3\\n3 6 -2\\n0 6 30\\n7 8\\n0 2 3\\n2 3 -20\\n3 4 3\\n4 1 -5\\n1 5 1\\n5 4 5\\n1 0 2\\n3 6 -3\\n0 6 20\\n4 4\\n0 1 -10\\n1 2 -44\\n2 1 51\\n1 3 1\\n0 3 20\\n11 14\\n0 1 -49\\n1 2 1\\n2 5 40\\n3 1 -40\\n1 4 -9\\n4 5 40\\n1 1 -30\\n1 6 -19\\n6 7 40\\n7 1 -20\\n0 8 -30\\n8 9 40\\n9 1 -9\\n1 10 1\\n0 10 50\\n3 4\\n0 1 -49\\n1 2 10\\n2 0 50\\n2 1 10\\n0 1 50\\n0 0', '28': '7 8\\n0 1 3\\n2 3 -15\\n3 4 3\\n4 1 -5\\n1 5 1\\n5 4 5\\n1 3 2\\n3 6 -2\\n0 6 30\\n7 8\\n0 2 3\\n2 3 -20\\n3 4 3\\n4 1 -5\\n1 5 1\\n5 4 5\\n0 3 2\\n3 6 -2\\n0 6 20\\n4 4\\n0 1 -10\\n1 2 -50\\n2 1 51\\n1 3 1\\n0 3 14\\n11 14\\n0 1 -49\\n1 2 1\\n2 3 40\\n3 1 -40\\n1 4 -9\\n4 5 40\\n5 1 -30\\n1 6 -19\\n6 7 40\\n7 1 -20\\n1 8 -30\\n8 9 40\\n9 1 -9\\n1 10 1\\n0 10 50\\n3 4\\n0 1 -101\\n1 1 10\\n2 0 50\\n2 1 10\\n0 1 50\\n0 0', '84': '7 8\\n0 2 3\\n2 3 -20\\n3 4 3\\n5 1 -5\\n1 5 1\\n5 4 5\\n1 3 2\\n3 6 -2\\n0 6 30\\n7 8\\n0 2 3\\n2 3 -20\\n3 4 3\\n4 1 -5\\n1 5 1\\n5 4 5\\n1 3 2\\n3 6 -2\\n0 6 20\\n4 4\\n0 1 -9\\n1 2 -50\\n2 1 51\\n1 3 1\\n0 3 20\\n11 14\\n0 1 -49\\n1 2 1\\n2 3 40\\n3 1 -40\\n1 4 -9\\n4 5 40\\n5 1 -30\\n1 6 -19\\n11 7 40\\n7 1 -20\\n1 8 -30\\n8 7 40\\n9 1 -9\\n1 10 1\\n0 10 50\\n3 4\\n0 1 -79\\n1 2 10\\n2 0 50\\n2 1 10\\n0 1 44\\n0 0', '26': '7 8\\n0 2 3\\n2 3 -20\\n3 4 3\\n4 1 -5\\n1 5 1\\n5 4 5\\n1 3 2\\n3 6 -2\\n0 6 30\\n7 8\\n0 2 3\\n2 3 -20\\n2 4 3\\n4 1 -5\\n1 5 1\\n5 4 5\\n1 3 2\\n3 6 -2\\n0 6 20\\n4 4\\n0 1 -10\\n1 2 -50\\n2 1 51\\n2 3 1\\n0 3 20\\n11 14\\n0 1 -49\\n1 2 1\\n2 3 40\\n3 1 -40\\n1 4 -9\\n4 5 40\\n5 1 -30\\n1 6 -19\\n11 7 40\\n7 1 -20\\n1 8 -30\\n8 7 40\\n9 1 -9\\n1 10 1\\n0 10 50\\n3 4\\n0 1 -79\\n1 2 10\\n2 0 50\\n2 1 10\\n0 1 50\\n0 0', '50': '7 8\\n0 2 3\\n2 3 -20\\n3 4 3\\n4 1 -5\\n1 5 1\\n5 4 5\\n1 3 2\\n3 6 -2\\n-1 6 56\\n7 8\\n0 2 3\\n2 3 -20\\n3 4 3\\n4 1 -5\\n1 5 1\\n5 4 5\\n0 3 2\\n3 6 -2\\n0 6 20\\n4 4\\n0 1 -6\\n1 2 -50\\n2 1 51\\n1 3 1\\n0 1 14\\n11 14\\n0 1 -49\\n1 2 1\\n2 3 40\\n3 1 -40\\n1 4 -9\\n4 5 40\\n5 1 -57\\n1 6 -19\\n9 7 40\\n7 1 -20\\n1 8 -30\\n15 9 40\\n9 1 -9\\n1 10 1\\n0 10 50\\n3 4\\n0 1 -101\\n0 1 10\\n2 0 67\\n2 1 10\\n0 1 84\\n0 0', '11': '7 8\\n0 2 3\\n2 3 -20\\n3 4 3\\n4 1 -5\\n1 5 1\\n5 4 5\\n1 3 2\\n3 6 -2\\n0 6 30\\n7 8\\n0 2 3\\n2 3 -20\\n3 4 3\\n4 1 -5\\n1 5 1\\n5 4 5\\n0 3 2\\n3 6 -2\\n0 6 20\\n4 4\\n0 1 -10\\n1 2 -50\\n2 1 51\\n1 3 1\\n0 1 14\\n11 14\\n0 1 -49\\n1 2 1\\n2 3 40\\n3 1 -40\\n1 4 -9\\n4 5 40\\n5 1 -30\\n1 6 -19\\n6 7 40\\n7 1 -20\\n1 8 -30\\n8 9 40\\n9 1 -9\\n1 10 1\\n0 10 50\\n3 4\\n0 1 -101\\n0 1 10\\n2 0 50\\n2 1 10\\n0 1 50\\n0 0', '44': '7 8\\n0 2 3\\n2 3 -20\\n3 4 3\\n4 1 -5\\n1 5 1\\n5 4 5\\n1 3 2\\n3 6 -2\\n-1 6 56\\n7 8\\n0 2 3\\n2 3 -20\\n3 4 3\\n4 1 -5\\n1 5 1\\n5 4 5\\n0 3 2\\n3 6 -2\\n0 6 20\\n4 4\\n0 1 -10\\n1 2 -50\\n2 1 51\\n1 3 1\\n0 1 14\\n11 14\\n0 1 -49\\n1 2 1\\n2 3 40\\n3 1 -40\\n1 4 -9\\n4 5 40\\n5 1 -57\\n1 6 -19\\n9 7 40\\n7 1 -20\\n1 8 -30\\n8 9 40\\n9 1 -9\\n1 10 1\\n0 10 50\\n3 4\\n0 1 -101\\n0 1 10\\n2 0 67\\n2 1 10\\n0 1 84\\n0 0', '30': '7 8\\n0 2 3\\n2 3 -20\\n3 4 3\\n4 1 -5\\n1 5 1\\n5 4 5\\n1 3 2\\n3 6 -2\\n0 6 30\\n7 8\\n0 2 3\\n2 3 -20\\n3 4 3\\n4 1 -5\\n1 5 1\\n5 4 5\\n0 3 2\\n3 6 -2\\n0 6 20\\n4 4\\n0 1 -10\\n1 2 -50\\n2 1 51\\n1 3 1\\n0 1 14\\n11 14\\n0 1 -49\\n1 2 1\\n2 3 40\\n3 1 -40\\n1 4 -9\\n4 5 40\\n5 1 -57\\n1 6 -19\\n9 7 40\\n7 1 -20\\n1 8 -30\\n8 9 40\\n9 1 -9\\n1 10 1\\n0 10 50\\n3 4\\n0 1 -101\\n0 1 10\\n2 0 67\\n2 1 10\\n0 1 84\\n0 0', '23': '7 8\\n0 2 3\\n2 3 -20\\n3 4 3\\n4 1 -5\\n1 5 1\\n5 4 5\\n1 3 2\\n3 6 -2\\n0 6 30\\n7 8\\n0 2 3\\n2 3 -20\\n3 4 3\\n4 1 -5\\n2 5 1\\n5 4 5\\n1 0 2\\n3 6 -3\\n0 6 20\\n4 4\\n0 1 -17\\n1 2 -50\\n2 2 51\\n1 3 1\\n1 3 20\\n11 14\\n0 1 -49\\n1 2 1\\n2 3 40\\n3 1 -40\\n1 4 -9\\n6 5 40\\n5 1 -30\\n1 6 -19\\n6 7 40\\n7 1 -20\\n1 8 -30\\n8 9 40\\n9 1 -9\\n1 10 1\\n0 10 2\\n3 4\\n0 1 -49\\n1 2 10\\n2 0 50\\n2 1 11\\n0 1 89\\n0 0', '62': '7 8\\n0 2 3\\n2 2 -20\\n3 4 3\\n4 0 -5\\n1 5 1\\n5 4 1\\n1 3 3\\n3 6 -2\\n0 0 30\\n7 8\\n0 2 3\\n2 3 -20\\n3 4 3\\n4 1 -5\\n1 5 1\\n5 4 5\\n1 0 2\\n3 6 -3\\n0 6 38\\n4 4\\n0 1 -10\\n1 2 -44\\n2 1 51\\n1 3 1\\n0 3 20\\n11 14\\n0 1 -49\\n1 2 1\\n2 5 40\\n3 1 -40\\n1 4 -9\\n4 5 40\\n1 1 -30\\n1 6 -19\\n6 7 40\\n7 1 -20\\n0 8 -30\\n8 9 31\\n9 1 -9\\n1 10 1\\n0 10 50\\n3 4\\n0 1 -49\\n1 2 10\\n2 0 50\\n2 1 12\\n-1 1 50\\n0 0', '13': '7 8\\n0 2 3\\n2 3 -20\\n3 4 3\\n4 0 -5\\n1 5 1\\n5 4 5\\n1 3 2\\n3 6 -2\\n0 6 30\\n7 8\\n0 2 3\\n2 3 -20\\n3 4 3\\n4 1 -5\\n1 5 1\\n5 4 5\\n1 0 2\\n3 6 -2\\n0 6 20\\n4 4\\n0 1 -10\\n1 2 -50\\n2 1 51\\n1 3 1\\n0 3 20\\n11 14\\n0 1 -49\\n1 2 1\\n2 3 40\\n3 1 -40\\n1 4 -9\\n4 5 40\\n5 1 -30\\n1 6 -19\\n12 7 40\\n7 1 -20\\n1 8 -30\\n8 9 40\\n9 1 -9\\n1 10 0\\n0 10 50\\n3 4\\n0 1 -49\\n1 3 10\\n2 1 50\\n2 1 10\\n0 1 50\\n0 0', '74': '7 8\\n0 2 3\\n2 3 -20\\n3 4 3\\n4 1 -5\\n1 5 1\\n5 4 5\\n1 3 2\\n3 6 -2\\n0 6 30\\n7 8\\n0 2 3\\n2 3 -20\\n3 4 3\\n4 1 -5\\n1 5 1\\n5 4 5\\n1 3 2\\n3 6 -2\\n0 6 20\\n4 4\\n0 1 -10\\n1 2 -50\\n2 1 51\\n1 3 1\\n0 3 20\\n11 14\\n0 1 -53\\n1 2 1\\n2 3 40\\n3 1 -40\\n1 4 -9\\n4 5 40\\n5 1 -30\\n1 6 -19\\n11 7 40\\n7 1 -20\\n1 8 -30\\n8 9 40\\n9 1 -9\\n1 10 1\\n0 10 50\\n3 4\\n0 1 -79\\n1 2 10\\n2 0 50\\n2 1 10\\n0 1 50\\n0 0', '65': '7 8\\n0 2 3\\n2 2 -20\\n3 4 3\\n4 0 -5\\n1 5 1\\n5 4 1\\n1 3 3\\n3 6 -2\\n0 0 30\\n7 8\\n0 2 3\\n2 3 -20\\n3 4 3\\n4 1 -5\\n1 6 1\\n5 4 5\\n1 0 2\\n3 6 -3\\n0 6 38\\n4 4\\n0 1 -10\\n1 2 -44\\n2 1 51\\n1 3 1\\n0 3 20\\n11 14\\n0 1 -49\\n1 2 1\\n2 5 40\\n3 1 -40\\n1 4 -9\\n4 5 44\\n1 1 -30\\n1 6 -19\\n6 7 40\\n7 1 -20\\n0 8 -30\\n8 9 31\\n9 1 -9\\n1 10 1\\n0 10 50\\n3 4\\n0 1 -49\\n1 2 10\\n2 0 50\\n2 1 12\\n-1 1 50\\n0 0', '63': '9 8\\n0 2 3\\n2 3 -20\\n3 4 3\\n4 0 -5\\n1 9 1\\n5 4 5\\n1 3 2\\n3 12 -2\\n0 6 30\\n7 8\\n0 2 3\\n2 3 -20\\n3 8 3\\n4 1 -5\\n1 5 1\\n5 4 5\\n1 0 2\\n3 6 -2\\n0 0 20\\n4 4\\n0 1 -10\\n1 2 -50\\n2 1 51\\n1 3 1\\n1 3 20\\n11 14\\n0 1 -49\\n1 2 1\\n2 3 40\\n3 1 -40\\n1 4 -9\\n4 5 40\\n1 1 -30\\n1 6 -14\\n5 7 40\\n7 1 -20\\n1 8 -30\\n8 9 40\\n9 1 -6\\n1 10 0\\n0 10 22\\n3 4\\n0 1 -49\\n1 3 12\\n2 1 50\\n3 1 10\\n0 1 50\\n0 0', '93': '7 8\\n0 2 3\\n2 3 -20\\n3 4 3\\n4 1 -5\\n1 5 1\\n5 4 5\\n1 3 2\\n3 6 -2\\n0 6 30\\n7 8\\n0 2 3\\n2 3 -20\\n3 4 3\\n4 1 -5\\n1 5 1\\n5 4 5\\n0 3 2\\n3 6 -2\\n0 6 20\\n4 4\\n0 1 -10\\n1 2 -50\\n2 1 51\\n1 3 1\\n0 3 20\\n11 14\\n0 1 -49\\n1 2 1\\n2 3 40\\n3 1 -40\\n1 4 -9\\n4 5 40\\n5 1 -30\\n1 6 -19\\n6 7 40\\n7 1 -20\\n1 8 -30\\n8 9 40\\n9 1 -9\\n1 10 1\\n0 10 50\\n3 4\\n0 1 -101\\n1 1 10\\n2 0 50\\n2 1 10\\n0 1 50\\n0 0', '40': '7 8\\n0 0 3\\n2 3 -20\\n3 4 3\\n4 1 -10\\n1 5 1\\n5 4 5\\n1 3 2\\n3 6 -2\\n0 6 30\\n7 8\\n0 2 3\\n2 3 -20\\n3 4 3\\n4 1 -5\\n1 5 1\\n5 4 5\\n1 3 2\\n3 6 -2\\n0 6 20\\n4 4\\n0 1 -10\\n1 2 -50\\n2 1 51\\n1 3 1\\n0 3 20\\n11 14\\n0 1 -49\\n1 2 1\\n2 3 40\\n3 1 -40\\n1 4 -9\\n4 5 40\\n5 1 -30\\n1 6 -19\\n6 7 40\\n7 1 -20\\n1 8 -18\\n8 9 40\\n9 1 -9\\n1 10 2\\n0 10 50\\n3 4\\n0 1 -49\\n1 2 10\\n2 0 50\\n2 1 10\\n0 1 50\\n0 0', '61': '9 8\\n0 2 3\\n2 3 -20\\n3 4 3\\n4 0 -5\\n1 9 1\\n5 4 5\\n1 3 2\\n3 12 -2\\n0 6 30\\n7 8\\n0 2 3\\n2 3 -20\\n3 8 3\\n4 1 -5\\n1 5 1\\n5 4 5\\n1 0 2\\n3 6 -2\\n0 6 20\\n4 4\\n0 1 -10\\n1 2 -50\\n2 1 51\\n1 3 1\\n1 3 20\\n11 14\\n0 1 -49\\n1 2 1\\n2 3 40\\n3 1 -40\\n1 4 -9\\n4 5 40\\n1 1 -30\\n1 6 -14\\n5 7 40\\n7 1 -20\\n1 8 -30\\n8 9 40\\n9 1 -6\\n1 10 0\\n0 10 22\\n3 4\\n0 1 -49\\n1 3 12\\n2 1 50\\n3 1 10\\n0 1 50\\n0 0', '79': '7 8\\n0 0 3\\n2 3 -20\\n3 4 3\\n4 1 -5\\n1 5 1\\n5 4 5\\n1 3 2\\n3 6 -2\\n0 6 30\\n7 8\\n0 2 3\\n2 3 -20\\n3 4 3\\n4 1 -5\\n1 5 1\\n5 4 5\\n1 3 2\\n3 6 -2\\n0 6 20\\n4 4\\n0 1 -10\\n1 2 -50\\n2 1 51\\n1 3 1\\n0 3 20\\n11 14\\n0 1 -49\\n1 2 1\\n2 3 40\\n3 1 -40\\n1 4 -9\\n4 5 40\\n5 1 -30\\n1 6 -19\\n6 7 40\\n7 1 -20\\n1 8 -30\\n8 9 40\\n9 1 -9\\n1 10 1\\n0 10 50\\n3 4\\n0 0 -49\\n1 2 10\\n2 0 50\\n2 1 10\\n0 1 50\\n0 0', '36': '7 8\\n0 2 3\\n2 3 -20\\n3 4 3\\n5 1 -5\\n1 5 1\\n5 4 5\\n1 3 2\\n3 6 -2\\n0 6 30\\n7 8\\n0 2 3\\n2 3 -20\\n3 4 3\\n4 0 -5\\n1 5 1\\n5 4 5\\n1 3 2\\n3 6 -2\\n0 6 20\\n4 4\\n0 1 -10\\n1 2 -50\\n2 1 51\\n1 3 1\\n0 3 20\\n11 14\\n0 1 -49\\n1 2 1\\n2 3 40\\n3 1 -40\\n1 4 -9\\n4 5 21\\n5 1 -30\\n1 6 -19\\n11 7 40\\n7 1 -20\\n1 8 -30\\n8 7 40\\n9 1 -9\\n1 10 1\\n0 10 50\\n3 4\\n0 1 -79\\n1 2 10\\n2 0 50\\n2 1 10\\n0 1 44\\n0 0', '41': '7 8\\n0 2 3\\n2 3 -35\\n3 4 3\\n4 1 -5\\n1 5 1\\n5 4 5\\n1 3 2\\n3 6 -2\\n0 6 30\\n7 8\\n0 2 3\\n2 3 -20\\n3 4 3\\n4 1 -5\\n1 5 1\\n5 4 5\\n0 3 2\\n3 6 -2\\n0 6 40\\n4 4\\n0 1 -10\\n1 2 -50\\n2 1 51\\n1 3 1\\n0 3 20\\n11 14\\n0 1 -49\\n1 2 1\\n2 3 40\\n3 1 -40\\n0 4 -9\\n4 5 40\\n5 1 -30\\n1 6 -19\\n10 7 40\\n7 1 -20\\n1 8 -30\\n8 9 40\\n9 1 -9\\n1 10 1\\n0 10 50\\n3 4\\n0 1 -101\\n1 1 10\\n2 0 50\\n2 1 10\\n0 1 50\\n0 0', '92': '7 8\\n0 2 3\\n2 3 -20\\n3 4 3\\n4 1 -5\\n1 5 1\\n5 4 5\\n1 3 2\\n3 6 -2\\n0 6 30\\n7 8\\n0 2 3\\n2 3 -20\\n3 4 3\\n4 1 -5\\n1 5 1\\n5 4 5\\n1 0 2\\n3 6 -2\\n0 6 20\\n4 4\\n0 1 -17\\n1 2 -50\\n2 1 51\\n1 3 1\\n0 3 20\\n11 14\\n0 1 -49\\n1 2 1\\n2 3 40\\n3 1 -40\\n1 4 -9\\n4 5 40\\n5 1 -30\\n1 6 -19\\n6 7 40\\n7 1 -20\\n1 8 -30\\n8 9 40\\n9 1 -9\\n1 10 1\\n0 10 50\\n3 4\\n0 1 -49\\n1 2 10\\n2 0 50\\n2 2 11\\n0 1 50\\n0 0', '90': '7 8\\n0 2 3\\n2 3 -20\\n3 4 3\\n4 1 -5\\n1 5 1\\n5 4 5\\n1 3 2\\n3 6 -2\\n0 6 30\\n7 8\\n0 2 3\\n2 3 -20\\n3 4 3\\n4 1 -5\\n1 5 1\\n5 4 5\\n1 3 2\\n3 6 -2\\n0 6 20\\n4 4\\n0 1 -10\\n1 2 -50\\n2 1 51\\n1 3 1\\n0 3 20\\n11 14\\n0 1 -49\\n1 2 1\\n2 3 40\\n3 1 -40\\n1 4 -9\\n4 5 40\\n5 1 -30\\n1 6 -19\\n6 7 40\\n7 1 -20\\n1 8 -30\\n8 9 40\\n9 1 -9\\n1 10 1\\n0 10 50\\n3 4\\n0 1 -79\\n1 1 10\\n2 0 50\\n2 1 10\\n0 1 50\\n0 0', '8': '7 8\\n0 2 3\\n2 3 -20\\n3 4 3\\n4 0 -5\\n1 5 1\\n5 4 5\\n1 3 2\\n3 6 -2\\n0 6 30\\n7 8\\n0 2 3\\n2 3 -20\\n3 4 3\\n4 1 -5\\n1 5 1\\n5 4 5\\n1 0 2\\n3 6 -2\\n0 6 20\\n4 4\\n0 1 -10\\n1 2 -50\\n2 1 51\\n1 3 1\\n0 3 20\\n11 14\\n0 1 -49\\n1 2 1\\n2 3 40\\n3 1 -40\\n1 4 -9\\n4 5 40\\n5 1 -30\\n1 6 -19\\n6 7 40\\n7 1 -20\\n1 8 -30\\n8 9 40\\n9 1 -9\\n1 10 0\\n0 10 50\\n3 4\\n0 1 -49\\n1 3 10\\n2 0 50\\n2 1 10\\n0 1 50\\n0 0', '71': '14 8\\n0 2 3\\n2 4 -20\\n3 4 3\\n4 1 -5\\n1 9 1\\n5 4 5\\n1 3 2\\n3 12 -2\\n0 6 30\\n7 8\\n0 2 3\\n2 3 -16\\n3 8 3\\n6 1 -8\\n2 5 1\\n0 4 0\\n1 -1 2\\n3 6 -4\\n-1 0 20\\n4 4\\n0 1 -10\\n1 2 -50\\n2 1 51\\n1 3 1\\n1 3 26\\n11 14\\n0 1 -49\\n1 2 1\\n2 3 40\\n3 1 -40\\n1 4 -9\\n6 6 69\\n1 1 -30\\n1 6 -21\\n5 7 40\\n7 1 -10\\n1 8 -30\\n8 9 40\\n2 1 -6\\n1 10 0\\n-1 10 22\\n3 4\\n0 1 -94\\n1 3 12\\n2 1 50\\n3 1 26\\n0 1 50\\n0 0', '46': '7 8\\n0 2 3\\n2 2 -20\\n3 4 3\\n4 0 -5\\n1 5 1\\n5 4 5\\n1 3 3\\n3 6 -2\\n0 6 30\\n7 8\\n0 2 3\\n2 3 -20\\n3 4 3\\n4 1 -5\\n1 5 1\\n5 4 5\\n1 0 2\\n3 6 -3\\n0 6 20\\n4 4\\n0 1 -10\\n1 2 -44\\n2 1 51\\n1 3 1\\n0 3 20\\n11 14\\n0 1 -49\\n1 2 1\\n2 3 40\\n3 1 -40\\n1 4 -9\\n4 5 40\\n1 1 -30\\n1 6 -19\\n6 7 40\\n7 1 -20\\n1 8 -30\\n8 9 40\\n9 1 -9\\n1 10 1\\n0 10 50\\n3 4\\n0 1 -49\\n1 2 10\\n2 0 50\\n2 1 10\\n0 1 50\\n0 0', '7': '7 8\\n0 2 3\\n2 3 -20\\n3 4 3\\n4 1 -5\\n1 5 1\\n5 4 5\\n1 3 2\\n3 6 -2\\n0 6 30\\n7 8\\n0 2 3\\n2 3 -20\\n3 4 3\\n4 1 -5\\n1 5 1\\n5 4 5\\n1 0 2\\n3 6 -2\\n0 6 20\\n4 4\\n0 1 -17\\n1 2 -50\\n2 2 51\\n1 3 1\\n1 3 20\\n11 14\\n0 1 -49\\n1 2 1\\n2 3 40\\n3 1 -40\\n1 4 -9\\n4 5 40\\n5 1 -30\\n1 6 -19\\n6 7 40\\n7 1 -20\\n1 8 -30\\n8 9 40\\n9 1 -9\\n1 10 1\\n0 10 50\\n3 4\\n0 1 -49\\n1 2 10\\n2 0 50\\n2 1 11\\n0 1 50\\n0 0', '25': '7 8\\n0 2 3\\n2 3 -35\\n3 4 3\\n4 1 -5\\n1 5 1\\n5 4 5\\n1 3 2\\n3 6 -2\\n0 6 30\\n7 8\\n0 2 3\\n2 3 -20\\n3 4 3\\n4 1 -5\\n1 5 1\\n5 4 5\\n0 3 2\\n3 6 -2\\n0 6 20\\n4 4\\n0 1 -10\\n1 2 -50\\n2 1 51\\n1 3 1\\n0 3 20\\n11 14\\n0 1 -49\\n1 2 1\\n2 3 40\\n3 1 -40\\n0 4 -9\\n4 5 40\\n5 1 -30\\n1 6 -19\\n6 7 40\\n7 1 -20\\n1 8 -30\\n8 9 40\\n9 1 -9\\n1 10 1\\n0 10 50\\n3 4\\n0 1 -101\\n1 1 10\\n2 0 50\\n2 1 10\\n0 1 50\\n0 0', '69': '9 8\\n0 2 3\\n2 4 -20\\n3 4 3\\n4 0 -5\\n1 9 1\\n5 4 5\\n1 3 2\\n3 12 -2\\n0 6 30\\n7 8\\n0 2 3\\n2 3 -20\\n3 8 3\\n4 1 -8\\n1 5 1\\n0 4 5\\n1 0 2\\n3 6 -2\\n0 0 20\\n4 4\\n0 1 -10\\n1 2 -50\\n2 1 51\\n1 3 1\\n1 3 20\\n11 14\\n0 1 -49\\n1 2 1\\n2 3 40\\n3 1 -40\\n1 4 -9\\n6 5 40\\n1 1 -30\\n1 6 -21\\n5 7 40\\n7 1 -10\\n1 8 -30\\n8 9 40\\n9 1 -6\\n1 10 0\\n-1 10 22\\n3 4\\n0 1 -94\\n1 3 12\\n2 1 50\\n3 1 17\\n0 1 50\\n0 0', '60': '7 8\\n0 2 3\\n2 3 -20\\n3 4 3\\n4 0 -5\\n1 0 1\\n5 3 5\\n1 3 2\\n2 6 -2\\n0 6 30\\n7 8\\n0 2 3\\n2 3 -20\\n3 4 3\\n4 1 -5\\n1 5 1\\n3 8 5\\n0 0 2\\n3 6 -2\\n0 6 20\\n4 4\\n0 1 -10\\n1 2 -50\\n2 1 51\\n1 3 1\\n0 3 20\\n11 14\\n0 1 -49\\n1 2 1\\n2 3 40\\n3 1 -40\\n2 4 -9\\n4 5 40\\n5 2 -30\\n1 6 -19\\n6 7 40\\n7 1 -20\\n1 8 -30\\n8 9 40\\n10 1 -9\\n1 13 1\\n0 10 50\\n3 4\\n0 1 -49\\n1 3 10\\n2 0 70\\n2 1 10\\n0 1 61\\n0 0', '77': '7 8\\n0 2 3\\n2 3 -20\\n3 4 3\\n6 1 -5\\n1 5 1\\n5 4 5\\n1 3 2\\n3 6 -2\\n0 6 30\\n7 8\\n0 2 3\\n2 3 -20\\n3 4 3\\n4 1 -5\\n1 5 1\\n5 4 5\\n0 3 2\\n3 6 -2\\n0 6 20\\n4 4\\n0 1 -10\\n1 2 -50\\n2 1 51\\n1 3 1\\n0 1 14\\n11 14\\n0 1 -49\\n1 2 1\\n2 3 40\\n3 1 -40\\n1 4 -9\\n4 5 40\\n5 1 -30\\n1 6 -19\\n6 7 40\\n7 1 -20\\n1 8 -30\\n8 9 40\\n9 1 -9\\n1 10 1\\n0 10 50\\n3 4\\n0 1 -101\\n0 1 10\\n2 0 50\\n2 1 10\\n0 1 50\\n0 0', '56': '7 8\\n0 1 3\\n2 3 -35\\n3 4 3\\n4 1 -5\\n1 5 1\\n5 4 5\\n1 3 2\\n3 6 -2\\n0 6 30\\n7 8\\n0 2 3\\n2 3 -20\\n3 4 3\\n4 1 -5\\n1 5 1\\n5 4 5\\n0 3 2\\n3 3 -2\\n0 6 40\\n4 4\\n0 1 -10\\n1 2 -50\\n2 1 51\\n1 3 1\\n0 3 20\\n11 14\\n0 1 -49\\n1 2 1\\n2 3 40\\n3 1 -40\\n0 4 -9\\n4 5 40\\n5 1 -30\\n1 6 -19\\n10 7 40\\n12 1 -20\\n1 8 -30\\n8 9 40\\n9 1 -9\\n1 10 1\\n0 10 50\\n3 4\\n0 1 -101\\n1 1 10\\n2 0 50\\n0 1 10\\n0 1 50\\n0 0', '4': '7 8\\n0 2 3\\n2 3 -20\\n3 4 3\\n4 1 -5\\n1 5 1\\n5 4 5\\n1 3 2\\n3 6 -2\\n0 6 30\\n7 8\\n0 2 3\\n2 3 -20\\n3 4 3\\n4 1 -5\\n1 5 1\\n5 4 5\\n1 3 2\\n3 6 -2\\n0 6 20\\n4 4\\n0 1 -10\\n1 2 -50\\n2 1 51\\n1 3 1\\n0 3 20\\n11 14\\n0 1 -49\\n1 2 1\\n2 3 40\\n3 1 -40\\n1 4 -9\\n4 5 40\\n5 1 -30\\n1 6 -19\\n11 7 40\\n7 1 -20\\n1 8 -30\\n8 9 40\\n9 1 -9\\n1 10 1\\n0 10 50\\n3 4\\n0 1 -79\\n1 2 10\\n2 0 50\\n2 1 10\\n0 1 50\\n0 0', '98': '7 8\\n0 2 3\\n2 3 -20\\n3 4 3\\n4 1 -5\\n1 5 1\\n5 4 5\\n1 3 2\\n3 6 -2\\n0 6 30\\n7 8\\n0 2 3\\n2 3 -20\\n3 4 3\\n4 1 -5\\n1 5 1\\n5 4 5\\n1 3 2\\n3 6 -2\\n0 6 20\\n4 4\\n0 1 -10\\n1 2 -50\\n2 1 51\\n1 3 1\\n0 3 20\\n11 14\\n0 1 -49\\n1 2 1\\n2 3 40\\n3 1 -40\\n1 4 -9\\n4 5 40\\n5 1 -30\\n1 6 -19\\n11 7 40\\n7 1 -20\\n1 8 -30\\n8 7 40\\n9 1 -9\\n1 10 1\\n0 10 50\\n3 4\\n0 1 -79\\n1 2 10\\n2 0 50\\n2 1 10\\n0 1 44\\n0 0', '31': '7 8\\n0 0 3\\n2 3 -20\\n3 4 3\\n4 1 -10\\n1 5 1\\n5 4 5\\n1 3 2\\n3 6 -2\\n0 6 30\\n7 8\\n0 2 3\\n2 3 -20\\n3 4 3\\n4 1 -5\\n1 5 1\\n5 4 5\\n1 3 2\\n3 6 -2\\n0 6 20\\n4 4\\n0 1 -10\\n1 2 -50\\n2 1 51\\n1 3 1\\n0 3 20\\n11 14\\n0 1 -49\\n1 2 1\\n2 3 40\\n3 1 -40\\n1 4 -9\\n4 5 40\\n5 1 -30\\n1 6 -19\\n6 7 40\\n7 1 -20\\n1 8 -30\\n8 9 40\\n9 1 -9\\n1 10 2\\n0 10 50\\n3 4\\n0 1 -49\\n1 2 10\\n2 0 50\\n2 1 10\\n0 1 50\\n0 0', '35': '7 8\\n0 2 3\\n2 3 -20\\n3 4 3\\n4 1 -5\\n2 5 1\\n5 4 5\\n1 3 2\\n3 6 -2\\n0 6 30\\n7 8\\n0 2 3\\n2 3 -20\\n3 4 3\\n4 1 -5\\n1 5 1\\n5 4 5\\n1 0 2\\n3 6 -2\\n0 6 20\\n4 4\\n0 1 -17\\n1 2 -50\\n2 2 51\\n1 3 0\\n1 3 20\\n11 14\\n0 1 -49\\n1 2 1\\n2 3 40\\n3 1 -40\\n1 4 -9\\n4 5 40\\n5 1 -30\\n1 6 -19\\n6 2 40\\n7 1 -20\\n1 8 -30\\n8 9 40\\n9 1 -9\\n1 10 1\\n0 10 50\\n3 4\\n0 1 -49\\n1 2 10\\n2 0 50\\n2 1 11\\n0 1 50\\n0 0', '96': '7 8\\n0 2 3\\n2 3 -20\\n3 4 3\\n4 1 -5\\n1 5 1\\n5 4 5\\n1 3 2\\n3 6 -2\\n0 6 30\\n7 8\\n0 2 3\\n2 3 -20\\n3 4 3\\n4 1 -5\\n1 5 1\\n5 4 5\\n1 3 2\\n3 6 -2\\n0 6 20\\n4 4\\n0 1 -10\\n1 2 -50\\n2 1 51\\n1 3 1\\n0 3 20\\n11 14\\n0 1 -49\\n1 2 1\\n2 3 40\\n3 1 -40\\n1 4 -9\\n4 5 40\\n5 1 -30\\n1 6 -19\\n11 7 40\\n7 1 -20\\n1 8 -30\\n8 7 40\\n9 1 -9\\n1 10 1\\n0 10 50\\n3 4\\n0 1 -79\\n1 2 10\\n2 0 50\\n2 1 10\\n0 1 50\\n0 0', '47': '7 8\\n0 2 3\\n2 3 -35\\n3 4 3\\n4 1 -5\\n1 5 1\\n5 4 5\\n1 3 2\\n3 6 -2\\n0 6 30\\n7 8\\n0 2 3\\n2 3 -20\\n3 4 3\\n4 1 -5\\n1 5 1\\n5 4 5\\n0 3 2\\n3 6 -2\\n0 6 40\\n4 4\\n0 1 -10\\n1 2 -50\\n2 1 51\\n1 3 1\\n0 3 20\\n11 14\\n0 1 -49\\n1 2 1\\n2 3 40\\n3 1 -40\\n0 4 -9\\n4 5 40\\n5 1 -30\\n1 6 -19\\n10 7 40\\n7 1 -20\\n1 8 -30\\n8 9 40\\n9 1 -9\\n1 10 1\\n0 10 50\\n3 4\\n0 1 -101\\n1 1 10\\n2 0 50\\n0 1 10\\n0 1 50\\n0 0', '17': '7 8\\n0 2 3\\n2 3 -20\\n6 4 3\\n4 1 -5\\n1 5 1\\n5 4 5\\n1 3 2\\n3 6 -2\\n0 6 30\\n7 8\\n0 2 3\\n2 3 -20\\n3 4 3\\n4 1 -5\\n1 5 1\\n2 4 5\\n1 0 2\\n3 6 -2\\n0 6 20\\n4 4\\n0 1 -17\\n1 2 -50\\n2 1 51\\n1 3 1\\n0 3 20\\n11 14\\n0 1 -49\\n1 2 1\\n2 3 40\\n3 1 -40\\n1 4 -9\\n4 5 40\\n5 1 -30\\n1 6 -19\\n6 7 40\\n7 1 -20\\n1 8 -30\\n8 9 40\\n9 1 -9\\n1 10 1\\n0 10 50\\n3 4\\n0 1 -49\\n1 2 10\\n2 0 50\\n2 2 11\\n0 1 50\\n0 0', '32': '7 8\\n0 2 3\\n2 3 -20\\n3 4 3\\n4 1 -5\\n1 5 1\\n5 4 5\\n1 3 2\\n3 6 -2\\n0 6 30\\n7 8\\n0 2 3\\n2 3 -20\\n3 4 3\\n4 1 -5\\n1 5 1\\n5 4 5\\n1 0 2\\n3 6 -2\\n0 6 20\\n4 4\\n0 1 -17\\n1 0 -50\\n2 1 51\\n1 3 1\\n0 3 20\\n11 14\\n0 1 -49\\n1 2 1\\n2 3 40\\n3 1 -40\\n1 4 -9\\n4 5 40\\n5 1 -30\\n1 6 -19\\n6 7 40\\n7 1 -20\\n1 8 -30\\n8 9 40\\n9 1 -9\\n1 10 1\\n0 10 50\\n3 4\\n0 1 -49\\n1 2 10\\n0 0 50\\n2 1 10\\n0 1 40\\n0 0', '6': '7 8\\n0 2 3\\n2 3 -20\\n3 4 3\\n4 1 -5\\n1 5 1\\n5 4 5\\n1 3 2\\n3 6 -2\\n0 6 30\\n7 8\\n0 2 3\\n2 3 -20\\n3 4 3\\n4 1 -5\\n1 5 1\\n5 4 5\\n0 3 2\\n3 6 -2\\n0 6 20\\n4 4\\n0 1 -10\\n1 2 -50\\n2 1 51\\n1 3 1\\n0 3 14\\n11 14\\n0 1 -49\\n1 2 1\\n2 3 40\\n3 1 -40\\n1 4 -9\\n4 5 40\\n5 1 -30\\n1 6 -19\\n6 7 40\\n7 1 -20\\n1 8 -30\\n8 9 40\\n9 1 -9\\n1 10 1\\n0 10 50\\n3 4\\n0 1 -101\\n1 1 10\\n2 0 50\\n2 1 10\\n0 1 50\\n0 0', '83': '7 8\\n0 2 3\\n2 3 -15\\n3 4 3\\n4 1 -5\\n1 5 1\\n5 4 5\\n1 3 2\\n3 6 -2\\n0 6 30\\n7 8\\n0 2 3\\n2 3 -20\\n3 4 3\\n4 1 -5\\n1 5 1\\n5 4 5\\n0 3 2\\n3 6 -2\\n0 6 20\\n4 4\\n0 1 -10\\n1 2 -50\\n2 1 51\\n1 3 1\\n0 3 14\\n11 14\\n0 1 -49\\n1 0 1\\n2 3 40\\n3 1 -40\\n1 4 -9\\n4 5 40\\n5 1 -30\\n1 6 -19\\n6 7 40\\n7 1 -20\\n1 8 -30\\n8 9 40\\n9 1 -9\\n1 10 1\\n0 10 50\\n3 4\\n0 1 -101\\n1 1 10\\n2 0 50\\n2 1 10\\n0 1 50\\n0 0', '15': '7 8\\n0 0 3\\n2 3 -20\\n3 4 3\\n4 1 -5\\n1 5 1\\n5 4 5\\n1 3 2\\n3 6 -2\\n0 6 30\\n7 8\\n0 2 3\\n2 3 -20\\n3 4 3\\n4 1 -5\\n1 5 1\\n5 4 5\\n1 3 2\\n3 6 -2\\n0 6 20\\n4 4\\n0 1 -10\\n1 2 -50\\n2 1 51\\n1 3 1\\n0 3 20\\n11 14\\n0 1 -49\\n1 2 1\\n2 3 40\\n3 1 -40\\n1 4 -9\\n4 5 40\\n5 1 -30\\n1 6 -19\\n6 7 40\\n7 1 -20\\n1 8 -30\\n8 9 40\\n9 1 -9\\n1 10 1\\n0 10 50\\n3 4\\n0 1 -49\\n1 2 10\\n2 0 50\\n2 1 10\\n0 1 50\\n0 0', '58': '7 8\\n0 2 3\\n2 2 -20\\n3 4 3\\n4 0 -5\\n1 5 1\\n5 4 1\\n1 3 3\\n3 6 -2\\n0 0 30\\n7 8\\n0 2 3\\n2 3 -20\\n3 4 3\\n4 1 -5\\n1 5 1\\n5 4 5\\n1 0 2\\n3 6 -3\\n0 6 20\\n4 4\\n0 1 -10\\n1 2 -44\\n2 1 51\\n1 3 1\\n0 3 20\\n11 14\\n0 1 -49\\n1 2 1\\n2 5 40\\n3 1 -40\\n1 4 -9\\n4 5 40\\n1 1 -30\\n1 6 -19\\n6 7 40\\n7 1 -20\\n0 8 -30\\n8 9 31\\n9 1 -9\\n1 10 1\\n0 10 50\\n3 4\\n0 1 -49\\n1 2 10\\n2 0 50\\n2 1 10\\n-1 1 50\\n0 0', '67': '7 8\\n0 2 3\\n2 3 -20\\n3 4 0\\n4 0 -5\\n1 0 1\\n5 3 5\\n1 3 2\\n2 6 -2\\n0 2 30\\n7 8\\n0 2 3\\n2 3 -20\\n3 4 3\\n4 1 -5\\n1 5 1\\n3 8 5\\n0 0 2\\n3 6 -2\\n0 6 20\\n4 4\\n0 1 -10\\n1 2 -50\\n2 1 51\\n1 3 1\\n0 3 20\\n11 14\\n0 1 -4\\n1 2 1\\n2 3 40\\n3 1 -40\\n2 4 -9\\n4 0 40\\n5 2 -30\\n1 6 -19\\n6 7 40\\n7 1 -20\\n1 8 -30\\n8 9 40\\n10 1 -9\\n1 13 1\\n0 10 50\\n3 4\\n0 1 -49\\n1 3 10\\n2 0 70\\n2 1 10\\n0 1 61\\n0 0', '51': '7 8\\n0 2 3\\n2 3 -20\\n3 4 3\\n4 0 -5\\n1 5 1\\n5 4 5\\n1 3 2\\n3 6 -2\\n0 6 30\\n7 8\\n0 2 3\\n2 3 -20\\n3 4 3\\n4 1 -5\\n1 5 1\\n5 4 0\\n1 3 2\\n3 6 -2\\n0 6 20\\n4 4\\n0 1 -10\\n1 2 -41\\n2 1 20\\n1 3 1\\n0 3 20\\n11 14\\n0 1 -35\\n1 2 1\\n2 3 40\\n3 1 -40\\n1 4 -15\\n4 5 40\\n5 1 -30\\n1 6 -19\\n6 7 40\\n7 1 -20\\n1 10 -30\\n8 9 40\\n9 1 -9\\n1 10 1\\n0 10 50\\n3 4\\n0 1 -79\\n1 2 10\\n2 0 50\\n2 1 10\\n0 1 50\\n0 0', '48': '7 8\\n0 2 3\\n2 2 -20\\n3 4 3\\n4 0 -5\\n1 5 1\\n5 4 5\\n1 3 3\\n3 6 -2\\n0 6 30\\n7 8\\n0 2 3\\n2 3 -20\\n3 4 3\\n4 1 -5\\n1 5 1\\n5 4 5\\n1 0 2\\n3 6 -3\\n0 6 20\\n4 4\\n0 1 -10\\n1 2 -44\\n2 1 51\\n1 3 1\\n0 3 20\\n11 14\\n0 1 -49\\n1 2 1\\n2 5 40\\n3 1 -40\\n1 4 -9\\n4 5 40\\n1 1 -30\\n1 6 -19\\n6 7 40\\n7 1 -20\\n1 8 -30\\n8 9 40\\n9 1 -9\\n1 10 1\\n0 10 50\\n3 4\\n0 1 -49\\n1 2 10\\n2 0 50\\n2 1 10\\n0 1 50\\n0 0', '81': '7 8\\n0 2 3\\n2 3 -20\\n3 4 3\\n4 1 -5\\n1 5 1\\n5 4 5\\n1 3 2\\n3 6 -2\\n0 6 30\\n7 8\\n0 2 3\\n2 3 -20\\n3 4 3\\n4 1 -5\\n1 5 1\\n5 4 5\\n1 0 2\\n3 6 -2\\n0 6 20\\n4 4\\n0 1 -17\\n1 2 -50\\n2 1 51\\n1 3 1\\n0 3 20\\n11 14\\n0 1 -49\\n1 2 1\\n2 1 40\\n3 1 -40\\n1 4 -9\\n4 5 40\\n5 1 -30\\n1 6 -19\\n6 7 40\\n7 1 -20\\n1 8 -30\\n8 9 40\\n9 1 -9\\n1 10 1\\n0 10 50\\n3 4\\n0 1 -49\\n1 2 10\\n0 0 50\\n2 1 10\\n0 1 50\\n0 0', '70': '9 8\\n0 2 3\\n2 4 -20\\n3 4 3\\n4 0 -5\\n1 9 1\\n5 4 5\\n1 3 2\\n3 12 -2\\n0 6 30\\n7 8\\n0 2 3\\n2 3 -20\\n3 8 3\\n4 1 -8\\n1 5 1\\n0 4 5\\n1 0 2\\n3 6 -2\\n0 0 20\\n4 4\\n0 1 -10\\n1 2 -50\\n2 1 51\\n1 3 1\\n1 3 26\\n11 14\\n0 1 -49\\n1 2 1\\n2 3 40\\n3 1 -40\\n1 4 -9\\n6 5 40\\n1 1 -30\\n1 6 -21\\n5 7 40\\n7 1 -10\\n1 8 -30\\n8 9 40\\n9 1 -6\\n1 10 0\\n-1 10 22\\n3 4\\n0 1 -94\\n1 3 12\\n2 1 50\\n3 1 17\\n0 1 50\\n0 0', '19': '7 8\\n0 2 3\\n2 3 -20\\n3 4 3\\n5 1 -5\\n1 5 1\\n5 4 5\\n1 3 2\\n3 6 -2\\n0 6 30\\n7 8\\n0 2 3\\n2 3 -20\\n3 4 3\\n4 1 -5\\n1 5 1\\n5 4 5\\n1 3 2\\n3 6 -2\\n0 6 20\\n4 4\\n0 1 -10\\n1 2 -50\\n2 1 51\\n1 3 1\\n0 3 20\\n11 14\\n0 1 -49\\n1 2 1\\n2 3 40\\n3 1 -40\\n1 4 -9\\n4 5 40\\n5 1 -30\\n1 6 -19\\n11 7 40\\n7 1 -20\\n1 8 -30\\n8 7 40\\n9 1 -9\\n1 10 1\\n0 10 50\\n3 4\\n0 1 -79\\n1 2 10\\n2 0 50\\n2 1 10\\n0 1 44\\n0 0', '14': '7 8\\n0 2 3\\n2 3 -20\\n3 4 3\\n4 1 -5\\n1 5 1\\n5 4 5\\n1 3 2\\n3 6 -2\\n0 6 30\\n7 8\\n0 2 3\\n2 3 -20\\n3 4 3\\n4 1 -5\\n1 5 1\\n5 4 5\\n0 3 2\\n3 6 -2\\n0 6 20\\n4 4\\n0 1 -10\\n1 2 -50\\n2 1 51\\n1 3 1\\n0 1 14\\n11 14\\n0 1 -49\\n1 2 1\\n2 3 40\\n3 1 -40\\n1 4 -9\\n4 5 40\\n5 1 -30\\n1 6 -19\\n6 7 40\\n7 1 -20\\n1 8 -30\\n8 9 40\\n9 1 -9\\n1 10 1\\n0 10 50\\n3 4\\n0 1 -101\\n0 1 10\\n2 0 50\\n2 1 10\\n0 1 84\\n0 0', '1': '7 8\\n0 2 3\\n2 3 -20\\n3 4 3\\n4 1 -5\\n1 5 1\\n5 4 5\\n1 3 2\\n3 6 -2\\n0 6 30\\n7 8\\n0 2 3\\n2 3 -20\\n3 4 3\\n4 1 -5\\n1 5 1\\n5 4 5\\n1 0 2\\n3 6 -2\\n0 6 20\\n4 4\\n0 1 -10\\n1 2 -50\\n2 1 51\\n1 3 1\\n0 3 20\\n11 14\\n0 1 -49\\n1 2 1\\n2 3 40\\n3 1 -40\\n1 4 -9\\n4 5 40\\n5 1 -30\\n1 6 -19\\n6 7 40\\n7 1 -20\\n1 8 -30\\n8 9 40\\n9 1 -9\\n1 10 1\\n0 10 50\\n3 4\\n0 1 -49\\n1 2 10\\n2 0 50\\n2 1 10\\n0 1 50\\n0 0', '86': '7 8\\n0 2 3\\n2 3 -20\\n3 4 3\\n4 1 -5\\n1 5 1\\n5 4 5\\n1 3 2\\n3 6 -2\\n0 6 30\\n7 8\\n0 2 3\\n2 3 -20\\n0 4 3\\n4 1 -5\\n1 5 1\\n5 4 5\\n1 3 2\\n3 6 -2\\n0 6 20\\n4 4\\n0 1 -10\\n1 0 -50\\n2 1 51\\n1 3 1\\n0 3 20\\n11 14\\n0 1 -49\\n1 2 1\\n2 3 40\\n3 1 -40\\n1 4 -9\\n4 5 40\\n5 1 -30\\n1 6 -19\\n6 7 40\\n7 1 -20\\n1 8 -30\\n8 9 40\\n9 1 -9\\n1 10 1\\n0 10 50\\n3 4\\n0 1 -79\\n1 1 10\\n2 0 50\\n2 1 7\\n0 1 50\\n0 0', '95': '7 8\\n0 2 3\\n2 3 -20\\n3 4 3\\n4 1 -5\\n1 5 1\\n5 4 5\\n1 3 2\\n3 6 -2\\n0 6 30\\n7 8\\n0 2 3\\n2 3 -20\\n3 4 3\\n4 1 -5\\n1 5 1\\n2 4 5\\n1 0 2\\n3 6 -2\\n0 6 20\\n4 4\\n0 1 -17\\n1 2 -50\\n2 1 51\\n1 3 1\\n0 3 20\\n11 14\\n0 1 -49\\n1 2 1\\n2 3 40\\n3 1 -40\\n1 4 -9\\n4 5 40\\n5 1 -30\\n1 6 -19\\n6 7 40\\n7 1 -20\\n1 8 -30\\n8 9 40\\n9 1 -9\\n1 10 1\\n0 10 50\\n3 4\\n0 1 -49\\n1 2 10\\n2 0 50\\n2 2 11\\n0 1 50\\n0 0', '59': '7 8\\n0 2 3\\n2 3 -20\\n3 4 3\\n4 0 -10\\n1 5 1\\n5 4 5\\n1 3 2\\n3 6 -2\\n0 6 30\\n7 8\\n0 2 3\\n2 3 -20\\n5 4 3\\n4 1 -5\\n1 5 1\\n5 4 0\\n1 3 2\\n3 6 -2\\n0 6 32\\n4 4\\n0 1 -10\\n1 2 -41\\n2 1 20\\n1 3 1\\n0 3 20\\n11 14\\n0 1 -35\\n1 2 1\\n2 3 40\\n3 1 -40\\n1 4 -15\\n4 5 40\\n5 1 -30\\n1 6 -25\\n6 7 40\\n7 1 -20\\n1 10 -30\\n8 9 40\\n9 1 -9\\n1 10 1\\n0 10 50\\n3 4\\n0 1 -79\\n1 3 10\\n2 0 50\\n2 1 10\\n0 1 50\\n0 0', '99': '7 8\\n0 2 3\\n2 3 -20\\n3 4 3\\n4 1 -5\\n1 5 1\\n5 4 5\\n1 3 2\\n3 6 -2\\n0 6 30\\n7 8\\n0 2 3\\n2 3 -20\\n3 4 3\\n4 1 -5\\n1 5 1\\n5 4 5\\n1 3 2\\n3 6 -2\\n0 6 20\\n4 4\\n0 1 -10\\n1 2 -50\\n2 1 51\\n1 3 1\\n0 3 20\\n11 14\\n0 1 -49\\n1 2 1\\n2 3 40\\n3 1 -40\\n1 4 -9\\n4 5 40\\n5 1 -30\\n1 6 -19\\n11 7 40\\n7 1 -18\\n1 8 -30\\n8 7 40\\n9 1 -9\\n1 10 1\\n0 10 50\\n3 4\\n0 1 -79\\n1 2 10\\n2 0 50\\n2 1 10\\n0 1 44\\n0 0', '42': '7 8\\n0 2 3\\n2 3 -20\\n3 4 3\\n4 0 -5\\n1 5 1\\n5 4 5\\n1 3 2\\n2 6 -2\\n0 6 30\\n7 8\\n0 2 3\\n2 3 -20\\n3 4 3\\n4 1 -5\\n1 5 1\\n5 4 5\\n0 0 2\\n3 6 -2\\n0 6 20\\n4 4\\n0 1 -10\\n1 2 -50\\n2 1 51\\n1 3 1\\n0 3 20\\n11 14\\n0 1 -49\\n1 2 1\\n2 3 40\\n3 1 -40\\n2 4 -9\\n4 5 40\\n5 1 -30\\n1 6 -19\\n6 7 40\\n7 1 -20\\n1 8 -30\\n8 9 40\\n9 1 -9\\n1 13 1\\n0 10 50\\n3 4\\n0 1 -49\\n1 3 10\\n2 0 50\\n2 1 10\\n0 1 50\\n0 0', '39': '7 8\\n0 2 3\\n2 3 -20\\n3 4 3\\n4 1 -5\\n1 5 1\\n5 4 5\\n1 3 2\\n3 6 -2\\n0 6 56\\n7 8\\n0 2 3\\n2 3 -20\\n3 4 3\\n4 1 -5\\n1 5 1\\n5 4 5\\n0 3 2\\n3 6 -2\\n0 6 20\\n4 4\\n0 1 -10\\n1 2 -50\\n2 1 51\\n1 3 1\\n0 1 14\\n11 14\\n0 1 -49\\n1 2 1\\n2 3 40\\n3 1 -40\\n1 4 -9\\n4 5 40\\n5 1 -57\\n1 6 -19\\n9 7 40\\n7 1 -20\\n1 8 -30\\n8 9 40\\n9 1 -9\\n1 10 1\\n0 10 50\\n3 4\\n0 1 -101\\n0 1 10\\n2 0 67\\n2 1 10\\n0 1 84\\n0 0', '68': '7 8\\n0 2 3\\n2 3 -20\\n3 4 0\\n4 0 -5\\n1 0 1\\n5 3 5\\n1 3 2\\n2 6 -2\\n0 2 30\\n7 8\\n0 2 3\\n2 3 -20\\n3 4 3\\n4 1 -5\\n1 5 1\\n3 8 5\\n0 0 2\\n3 6 -2\\n0 6 20\\n4 4\\n0 1 -10\\n1 2 -50\\n2 1 51\\n1 3 1\\n0 3 20\\n11 14\\n0 1 -4\\n1 2 1\\n2 3 40\\n3 1 -40\\n2 4 -9\\n4 0 40\\n5 2 -30\\n1 6 -19\\n6 7 40\\n7 1 -20\\n1 8 -30\\n8 9 40\\n10 1 -9\\n1 13 1\\n0 10 50\\n3 4\\n0 1 -25\\n1 3 10\\n2 0 70\\n2 1 10\\n0 1 61\\n0 0', '64': '7 8\\n0 1 3\\n2 3 -15\\n3 4 6\\n4 1 -5\\n1 5 1\\n5 4 5\\n0 3 2\\n3 6 -2\\n0 6 30\\n7 8\\n0 2 3\\n2 3 -20\\n3 4 1\\n4 1 -5\\n1 5 1\\n5 4 5\\n0 3 2\\n3 6 -2\\n0 6 20\\n4 4\\n0 1 -11\\n1 2 -50\\n2 1 51\\n1 3 1\\n0 3 14\\n12 14\\n0 1 -49\\n1 2 1\\n3 3 40\\n5 1 -40\\n1 4 -9\\n4 5 40\\n5 1 -30\\n1 6 -19\\n6 7 40\\n7 1 -8\\n1 8 -30\\n16 9 40\\n9 1 -9\\n1 18 1\\n0 10 50\\n3 4\\n0 1 -101\\n1 1 10\\n1 0 41\\n2 1 10\\n0 1 50\\n0 0', '66': '7 8\\n0 1 3\\n2 3 -15\\n3 4 6\\n4 1 -5\\n1 5 1\\n5 4 5\\n0 3 2\\n3 6 -2\\n0 5 30\\n7 8\\n0 2 3\\n2 3 -20\\n3 4 1\\n4 1 -5\\n1 5 1\\n5 4 5\\n0 3 2\\n3 6 -2\\n0 6 20\\n4 4\\n0 1 -11\\n1 2 -50\\n2 1 51\\n1 3 1\\n0 3 14\\n12 14\\n0 1 -49\\n1 2 1\\n3 3 40\\n5 1 -40\\n1 4 -9\\n4 5 40\\n5 1 -30\\n1 6 -19\\n6 7 40\\n7 1 -8\\n1 8 -30\\n16 9 40\\n9 1 -9\\n1 18 1\\n0 10 50\\n3 4\\n0 1 -101\\n1 1 10\\n1 0 41\\n2 1 10\\n0 1 50\\n0 0', '9': '7 8\\n0 2 3\\n2 3 -20\\n3 4 3\\n4 1 -5\\n1 5 1\\n5 4 5\\n1 3 2\\n3 6 -2\\n0 6 30\\n7 8\\n0 2 3\\n2 3 -20\\n3 4 3\\n4 1 -5\\n1 5 1\\n5 4 5\\n0 3 2\\n3 6 -2\\n0 6 20\\n4 4\\n0 1 -10\\n1 2 -50\\n2 1 51\\n1 3 1\\n0 3 14\\n11 14\\n0 1 -49\\n1 2 1\\n2 3 40\\n3 1 -40\\n1 4 -9\\n4 5 40\\n5 1 -30\\n1 6 -19\\n6 7 40\\n7 1 -20\\n1 8 -30\\n8 9 40\\n9 1 -9\\n1 10 1\\n0 10 50\\n3 4\\n0 1 -101\\n0 1 10\\n2 0 50\\n2 1 10\\n0 1 50\\n0 0', '88': '7 8\\n0 2 3\\n2 3 -20\\n3 4 3\\n4 1 -5\\n2 5 1\\n5 4 5\\n1 3 2\\n3 6 -2\\n0 6 30\\n7 8\\n0 2 3\\n2 3 -20\\n3 4 3\\n4 1 -5\\n1 5 1\\n5 4 5\\n1 0 2\\n3 6 -2\\n0 6 25\\n4 4\\n0 1 -17\\n1 2 -50\\n2 2 51\\n1 3 0\\n1 3 20\\n11 14\\n0 1 -49\\n1 2 1\\n2 3 40\\n3 1 -40\\n1 4 -9\\n4 5 40\\n5 1 -30\\n1 6 -19\\n6 7 40\\n7 1 -20\\n1 8 -30\\n8 9 40\\n9 1 -9\\n1 10 1\\n0 10 50\\n3 4\\n0 1 -49\\n1 2 10\\n2 0 50\\n2 1 11\\n0 1 50\\n0 0', '0': '7 8\\n0 2 3\\n2 3 -20\\n3 4 3\\n4 1 -5\\n1 5 1\\n5 4 5\\n1 3 2\\n3 6 -2\\n0 6 30\\n7 8\\n0 2 3\\n2 3 -20\\n3 4 3\\n4 1 -5\\n1 5 1\\n5 4 5\\n1 3 2\\n3 6 -2\\n0 6 20\\n4 4\\n0 1 -10\\n1 2 -50\\n2 1 51\\n1 3 1\\n0 3 20\\n11 14\\n0 1 -49\\n1 2 1\\n2 3 40\\n3 1 -40\\n1 4 -9\\n4 5 40\\n5 1 -30\\n1 6 -19\\n6 7 40\\n7 1 -20\\n1 8 -30\\n8 9 40\\n9 1 -9\\n1 10 1\\n0 10 50\\n3 4\\n0 1 -79\\n1 2 10\\n2 0 50\\n2 1 10\\n0 1 50\\n0 0', '45': '7 8\\n0 2 3\\n2 3 -20\\n3 4 3\\n4 1 -5\\n1 5 1\\n5 4 5\\n1 3 2\\n3 6 -2\\n0 6 30\\n7 8\\n0 2 3\\n2 3 -20\\n3 4 3\\n4 1 -5\\n1 5 1\\n5 4 0\\n1 3 2\\n3 6 -2\\n0 6 20\\n4 4\\n0 1 -10\\n1 2 -41\\n2 1 51\\n1 3 1\\n0 3 20\\n11 14\\n0 1 -35\\n1 2 1\\n2 3 40\\n3 1 -40\\n1 4 -15\\n4 5 40\\n5 1 -30\\n1 6 -19\\n6 7 40\\n7 1 -20\\n1 10 -30\\n8 9 40\\n9 1 -9\\n1 10 1\\n0 10 50\\n3 4\\n0 1 -79\\n1 2 10\\n2 0 50\\n2 1 10\\n0 1 50\\n0 0', '43': '7 8\\n0 2 3\\n2 3 -20\\n3 4 3\\n4 1 -5\\n1 5 1\\n5 4 5\\n1 3 4\\n3 6 -2\\n0 6 30\\n7 8\\n0 2 3\\n2 3 -20\\n3 4 3\\n4 1 -5\\n1 5 1\\n5 4 5\\n0 3 2\\n3 3 -2\\n0 6 20\\n4 4\\n0 1 -10\\n1 2 -50\\n2 1 51\\n1 3 1\\n0 1 14\\n11 14\\n0 1 -49\\n1 2 1\\n2 3 40\\n3 1 -39\\n1 2 -9\\n4 5 40\\n5 1 -30\\n1 6 -19\\n6 7 40\\n7 1 -20\\n1 8 -30\\n8 9 40\\n9 1 -9\\n1 10 1\\n0 10 50\\n3 4\\n0 1 -101\\n0 1 10\\n2 0 50\\n2 1 10\\n0 1 84\\n0 0', '76': '7 8\\n0 2 3\\n2 3 -20\\n3 4 3\\n6 1 -5\\n1 5 1\\n5 4 5\\n1 3 2\\n3 6 -2\\n0 6 30\\n7 8\\n0 2 3\\n2 3 -20\\n3 4 3\\n4 1 -5\\n1 5 1\\n5 4 5\\n0 3 2\\n3 6 -2\\n0 6 20\\n4 4\\n0 1 -10\\n1 2 -50\\n2 1 51\\n1 3 1\\n0 3 14\\n11 14\\n0 1 -49\\n1 2 1\\n2 3 40\\n3 1 -40\\n1 4 -9\\n4 5 40\\n5 1 -30\\n1 6 -19\\n6 7 40\\n7 1 -20\\n1 8 -30\\n8 9 40\\n9 1 -9\\n1 10 1\\n0 10 50\\n3 4\\n0 1 -101\\n1 1 10\\n2 0 50\\n2 1 10\\n0 1 50\\n0 0', '72': '7 8\\n0 2 3\\n2 3 -20\\n3 4 3\\n4 1 -5\\n1 5 1\\n5 4 5\\n1 3 2\\n3 6 -2\\n0 6 30\\n7 8\\n0 2 3\\n2 3 -20\\n3 4 3\\n4 1 -5\\n1 5 1\\n5 4 5\\n0 3 2\\n3 6 -2\\n0 6 20\\n4 4\\n0 1 -10\\n1 2 -50\\n2 1 51\\n1 3 1\\n0 3 20\\n11 14\\n0 1 -49\\n1 2 1\\n2 3 40\\n3 1 -40\\n1 4 -9\\n4 5 40\\n5 1 -30\\n1 6 -19\\n6 7 40\\n7 1 -20\\n1 8 -30\\n8 9 40\\n9 1 -9\\n1 2 1\\n0 10 50\\n3 4\\n0 1 -79\\n1 1 10\\n2 0 50\\n2 1 10\\n0 1 50\\n0 0', '85': '7 8\\n0 2 3\\n2 3 -20\\n3 4 3\\n4 0 -5\\n1 9 1\\n5 4 5\\n1 3 2\\n3 6 -2\\n0 6 30\\n7 8\\n0 2 3\\n2 3 -20\\n3 4 3\\n4 1 -5\\n1 5 1\\n5 4 5\\n1 0 2\\n3 6 -2\\n0 6 20\\n4 4\\n0 1 -10\\n1 2 -50\\n2 1 51\\n1 3 1\\n0 3 20\\n11 14\\n0 1 -49\\n1 2 1\\n2 3 40\\n3 1 -40\\n1 4 -9\\n4 5 40\\n5 1 -30\\n1 6 -19\\n12 7 40\\n7 1 -20\\n1 8 -30\\n8 9 40\\n9 1 -9\\n1 10 0\\n0 10 50\\n3 4\\n0 0 -49\\n1 3 10\\n2 1 50\\n2 1 10\\n0 1 50\\n0 0', '91': '7 8\\n0 2 3\\n2 3 -20\\n3 4 3\\n4 1 -5\\n1 5 1\\n5 4 5\\n1 3 2\\n3 6 -2\\n0 6 30\\n7 8\\n0 2 3\\n2 3 -20\\n3 4 3\\n4 1 -5\\n1 5 1\\n5 4 5\\n1 0 2\\n3 6 -2\\n0 6 20\\n4 4\\n0 1 -17\\n1 2 -50\\n2 1 51\\n1 3 1\\n0 3 20\\n11 14\\n0 1 -49\\n1 2 1\\n2 3 40\\n3 1 -40\\n1 4 -9\\n4 5 40\\n5 1 -30\\n1 6 -19\\n6 7 40\\n7 1 -20\\n1 8 -30\\n8 9 40\\n9 1 -9\\n1 10 1\\n0 10 50\\n3 4\\n0 1 -49\\n1 2 10\\n2 0 50\\n2 1 11\\n0 1 50\\n0 0', '5': '7 8\\n0 2 3\\n2 3 -20\\n3 4 3\\n4 0 -5\\n1 5 1\\n5 4 5\\n1 3 2\\n3 6 -2\\n0 6 30\\n7 8\\n0 2 3\\n2 3 -20\\n3 4 3\\n4 1 -5\\n1 5 1\\n5 4 5\\n1 0 2\\n3 6 -2\\n0 6 20\\n4 4\\n0 1 -10\\n1 2 -50\\n2 1 51\\n1 3 1\\n0 3 20\\n11 14\\n0 1 -49\\n1 2 1\\n2 3 40\\n3 1 -40\\n1 4 -9\\n4 5 40\\n5 1 -30\\n1 6 -19\\n6 7 40\\n7 1 -20\\n1 8 -30\\n8 9 40\\n9 1 -9\\n1 10 1\\n0 10 50\\n3 4\\n0 1 -49\\n1 2 10\\n2 0 50\\n2 1 10\\n0 1 50\\n0 0', '22': '7 8\\n0 2 3\\n2 3 -20\\n3 4 3\\n4 1 -5\\n1 5 1\\n5 4 5\\n1 3 2\\n3 6 -2\\n0 6 30\\n7 8\\n0 2 3\\n2 3 -20\\n3 4 3\\n4 1 -5\\n1 5 1\\n5 4 5\\n0 3 2\\n3 6 -2\\n0 6 20\\n4 4\\n0 1 -10\\n1 2 -50\\n2 1 51\\n1 3 1\\n0 1 14\\n11 14\\n0 1 -49\\n1 2 1\\n2 3 40\\n3 1 -40\\n1 4 -9\\n4 5 40\\n5 1 -30\\n1 6 -19\\n9 7 40\\n7 1 -20\\n1 8 -30\\n8 9 40\\n9 1 -9\\n1 10 1\\n0 10 50\\n3 4\\n0 1 -101\\n0 1 10\\n2 0 67\\n2 1 10\\n0 1 84\\n0 0', '94': '7 8\\n0 2 3\\n2 3 -20\\n3 4 3\\n4 1 -5\\n1 5 1\\n5 4 5\\n1 3 2\\n3 6 -2\\n0 6 30\\n7 8\\n0 2 3\\n2 3 -20\\n3 4 3\\n4 1 -5\\n1 5 1\\n5 4 5\\n1 0 2\\n3 6 -2\\n0 6 20\\n4 4\\n0 1 -17\\n1 2 -50\\n2 2 51\\n1 3 1\\n0 3 20\\n11 14\\n0 1 -49\\n1 2 1\\n2 3 40\\n3 1 -40\\n1 4 -9\\n4 5 40\\n5 1 -30\\n1 6 -19\\n6 7 40\\n7 1 -20\\n1 8 -30\\n8 9 40\\n9 1 -9\\n1 10 1\\n0 10 50\\n3 4\\n0 1 -49\\n1 2 10\\n2 0 50\\n2 1 11\\n0 1 50\\n0 0', '75': '7 8\\n0 2 3\\n2 3 -20\\n3 4 3\\n4 0 -5\\n1 5 1\\n5 4 5\\n1 3 2\\n3 6 -2\\n0 6 30\\n7 8\\n0 2 3\\n2 3 -20\\n3 4 3\\n4 1 -5\\n1 5 1\\n5 4 5\\n1 0 2\\n3 6 -2\\n0 6 20\\n4 4\\n0 1 -10\\n1 2 -50\\n2 1 51\\n1 3 1\\n0 3 20\\n11 14\\n0 1 -49\\n1 2 1\\n2 3 40\\n3 1 -40\\n1 4 -9\\n4 5 40\\n5 1 -30\\n1 6 -19\\n6 7 40\\n7 1 -24\\n1 8 -30\\n8 9 40\\n9 1 -9\\n1 10 1\\n0 10 50\\n3 4\\n0 1 -49\\n1 3 10\\n2 0 50\\n2 1 10\\n0 1 50\\n0 0', '87': '7 8\\n0 2 3\\n2 3 -20\\n6 4 3\\n4 1 -5\\n1 5 1\\n5 4 5\\n1 3 2\\n3 6 -2\\n0 6 30\\n7 8\\n0 2 3\\n2 3 -20\\n3 4 3\\n4 1 -5\\n1 5 1\\n2 4 5\\n1 0 2\\n3 6 -4\\n0 6 20\\n4 4\\n0 1 -17\\n1 2 -50\\n2 1 51\\n1 3 1\\n0 3 20\\n11 14\\n0 1 -49\\n1 2 1\\n2 3 40\\n3 1 -40\\n1 4 -9\\n4 5 40\\n5 1 -30\\n1 6 -19\\n6 7 40\\n7 1 -20\\n1 8 -30\\n8 9 40\\n9 1 -9\\n1 10 1\\n0 10 50\\n3 4\\n0 0 -49\\n1 2 10\\n2 0 50\\n2 2 11\\n0 1 50\\n0 0', '101': '7 8\\n0 2 3\\n2 3 -20\\n3 4 3\\n4 1 -5\\n1 5 1\\n5 4 5\\n1 3 2\\n3 6 -2\\n0 6 30\\n7 8\\n0 2 3\\n2 3 -20\\n3 4 3\\n4 1 -5\\n1 5 1\\n5 4 5\\n1 3 2\\n3 6 -2\\n0 6 20\\n4 4\\n0 1 -10\\n1 2 -50\\n2 1 51\\n1 3 1\\n0 3 20\\n11 14\\n0 1 -49\\n1 2 1\\n2 3 40\\n3 1 -40\\n1 4 -9\\n4 5 40\\n5 1 -30\\n1 6 -19\\n6 7 40\\n7 1 -20\\n1 8 -30\\n8 9 40\\n9 1 -9\\n1 10 1\\n0 10 50\\n3 4\\n0 1 -49\\n1 2 10\\n2 0 50\\n2 1 10\\n0 1 50\\n0 0', '54': '7 8\\n0 2 3\\n2 3 -20\\n3 4 3\\n4 0 -5\\n1 9 1\\n5 4 5\\n1 3 2\\n3 12 -2\\n0 6 30\\n7 8\\n0 2 3\\n2 3 -20\\n3 4 3\\n4 1 -5\\n1 5 1\\n5 4 5\\n1 0 2\\n3 6 -2\\n0 6 20\\n4 4\\n0 1 -10\\n1 2 -50\\n2 1 51\\n1 3 1\\n0 3 20\\n11 14\\n0 1 -49\\n1 2 1\\n2 3 40\\n3 1 -40\\n1 4 -9\\n4 5 40\\n1 1 -30\\n1 6 -19\\n5 7 40\\n7 1 -20\\n1 8 -30\\n8 9 40\\n9 1 -9\\n1 10 0\\n0 10 22\\n3 4\\n0 1 -49\\n1 3 12\\n2 1 50\\n3 1 10\\n0 1 50\\n0 0', '37': '7 8\\n0 2 3\\n2 3 -20\\n3 4 3\\n4 0 -5\\n1 5 1\\n5 4 5\\n1 3 2\\n3 6 -2\\n0 6 30\\n7 8\\n0 2 3\\n2 3 -20\\n3 4 3\\n4 1 -5\\n1 5 1\\n5 4 5\\n1 0 2\\n3 6 -2\\n0 6 20\\n4 4\\n0 1 -10\\n1 4 -50\\n2 1 51\\n1 3 1\\n0 3 20\\n11 14\\n0 1 -49\\n1 2 1\\n2 3 40\\n3 1 -40\\n1 4 -9\\n4 5 40\\n5 1 -30\\n1 6 -19\\n6 7 40\\n7 1 -20\\n1 8 -30\\n8 9 40\\n9 1 -9\\n1 10 0\\n0 10 50\\n3 4\\n1 1 -49\\n1 3 10\\n2 0 50\\n3 1 10\\n0 1 50\\n0 0', '78': '7 8\\n0 2 3\\n2 3 -20\\n3 4 3\\n4 1 -5\\n1 5 1\\n5 4 5\\n1 3 2\\n3 6 -2\\n0 6 30\\n7 8\\n0 2 3\\n2 3 -20\\n3 4 3\\n4 1 -5\\n1 5 1\\n5 4 5\\n0 3 2\\n3 6 -2\\n0 6 20\\n4 4\\n0 1 -10\\n1 2 -50\\n2 1 51\\n1 3 1\\n0 1 14\\n11 14\\n0 1 -49\\n1 2 1\\n3 3 40\\n3 1 -40\\n1 4 -9\\n4 5 40\\n5 1 -30\\n1 6 -19\\n6 7 40\\n7 1 -20\\n1 8 -30\\n8 9 40\\n9 1 -9\\n1 10 1\\n0 10 50\\n3 4\\n0 1 -101\\n0 1 10\\n2 0 67\\n2 1 10\\n0 1 84\\n0 0', '29': '7 8\\n0 2 3\\n2 3 -20\\n3 4 3\\n4 1 -5\\n1 5 1\\n5 4 5\\n1 3 2\\n3 6 -2\\n0 6 30\\n7 8\\n0 2 3\\n2 3 -20\\n3 4 3\\n4 1 -5\\n1 5 1\\n5 4 5\\n0 3 2\\n3 6 -2\\n0 6 20\\n4 4\\n0 1 -10\\n1 2 -50\\n2 1 51\\n1 3 1\\n0 1 14\\n11 14\\n0 1 -49\\n1 2 1\\n2 3 40\\n3 1 -39\\n1 2 -9\\n4 5 40\\n5 1 -30\\n1 6 -19\\n6 7 40\\n7 1 -20\\n1 8 -30\\n8 9 40\\n9 1 -9\\n1 10 1\\n0 10 50\\n3 4\\n0 1 -101\\n0 1 10\\n2 0 50\\n2 1 10\\n0 1 84\\n0 0', '82': '7 8\\n0 2 3\\n2 3 -20\\n3 4 3\\n4 0 -5\\n1 5 1\\n5 4 5\\n1 3 2\\n3 6 -2\\n0 6 30\\n7 8\\n0 2 3\\n2 3 -20\\n3 4 3\\n4 1 -5\\n1 5 1\\n5 4 5\\n0 0 2\\n3 6 -2\\n0 6 20\\n4 4\\n0 1 -10\\n1 2 -50\\n2 1 51\\n1 3 1\\n0 3 20\\n11 14\\n0 1 -49\\n1 2 1\\n2 3 40\\n3 1 -40\\n1 4 -9\\n4 5 40\\n5 2 -30\\n1 6 -19\\n6 7 40\\n7 1 -20\\n1 8 -30\\n8 9 40\\n9 1 -9\\n1 10 1\\n0 10 50\\n3 4\\n0 1 -49\\n1 3 10\\n2 0 50\\n2 1 10\\n0 1 50\\n0 0', '16': '7 8\\n0 2 3\\n1 3 -20\\n3 4 3\\n4 1 -5\\n1 5 1\\n5 4 5\\n1 3 2\\n3 6 -2\\n0 6 30\\n7 8\\n0 2 3\\n2 3 -20\\n3 4 3\\n4 1 -5\\n1 5 1\\n5 4 5\\n1 0 2\\n3 6 -2\\n0 6 20\\n4 4\\n0 1 -17\\n1 2 -50\\n2 1 51\\n1 3 1\\n0 3 20\\n11 14\\n0 1 -49\\n1 2 1\\n2 3 40\\n3 1 -40\\n1 4 -9\\n4 5 40\\n5 1 -30\\n1 6 -19\\n6 7 40\\n7 1 -20\\n1 8 -30\\n8 9 40\\n9 1 -9\\n1 10 1\\n0 10 50\\n3 4\\n0 1 -49\\n1 2 10\\n2 0 50\\n2 2 11\\n0 1 50\\n0 0', '97': '7 8\\n0 2 3\\n2 3 -20\\n3 4 3\\n4 0 -5\\n1 5 1\\n5 4 5\\n1 3 2\\n3 6 -2\\n0 6 30\\n7 8\\n0 2 3\\n2 3 -20\\n3 4 3\\n4 1 -5\\n1 5 1\\n5 4 5\\n1 0 2\\n3 6 -2\\n0 6 20\\n4 4\\n0 1 -10\\n1 2 -50\\n2 1 51\\n1 3 1\\n0 3 20\\n11 14\\n0 1 -49\\n1 2 1\\n2 3 40\\n3 1 -40\\n1 4 -9\\n4 5 40\\n5 1 -30\\n1 6 -19\\n6 7 40\\n7 1 -20\\n1 8 -30\\n8 9 40\\n9 1 -9\\n1 10 1\\n0 10 50\\n3 4\\n0 1 -49\\n1 3 10\\n2 0 50\\n2 1 10\\n0 1 50\\n0 0', '33': '7 8\\n0 2 3\\n2 3 -35\\n3 4 3\\n4 1 -5\\n1 5 1\\n5 4 5\\n1 3 2\\n3 6 -2\\n0 6 30\\n7 8\\n0 2 3\\n2 3 -20\\n3 4 3\\n4 1 -5\\n1 5 1\\n5 4 5\\n0 3 2\\n3 6 -2\\n0 6 40\\n4 4\\n0 1 -10\\n1 2 -50\\n2 1 51\\n1 3 1\\n0 3 20\\n11 14\\n0 1 -49\\n1 2 1\\n2 3 40\\n3 1 -40\\n0 4 -9\\n4 5 40\\n5 1 -30\\n1 6 -19\\n6 7 40\\n7 1 -20\\n1 8 -30\\n8 9 40\\n9 1 -9\\n1 10 1\\n0 10 50\\n3 4\\n0 1 -101\\n1 1 10\\n2 0 50\\n2 1 10\\n0 1 50\\n0 0', '55': '7 8\\n0 2 3\\n2 2 -20\\n3 4 3\\n4 0 -5\\n1 5 1\\n5 4 5\\n1 3 3\\n3 6 -2\\n0 0 30\\n7 8\\n0 2 3\\n2 3 -20\\n3 4 3\\n4 1 -5\\n1 5 1\\n5 4 5\\n1 0 2\\n3 6 -3\\n0 6 20\\n4 4\\n0 1 -10\\n1 2 -44\\n2 1 51\\n1 3 1\\n0 3 20\\n11 14\\n0 1 -49\\n1 2 1\\n2 5 40\\n3 1 -40\\n1 4 -9\\n4 5 40\\n1 1 -30\\n1 6 -19\\n6 7 40\\n7 1 -20\\n0 8 -30\\n8 9 40\\n9 1 -9\\n1 10 1\\n0 10 50\\n3 4\\n0 1 -49\\n1 2 10\\n2 0 50\\n2 1 10\\n0 1 50\\n0 0', '10': '7 8\\n0 2 3\\n2 3 -20\\n3 4 3\\n4 1 -5\\n1 5 1\\n5 4 5\\n1 3 2\\n3 6 -2\\n0 6 30\\n7 8\\n0 2 3\\n2 3 -20\\n3 4 3\\n4 1 -5\\n1 5 1\\n5 4 5\\n1 0 2\\n3 6 -2\\n0 6 20\\n4 4\\n0 1 -17\\n1 2 -50\\n2 2 51\\n1 3 1\\n1 3 20\\n11 14\\n0 1 -49\\n1 2 1\\n2 3 40\\n3 1 -40\\n1 4 -9\\n4 5 40\\n5 1 -30\\n1 6 -19\\n6 7 40\\n7 1 -20\\n1 8 -30\\n8 9 40\\n9 1 -9\\n1 10 1\\n0 10 2\\n3 4\\n0 1 -49\\n1 2 10\\n2 0 50\\n2 1 11\\n0 1 50\\n0 0', '21': '7 8\\n0 2 3\\n2 3 -20\\n3 0 3\\n4 1 -5\\n1 5 1\\n5 4 5\\n1 3 2\\n4 6 -2\\n0 6 30\\n7 8\\n0 2 3\\n2 3 -20\\n3 4 3\\n4 1 -5\\n1 5 1\\n5 4 5\\n1 3 2\\n3 6 -2\\n0 6 20\\n4 4\\n0 1 -10\\n1 2 -50\\n2 1 51\\n1 3 1\\n0 3 20\\n11 14\\n0 1 -49\\n1 2 1\\n2 3 40\\n3 1 -40\\n1 4 -9\\n4 5 40\\n5 1 -30\\n1 6 -19\\n11 7 40\\n7 1 -18\\n1 8 -30\\n8 7 40\\n9 1 -9\\n1 10 1\\n0 10 50\\n3 4\\n0 1 -79\\n1 2 10\\n2 0 50\\n2 1 10\\n0 1 44\\n0 0', '73': '7 8\\n0 2 3\\n2 3 -20\\n3 4 3\\n4 1 -5\\n1 5 1\\n5 4 5\\n1 3 2\\n3 6 -2\\n0 6 30\\n7 8\\n0 2 3\\n2 3 -20\\n3 4 3\\n4 1 -5\\n1 5 1\\n5 4 5\\n1 0 2\\n3 6 -2\\n0 6 20\\n4 4\\n0 1 -17\\n1 2 -50\\n2 1 51\\n1 3 1\\n0 3 20\\n11 14\\n0 1 -49\\n1 2 1\\n2 3 40\\n3 1 -40\\n1 4 -9\\n4 5 40\\n8 1 -30\\n1 6 -19\\n6 7 40\\n7 1 -20\\n1 8 -30\\n8 9 40\\n9 1 -9\\n1 10 1\\n0 10 50\\n3 4\\n0 1 -49\\n1 2 10\\n2 0 50\\n2 2 11\\n0 1 50\\n0 0', '53': '7 8\\n0 1 3\\n2 3 -35\\n3 4 3\\n4 1 -5\\n1 5 1\\n5 4 5\\n1 3 2\\n3 6 -2\\n0 6 30\\n7 8\\n0 2 3\\n2 3 -20\\n3 4 3\\n4 1 -5\\n1 5 1\\n5 4 5\\n0 3 2\\n3 6 -2\\n0 6 40\\n4 4\\n0 1 -10\\n1 2 -50\\n2 1 51\\n1 3 1\\n0 3 20\\n11 14\\n0 1 -49\\n1 2 1\\n2 3 40\\n3 1 -40\\n0 4 -9\\n4 5 40\\n5 1 -30\\n1 6 -19\\n10 7 40\\n12 1 -20\\n1 8 -30\\n8 9 40\\n9 1 -9\\n1 10 1\\n0 10 50\\n3 4\\n0 1 -101\\n1 1 10\\n2 0 50\\n0 1 10\\n0 1 50\\n0 0', '80': '7 8\\n0 2 3\\n2 3 -20\\n3 4 3\\n8 1 -5\\n1 5 1\\n5 4 5\\n1 3 2\\n3 6 -2\\n0 6 30\\n7 8\\n0 2 3\\n2 3 -20\\n3 4 3\\n4 1 -5\\n1 5 1\\n5 4 5\\n1 3 2\\n3 6 -2\\n0 6 20\\n4 4\\n0 1 -10\\n1 2 -41\\n2 1 51\\n1 3 1\\n0 3 20\\n11 14\\n0 1 -49\\n1 2 1\\n2 3 40\\n3 1 -40\\n1 4 -9\\n4 5 40\\n5 1 -30\\n1 6 -19\\n6 7 40\\n7 1 -20\\n1 8 -30\\n8 9 40\\n9 1 -9\\n1 10 1\\n0 10 50\\n3 4\\n0 1 -79\\n1 2 10\\n2 0 50\\n2 1 10\\n0 1 50\\n0 0', '24': '7 8\\n0 2 3\\n1 3 -20\\n3 4 3\\n4 1 -5\\n1 5 1\\n5 4 5\\n1 3 2\\n3 6 -2\\n0 6 30\\n7 8\\n0 2 3\\n2 3 -20\\n3 4 3\\n4 1 -5\\n1 5 1\\n5 4 5\\n1 0 2\\n3 6 -2\\n0 6 20\\n4 4\\n0 1 -17\\n1 2 -50\\n2 1 51\\n1 3 1\\n0 3 20\\n11 14\\n0 1 -49\\n1 2 1\\n2 3 40\\n3 1 -40\\n1 8 -9\\n4 5 40\\n5 1 -30\\n1 6 -19\\n6 7 40\\n7 1 -20\\n1 8 -30\\n8 9 40\\n9 1 -9\\n1 10 1\\n0 10 50\\n3 4\\n0 1 -49\\n1 2 10\\n2 0 50\\n2 2 11\\n0 1 50\\n0 0', '57': '7 8\\n1 2 3\\n2 3 -20\\n3 4 3\\n5 1 -5\\n1 5 1\\n5 4 5\\n1 3 2\\n3 6 -2\\n0 6 30\\n7 8\\n0 2 3\\n2 3 -20\\n3 4 3\\n4 0 -5\\n1 9 1\\n5 4 1\\n1 3 2\\n3 6 -2\\n0 6 20\\n7 4\\n0 1 -10\\n1 2 -50\\n2 1 51\\n1 3 1\\n0 3 20\\n11 14\\n0 1 -49\\n1 2 1\\n2 3 40\\n3 1 -40\\n1 4 -9\\n4 5 21\\n5 1 -30\\n1 6 -19\\n11 7 40\\n7 1 -20\\n1 8 -91\\n8 7 40\\n9 1 -9\\n1 10 1\\n0 10 50\\n3 4\\n0 1 -79\\n1 2 10\\n2 0 50\\n2 1 10\\n0 1 44\\n0 0', '100': '7 8\\n0 2 3\\n2 3 -20\\n3 4 3\\n4 1 -5\\n1 5 1\\n5 4 5\\n1 3 2\\n3 6 -2\\n0 6 30\\n7 8\\n0 2 3\\n2 3 -20\\n3 4 3\\n4 1 -5\\n1 5 1\\n5 4 5\\n1 3 2\\n3 6 -2\\n0 6 20\\n4 4\\n0 1 -10\\n1 2 -50\\n2 1 51\\n1 3 1\\n0 3 20\\n11 14\\n0 1 -49\\n1 2 1\\n2 3 40\\n3 1 -40\\n1 4 -9\\n4 5 40\\n5 1 -30\\n1 6 -19\\n6 7 40\\n7 1 -20\\n1 8 -30\\n8 9 40\\n9 1 -9\\n1 10 1\\n0 10 50\\n3 4\\n0 1 -49\\n1 2 10\\n2 0 50\\n2 1 10\\n0 1 50\\n0 0', '18': '7 8\\n0 2 3\\n2 3 -20\\n3 4 3\\n4 1 -5\\n1 5 1\\n5 4 5\\n1 3 2\\n3 6 -2\\n0 6 30\\n7 8\\n0 2 3\\n2 3 -20\\n2 4 3\\n4 1 -5\\n1 5 1\\n5 4 5\\n1 3 2\\n3 6 -2\\n0 6 20\\n4 4\\n0 1 -10\\n1 2 -50\\n2 1 51\\n1 3 1\\n0 3 20\\n11 14\\n0 1 -49\\n1 2 1\\n2 3 40\\n3 1 -40\\n1 4 -9\\n4 5 40\\n5 1 -30\\n1 6 -19\\n11 7 40\\n7 1 -20\\n1 8 -30\\n8 7 40\\n9 1 -9\\n1 10 1\\n0 10 50\\n3 4\\n0 1 -79\\n1 2 10\\n2 0 50\\n2 1 10\\n0 1 50\\n0 0', '49': '7 8\\n0 2 3\\n2 3 -20\\n3 4 3\\n4 1 -5\\n1 5 1\\n5 4 5\\n1 3 4\\n3 6 -2\\n0 6 37\\n7 8\\n0 2 3\\n2 3 -20\\n3 4 3\\n4 1 -5\\n1 5 1\\n5 4 5\\n0 3 2\\n3 3 -2\\n0 6 20\\n4 4\\n0 1 -10\\n1 2 -50\\n2 1 51\\n1 3 1\\n0 1 14\\n11 14\\n0 1 -49\\n1 2 1\\n2 3 40\\n3 1 -39\\n1 2 -9\\n4 5 40\\n5 1 -30\\n1 6 -19\\n6 7 40\\n2 1 -20\\n1 8 -30\\n8 9 40\\n9 1 -9\\n1 10 1\\n0 10 50\\n3 4\\n0 1 -101\\n0 1 10\\n2 0 50\\n2 1 10\\n0 1 84\\n0 0', '89': '7 8\\n0 2 3\\n2 3 -20\\n3 4 3\\n4 0 -5\\n1 5 1\\n5 4 5\\n1 3 2\\n3 6 -2\\n0 6 30\\n7 8\\n0 2 3\\n2 3 -20\\n3 4 3\\n4 1 -5\\n1 5 1\\n5 4 5\\n1 0 2\\n3 6 -2\\n0 6 20\\n4 4\\n0 1 -16\\n1 4 -50\\n2 1 51\\n1 3 1\\n0 3 20\\n11 14\\n0 1 -49\\n1 2 1\\n2 3 40\\n3 1 -40\\n1 4 -9\\n4 5 40\\n5 1 -30\\n1 6 -19\\n6 7 40\\n7 1 -20\\n1 8 -30\\n8 9 40\\n9 1 -9\\n1 10 0\\n0 10 50\\n3 4\\n0 1 -49\\n1 3 10\\n2 0 50\\n3 1 10\\n0 1 50\\n0 0', '20': '7 8\\n0 2 3\\n2 3 -20\\n3 4 3\\n4 1 -5\\n1 5 1\\n5 4 5\\n1 3 2\\n3 6 -2\\n0 6 30\\n7 8\\n0 2 3\\n2 3 -20\\n3 4 3\\n4 1 -5\\n1 5 1\\n5 4 5\\n1 0 2\\n3 6 -2\\n0 6 20\\n4 4\\n0 1 -17\\n1 2 -50\\n2 2 51\\n1 3 1\\n1 3 20\\n11 14\\n0 1 -49\\n1 2 1\\n2 3 40\\n3 1 -40\\n1 4 -9\\n4 5 40\\n5 1 -30\\n1 6 -19\\n6 7 40\\n7 1 -20\\n1 8 -30\\n8 9 40\\n9 1 -9\\n1 10 1\\n1 10 2\\n3 4\\n0 1 -49\\n1 2 10\\n2 0 50\\n2 1 11\\n0 1 50\\n0 0', '3': '7 8\\n0 2 3\\n2 3 -20\\n3 4 3\\n4 1 -5\\n1 5 1\\n5 4 5\\n1 3 2\\n3 6 -2\\n0 6 30\\n7 8\\n0 2 3\\n2 3 -20\\n3 4 3\\n4 1 -5\\n1 5 1\\n5 4 5\\n0 3 2\\n3 6 -2\\n0 6 20\\n4 4\\n0 1 -10\\n1 2 -50\\n2 1 51\\n1 3 1\\n0 3 20\\n11 14\\n0 1 -49\\n1 2 1\\n2 3 40\\n3 1 -40\\n1 4 -9\\n4 5 40\\n5 1 -30\\n1 6 -19\\n6 7 40\\n7 1 -20\\n1 8 -30\\n8 9 40\\n9 1 -9\\n1 10 1\\n0 10 50\\n3 4\\n0 1 -79\\n1 1 10\\n2 0 50\\n2 1 10\\n0 1 50\\n0 0', '38': '7 8\\n0 2 3\\n2 3 -20\\n3 4 3\\n4 1 -5\\n1 5 1\\n5 4 5\\n1 3 2\\n3 6 -2\\n0 6 30\\n7 8\\n0 2 3\\n2 3 -20\\n3 4 3\\n4 1 -5\\n1 5 1\\n5 4 5\\n0 3 2\\n3 3 -2\\n0 6 20\\n4 4\\n0 1 -10\\n1 2 -50\\n2 1 51\\n1 3 1\\n0 1 14\\n11 14\\n0 1 -49\\n1 2 1\\n2 3 40\\n3 1 -39\\n1 2 -9\\n4 5 40\\n5 1 -30\\n1 6 -19\\n6 7 40\\n7 1 -20\\n1 8 -30\\n8 9 40\\n9 1 -9\\n1 10 1\\n0 10 50\\n3 4\\n0 1 -101\\n0 1 10\\n2 0 50\\n2 1 10\\n0 1 84\\n0 0', '27': '7 8\\n0 2 3\\n2 3 -20\\n3 4 3\\n4 0 -5\\n1 5 1\\n5 4 5\\n1 3 2\\n3 6 -2\\n0 6 30\\n7 8\\n0 2 3\\n2 3 -20\\n3 4 3\\n4 1 -5\\n1 5 1\\n5 4 5\\n0 0 2\\n3 6 -2\\n0 6 20\\n4 4\\n0 1 -10\\n1 2 -50\\n2 1 51\\n1 3 1\\n0 3 20\\n11 14\\n0 1 -49\\n1 2 1\\n2 3 40\\n3 1 -40\\n1 4 -9\\n4 5 40\\n5 1 -30\\n1 6 -19\\n6 7 40\\n7 1 -20\\n1 8 -30\\n8 9 40\\n9 1 -9\\n1 13 1\\n0 10 50\\n3 4\\n0 1 -49\\n1 3 10\\n2 0 50\\n2 1 10\\n0 1 50\\n0 0', '34': '7 8\\n0 1 3\\n2 3 -15\\n3 4 3\\n4 1 -5\\n1 5 1\\n5 4 5\\n1 3 2\\n3 6 -2\\n0 6 30\\n7 8\\n0 2 3\\n2 3 -20\\n3 4 3\\n4 1 -5\\n1 5 1\\n5 4 5\\n0 3 2\\n3 6 -2\\n0 6 20\\n4 4\\n0 1 -10\\n1 2 -50\\n2 1 51\\n1 3 1\\n0 3 14\\n11 14\\n0 1 -49\\n1 2 1\\n2 3 40\\n3 1 -40\\n1 4 -9\\n4 5 40\\n5 1 -30\\n1 6 -19\\n6 7 40\\n7 1 -20\\n1 8 -30\\n8 9 40\\n9 1 -9\\n1 18 1\\n0 10 50\\n3 4\\n0 1 -101\\n1 1 10\\n2 0 50\\n2 1 10\\n0 1 50\\n0 0', '2': '7 8\\n0 2 3\\n2 3 -20\\n3 4 3\\n4 1 -5\\n1 5 1\\n5 4 5\\n1 3 2\\n3 6 -2\\n0 6 30\\n7 8\\n0 2 3\\n2 3 -20\\n3 4 3\\n4 1 -5\\n1 5 1\\n5 4 5\\n1 0 2\\n3 6 -2\\n0 6 20\\n4 4\\n0 1 -17\\n1 2 -50\\n2 1 51\\n1 3 1\\n0 3 20\\n11 14\\n0 1 -49\\n1 2 1\\n2 3 40\\n3 1 -40\\n1 4 -9\\n4 5 40\\n5 1 -30\\n1 6 -19\\n6 7 40\\n7 1 -20\\n1 8 -30\\n8 9 40\\n9 1 -9\\n1 10 1\\n0 10 50\\n3 4\\n0 1 -49\\n1 2 10\\n2 0 50\\n2 1 10\\n0 1 50\\n0 0'}\n",
      "p02649: {'12': '5 4 1 15\\n3 6 1 1 5', '52': '15 5 0 2\\n1 -1 -1', '28': '5 1 3 9\\n2 4 37 1 5', '84': '5 4 1 15\\n3 6 1 1 8', '26': '5 5 3 9\\n2 4 37 1 5', '50': '15 8 1 2\\n1 -1 -1', '11': '5 5 2 7\\n3 4 11 1 5', '44': '14 4 0 2\\n1 0 1', '30': '5 1 3 9\\n2 4 37 1 1', '23': '6 3 -1 5\\n0 0 2', '62': '6 10 2 4\\n1 -2 0', '13': '3 3 -1 7\\n0 2 3', '74': '5 10 0 2\\n1 0 0', '65': '6 10 3 2\\n0 -2 0', '63': '6 10 3 4\\n1 -2 0', '93': '5 4 1 15\\n3 5 1 0 2', '40': '7 1 6 9\\n1 4 32 1 2', '61': '6 10 2 4\\n1 -2 -2', '79': '0 3 0 6\\n0 2 3', '36': '7 1 6 9\\n2 4 37 1 2', '41': '14 4 0 2\\n0 -1 1', '92': '5 5 2 7\\n1 4 37 0 5', '90': '5 4 1 15\\n1 11 1 0 5', '8': '5 5 1 7\\n3 4 11 1 5', '71': '5 10 0 4\\n1 -2 1', '46': '14 4 1 2\\n1 0 0', '7': '5 5 1 7\\n3 4 9 1 5', '25': '6 3 -2 5\\n0 0 2', '69': '5 10 3 4\\n1 -2 1', '60': '6 10 1 4\\n1 -2 -2', '77': '5 5 1 0\\n3 4 9 1 5', '56': '15 10 1 4\\n1 -1 -2', '4': '5 3 1 7\\n3 4 9 0 5', '98': '6 3 -2 5\\n1 0 2', '31': '6 4 -2 5\\n0 -1 1', '35': '12 4 0 5\\n0 -1 1', '96': '6 1 -1 5\\n0 0 2', '47': '14 8 1 2\\n1 0 0', '17': '5 5 2 7\\n1 4 22 1 5', '32': '5 1 6 9\\n2 4 37 1 1', '6': '5 4 0 15\\n3 6 1 1 8', '83': '5 5 2 7\\n3 4 13 1 5', '15': '5 4 1 15\\n3 11 1 1 5', '58': '15 10 1 4\\n1 -2 -2', '67': '5 10 3 2\\n0 -2 1', '51': '15 5 1 2\\n1 -1 -1', '48': '14 8 1 2\\n1 -1 0', '81': '8 4 1 15\\n3 6 9 1 5', '70': '5 10 1 4\\n1 -2 1', '19': '5 5 2 7\\n1 4 37 1 5', '103': '5 3 1 7\\n3 4 9 1 5', '14': '5 5 2 7\\n1 4 11 1 5', '1': '5 4 0 15\\n3 6 9 1 5', '86': '5 5 2 7\\n1 4 18 1 5', '95': '3 5 2 9\\n1 4 37 1 5', '59': '10 10 1 4\\n1 -2 -2', '99': '5 5 3 9\\n2 4 59 1 5', '42': '7 1 6 9\\n1 4 32 0 2', '39': '9 4 0 2\\n0 -1 1', '68': '5 10 3 4\\n0 -2 1', '64': '6 10 3 2\\n1 -2 0', '66': '6 10 3 2\\n0 -2 1', '9': '5 4 1 15\\n3 6 9 1 5', '88': '3 3 -1 7\\n0 2 1', '102': '5 4 0 15\\n3 4 9 1 5', '0': '3 3 0 3\\n0 2 3', '45': '14 4 0 2\\n1 0 0', '43': '14 4 0 2\\n0 0 1', '76': '3 6 0 3\\n0 2 3', '72': '5 10 0 2\\n1 -2 1', '85': '3 3 -1 4\\n0 2 3', '91': '3 3 -1 5\\n0 0 3', '5': '5 4 0 15\\n3 4 9 1 1', '22': '5 5 2 9\\n1 4 37 1 5', '94': '3 3 -2 5\\n0 0 2', '75': '3 4 0 3\\n1 2 3', '87': '5 4 0 15\\n3 11 1 1 5', '101': '3 3 0 3\\n1 2 3', '54': '15 10 0 4\\n1 -1 -1', '37': '12 4 0 2\\n0 -1 1', '78': '5 4 0 15\\n3 6 9 1 7', '29': '6 4 -2 5\\n0 0 1', '82': '3 3 -1 6\\n0 0 3', '16': '3 3 -1 7\\n0 2 2', '97': '5 8 2 9\\n2 4 37 1 5', '33': '6 4 0 5\\n0 -1 1', '55': '15 10 0 4\\n1 -1 -2', '10': '3 3 -1 6\\n0 2 3', '21': '3 3 -1 5\\n0 0 2', '73': '5 10 0 2\\n1 0 1', '53': '15 5 0 4\\n1 -1 -1', '80': '5 5 1 11\\n3 4 11 1 5', '24': '5 5 2 9\\n2 4 37 1 5', '57': '15 10 2 4\\n1 -1 -2', '100': '3 3 0 3\\n1 2 3', '18': '3 3 -1 5\\n0 2 2', '49': '15 8 1 2\\n1 -1 0', '89': '9 5 2 7\\n1 4 22 1 5', '20': '5 4 1 15\\n3 11 1 0 2', '3': '5 4 1 15\\n3 11 1 0 5', '38': '7 1 6 9\\n2 4 32 1 2', '27': '6 3 -2 5\\n0 0 1', '34': '7 1 6 9\\n2 4 37 1 1', '2': '3 3 0 6\\n0 2 3'}\n",
      "p01438: {'12': '2\\n2 110\\n10 12\\n14 16\\n2 200\\n12 13\\n18 20\\n4\\n1 100\\n6 22\\n1 1000\\n6 22\\n1 10000\\n6 22\\n1 100000\\n6 22\\n16\\n1 100000000\\n6 7\\n1 100000000\\n7 8\\n1 100000000\\n8 9\\n1 110000000\\n9 10\\n1 100000000\\n10 11\\n1 100000000\\n11 12\\n1 100000000\\n12 13\\n1 100000000\\n13 14\\n1 100000000\\n14 15\\n1 100000000\\n15 16\\n1 100000000\\n16 17\\n1 100000000\\n17 18\\n1 100000000\\n18 19\\n1 100000000\\n19 20\\n1 100000000\\n20 21\\n1 100001000\\n21 22\\n0', '52': '2\\n2 100\\n10 10\\n14 16\\n2 200\\n12 13\\n18 20\\n4\\n1 100\\n6 22\\n1 1000\\n6 22\\n1 10000\\n6 22\\n1 100000\\n6 22\\n16\\n1 100000000\\n6 7\\n1 100000000\\n7 8\\n1 100000000\\n8 9\\n1 110000000\\n9 10\\n1 100000000\\n10 11\\n1 100000000\\n11 12\\n1 100000000\\n12 19\\n1 100000000\\n13 14\\n1 100000000\\n14 15\\n1 100000000\\n15 16\\n1 100000000\\n16 17\\n1 100000000\\n17 18\\n1 100000000\\n18 19\\n1 100000010\\n19 20\\n1 110000000\\n20 21\\n1 100001000\\n21 22\\n0', '28': '2\\n2 101\\n10 12\\n14 16\\n2 200\\n12 13\\n15 20\\n4\\n1 100\\n6 22\\n1 1000\\n6 22\\n1 10000\\n6 22\\n1 100000\\n6 22\\n16\\n1 100000000\\n6 7\\n1 100000000\\n7 8\\n1 100000000\\n8 9\\n1 110000000\\n9 10\\n1 100000000\\n10 11\\n1 100000000\\n11 12\\n1 100000000\\n12 13\\n1 100000000\\n13 17\\n1 100000000\\n14 15\\n1 100000000\\n15 16\\n1 100000010\\n16 17\\n1 100000000\\n17 18\\n1 100000000\\n16 19\\n1 100000010\\n19 20\\n1 100000000\\n16 21\\n1 100101000\\n21 22\\n0', '84': '2\\n2 000\\n10 12\\n14 16\\n2 200\\n12 13\\n18 20\\n4\\n1 100\\n6 22\\n1 1000\\n6 22\\n1 10000\\n6 22\\n1 100000\\n6 22\\n16\\n1 100000000\\n6 7\\n1 100000000\\n7 14\\n1 100000000\\n8 9\\n1 110001000\\n9 10\\n1 110000000\\n10 11\\n1 100000000\\n11 12\\n1 100000000\\n12 13\\n1 100000000\\n13 14\\n1 100000000\\n14 15\\n1 100000000\\n15 16\\n1 100000010\\n16 17\\n1 100000000\\n17 18\\n1 100000000\\n18 19\\n1 100000010\\n19 20\\n1 100000000\\n20 21\\n1 100001000\\n21 22\\n0', '26': '2\\n2 100\\n10 12\\n14 16\\n2 200\\n12 13\\n18 20\\n4\\n1 110\\n6 22\\n1 1000\\n6 22\\n1 00000\\n6 22\\n1 100000\\n6 22\\n16\\n1 100000000\\n6 7\\n1 100000000\\n7 8\\n1 100000000\\n8 9\\n1 110000000\\n9 10\\n1 100000000\\n10 11\\n1 100000000\\n11 12\\n1 100000000\\n12 19\\n1 100000000\\n13 14\\n1 100000000\\n14 15\\n1 100001000\\n6 16\\n1 100000000\\n16 17\\n1 100000000\\n17 18\\n1 100000000\\n18 19\\n1 100000010\\n19 20\\n1 100000000\\n20 21\\n1 100001000\\n21 22\\n0', '50': '2\\n2 100\\n10 12\\n14 16\\n2 200\\n12 13\\n18 20\\n4\\n1 100\\n6 22\\n1 1000\\n6 22\\n1 10000\\n6 22\\n1 100000\\n6 22\\n16\\n1 100000000\\n6 7\\n1 100100000\\n7 8\\n1 100000000\\n8 9\\n1 110000000\\n9 10\\n1 100000000\\n10 11\\n1 100000000\\n11 12\\n1 100000000\\n12 13\\n1 100000000\\n13 14\\n1 100000000\\n14 15\\n1 100000000\\n15 16\\n1 100000000\\n16 17\\n1 100000000\\n17 18\\n1 100000000\\n18 19\\n1 100000000\\n19 20\\n1 100000000\\n20 21\\n1 100001000\\n21 22\\n0', '11': '2\\n2 100\\n8 12\\n14 16\\n2 200\\n12 13\\n18 20\\n4\\n1 100\\n6 22\\n1 1000\\n6 22\\n1 10000\\n6 22\\n1 100000\\n6 22\\n16\\n1 100000000\\n6 7\\n1 101000000\\n7 8\\n1 100000000\\n8 9\\n1 110000000\\n9 10\\n1 100000000\\n10 11\\n1 100000000\\n11 12\\n1 100000000\\n12 13\\n1 100000000\\n13 14\\n1 100000000\\n14 18\\n1 100000000\\n15 16\\n1 100000010\\n16 17\\n1 100000000\\n17 18\\n1 100000000\\n18 19\\n1 100000010\\n19 20\\n1 100000000\\n20 21\\n1 100101000\\n21 22\\n0', '44': '2\\n2 100\\n8 12\\n14 16\\n2 200\\n12 14\\n18 20\\n4\\n1 100\\n6 22\\n1 1000\\n6 22\\n1 10000\\n9 22\\n1 100000\\n6 22\\n16\\n1 100000000\\n6 7\\n1 101000000\\n7 8\\n1 100000100\\n8 9\\n1 110000000\\n9 10\\n1 100000000\\n10 11\\n1 100000000\\n11 12\\n1 100000100\\n12 13\\n1 100000000\\n13 14\\n1 100000000\\n14 18\\n1 100000000\\n6 16\\n1 100000010\\n16 17\\n1 100000000\\n17 18\\n1 100000000\\n18 19\\n1 100000010\\n19 20\\n1 100000000\\n20 21\\n1 100101000\\n21 22\\n0', '30': '2\\n2 100\\n8 12\\n14 16\\n2 200\\n12 13\\n18 20\\n4\\n1 100\\n6 22\\n1 1000\\n6 22\\n1 10000\\n6 22\\n1 100000\\n6 22\\n16\\n1 100000000\\n6 7\\n1 101000000\\n7 8\\n1 100000000\\n8 9\\n1 110000000\\n9 10\\n1 100000000\\n10 11\\n1 100000000\\n11 12\\n1 100000100\\n12 13\\n1 100000000\\n13 14\\n1 100000000\\n14 18\\n1 100000000\\n15 16\\n1 100000010\\n16 17\\n1 100000000\\n17 18\\n1 100000000\\n18 19\\n1 100000010\\n19 20\\n1 100000000\\n20 21\\n1 100101000\\n21 22\\n0', '23': '2\\n2 100\\n10 10\\n14 16\\n2 200\\n12 13\\n18 20\\n4\\n1 100\\n6 22\\n1 1000\\n6 22\\n1 10000\\n6 22\\n1 100000\\n6 22\\n16\\n1 100000000\\n6 7\\n1 100000000\\n7 8\\n1 100000000\\n8 9\\n1 110000000\\n9 10\\n1 100000000\\n10 11\\n1 100000000\\n11 12\\n1 100000000\\n12 19\\n1 100000000\\n13 14\\n1 100000001\\n14 15\\n1 100000000\\n15 16\\n1 100000000\\n16 17\\n1 100000010\\n17 18\\n1 101000000\\n18 19\\n1 100000010\\n19 20\\n1 100000000\\n20 21\\n1 100001000\\n21 22\\n0', '62': '2\\n2 100\\n10 12\\n14 16\\n2 200\\n12 17\\n18 20\\n4\\n1 100\\n6 22\\n1 1000\\n6 22\\n1 10000\\n8 22\\n1 100000\\n6 22\\n16\\n1 100000000\\n6 7\\n1 101000000\\n7 8\\n1 100000000\\n8 9\\n1 110000000\\n9 10\\n1 100000000\\n10 11\\n1 100000000\\n11 12\\n1 100000000\\n12 13\\n1 100000000\\n13 14\\n1 100000000\\n14 15\\n1 100000000\\n15 16\\n1 100000010\\n16 17\\n1 100000000\\n17 18\\n1 100000000\\n18 19\\n1 100000010\\n19 20\\n1 100000000\\n20 21\\n1 100101000\\n21 22\\n0', '13': '2\\n2 000\\n10 12\\n14 16\\n2 200\\n12 13\\n18 20\\n4\\n1 100\\n6 22\\n1 1000\\n6 22\\n1 10000\\n6 22\\n1 100000\\n6 22\\n16\\n1 100000000\\n6 7\\n1 100000000\\n7 8\\n1 100000000\\n8 9\\n1 110000000\\n9 10\\n1 100000000\\n10 11\\n1 100000000\\n11 12\\n1 100000000\\n12 13\\n1 100000000\\n13 14\\n1 100000000\\n14 15\\n1 100000000\\n15 16\\n1 100000000\\n16 17\\n1 100000000\\n17 18\\n1 100000000\\n18 19\\n1 100000010\\n19 20\\n1 100000000\\n20 21\\n1 100001000\\n21 22\\n0', '74': '2\\n2 100\\n10 12\\n14 16\\n2 200\\n12 13\\n15 20\\n4\\n1 100\\n6 22\\n1 1000\\n6 22\\n1 10000\\n6 22\\n1 100000\\n6 22\\n16\\n1 100000000\\n6 7\\n1 100000000\\n7 8\\n1 100000000\\n8 9\\n1 110000000\\n9 10\\n1 100000000\\n10 11\\n1 100000000\\n11 12\\n1 101000000\\n12 13\\n1 100000000\\n13 17\\n1 100000000\\n14 15\\n1 100000000\\n15 16\\n1 100000010\\n16 17\\n1 100000000\\n17 18\\n1 100000000\\n18 19\\n1 100000010\\n19 20\\n1 100000000\\n20 21\\n1 100101100\\n21 22\\n0', '65': '2\\n2 101\\n10 12\\n14 16\\n2 200\\n12 13\\n15 20\\n4\\n1 100\\n6 22\\n1 1000\\n6 22\\n1 10000\\n6 22\\n1 100000\\n6 22\\n16\\n1 100000000\\n6 7\\n1 100000000\\n7 8\\n1 100000000\\n8 9\\n1 110000100\\n9 10\\n1 100000000\\n10 11\\n1 100000000\\n11 12\\n1 100000000\\n12 13\\n1 100000000\\n13 17\\n1 100000000\\n14 15\\n1 100000000\\n15 16\\n1 100000010\\n13 17\\n1 100000000\\n17 18\\n1 100000000\\n16 19\\n1 100000010\\n19 20\\n1 100000000\\n16 21\\n1 100101000\\n21 22\\n0', '63': '2\\n2 110\\n10 12\\n14 16\\n2 82\\n12 13\\n18 20\\n4\\n1 100\\n6 22\\n1 1000\\n6 22\\n1 10000\\n6 22\\n1 100100\\n6 22\\n16\\n1 100000000\\n6 7\\n1 100000000\\n7 8\\n1 100000000\\n8 9\\n1 110000000\\n9 10\\n1 100000000\\n10 11\\n1 100000000\\n11 12\\n1 100000000\\n12 13\\n1 100000000\\n13 14\\n1 100000000\\n14 15\\n1 100000000\\n15 16\\n1 100000000\\n16 17\\n1 100000000\\n17 18\\n1 100000000\\n18 19\\n1 100000000\\n19 20\\n1 100000000\\n20 21\\n1 100001000\\n21 22\\n0', '93': '2\\n2 100\\n10 12\\n14 16\\n2 200\\n12 13\\n18 20\\n4\\n1 100\\n6 22\\n1 1000\\n6 22\\n1 10000\\n6 22\\n1 100000\\n6 22\\n16\\n1 100000000\\n6 7\\n1 100000000\\n7 8\\n1 100000000\\n8 9\\n1 110000000\\n9 10\\n1 100000000\\n10 11\\n1 100000000\\n11 12\\n1 100000000\\n12 13\\n1 100000000\\n13 17\\n1 100000000\\n14 15\\n1 100000000\\n15 16\\n1 100000010\\n16 17\\n1 100001000\\n17 18\\n1 100000000\\n18 19\\n1 100000010\\n19 20\\n1 100000000\\n20 21\\n1 100101000\\n21 22\\n0', '40': '2\\n2 100\\n10 12\\n14 16\\n2 200\\n12 13\\n18 20\\n4\\n1 100\\n6 22\\n1 1000\\n12 22\\n1 10000\\n6 22\\n1 100000\\n6 22\\n16\\n1 100000000\\n6 7\\n1 100000000\\n7 8\\n1 100000000\\n8 15\\n1 110000000\\n9 10\\n1 100000000\\n10 11\\n1 100000000\\n11 12\\n1 100000000\\n12 13\\n1 100000000\\n13 17\\n1 100000000\\n14 15\\n1 100000000\\n15 16\\n1 100000010\\n16 17\\n1 100000000\\n17 18\\n1 100000000\\n18 19\\n1 100000010\\n19 20\\n1 100000000\\n20 21\\n1 100101000\\n21 22\\n0', '61': '2\\n2 101\\n10 12\\n14 16\\n2 200\\n12 13\\n15 20\\n4\\n1 100\\n6 22\\n1 1000\\n6 22\\n1 10000\\n6 22\\n1 100000\\n6 22\\n16\\n1 100000000\\n6 7\\n1 100000000\\n7 8\\n1 100000000\\n8 9\\n1 110000000\\n9 10\\n1 100000000\\n10 11\\n1 100000000\\n11 12\\n1 100000000\\n12 13\\n1 100000000\\n13 17\\n1 100000000\\n14 15\\n1 100000000\\n15 16\\n1 100000010\\n16 17\\n1 100000000\\n17 18\\n1 100000000\\n16 19\\n1 100000010\\n19 20\\n1 100000000\\n16 21\\n1 100101000\\n7 22\\n0', '79': '2\\n2 000\\n10 12\\n14 16\\n2 200\\n12 13\\n18 20\\n4\\n1 100\\n6 22\\n1 1000\\n6 22\\n1 10000\\n6 22\\n1 100000\\n6 22\\n16\\n1 100000000\\n6 7\\n1 100000000\\n7 14\\n1 100000000\\n8 9\\n1 110001000\\n9 10\\n1 110000000\\n10 11\\n1 100000000\\n11 12\\n1 100000000\\n12 13\\n1 100000000\\n13 14\\n1 100000000\\n14 15\\n1 100000000\\n15 16\\n1 100000000\\n16 17\\n1 100000000\\n17 18\\n1 100000000\\n18 19\\n1 100000010\\n19 20\\n1 100000000\\n20 21\\n1 100001000\\n21 22\\n0', '36': '2\\n2 100\\n10 12\\n14 16\\n2 200\\n12 13\\n18 20\\n4\\n1 110\\n6 22\\n1 1000\\n6 22\\n1 00000\\n6 22\\n1 100000\\n6 22\\n16\\n1 100000000\\n6 7\\n1 100000000\\n7 8\\n1 100000000\\n8 9\\n1 110000000\\n9 10\\n1 100000000\\n10 11\\n1 100000000\\n11 12\\n1 100000000\\n12 19\\n1 100000000\\n13 14\\n1 100000000\\n14 15\\n1 100001000\\n6 16\\n1 100000000\\n16 17\\n1 100000000\\n11 18\\n1 100000000\\n18 19\\n1 100000010\\n19 20\\n1 100000000\\n20 21\\n1 100001000\\n21 22\\n0', '41': '2\\n2 100\\n10 12\\n14 16\\n2 200\\n12 13\\n18 20\\n4\\n1 100\\n7 22\\n1 1000\\n6 22\\n1 10000\\n6 22\\n1 100000\\n6 22\\n16\\n1 100000000\\n6 7\\n1 100000000\\n7 8\\n1 100000000\\n8 9\\n1 110000000\\n9 10\\n1 100000000\\n10 11\\n1 100000000\\n11 12\\n1 100000000\\n12 18\\n1 100001000\\n13 14\\n1 100000000\\n14 15\\n1 100000000\\n15 16\\n1 100000010\\n16 17\\n1 100000000\\n17 18\\n1 100000000\\n18 19\\n1 100000010\\n19 20\\n1 100000000\\n20 21\\n1 100001000\\n21 22\\n0', '92': '2\\n2 100\\n10 12\\n14 16\\n2 200\\n12 13\\n18 20\\n4\\n1 100\\n6 22\\n1 1000\\n6 22\\n1 10000\\n6 22\\n1 100000\\n6 22\\n16\\n1 100000000\\n6 7\\n1 100000000\\n7 8\\n1 101000000\\n8 9\\n1 110000000\\n9 10\\n1 100000000\\n10 18\\n1 100000000\\n11 12\\n1 100000000\\n12 19\\n1 100000000\\n13 14\\n1 100000000\\n14 15\\n1 100000000\\n15 16\\n1 100000000\\n16 17\\n1 100000000\\n17 18\\n1 100000000\\n18 19\\n1 100000010\\n19 20\\n1 100100001\\n20 21\\n1 100001000\\n21 22\\n0', '90': '2\\n2 000\\n10 12\\n14 16\\n2 200\\n12 13\\n18 20\\n4\\n1 100\\n6 22\\n1 1000\\n6 22\\n1 10000\\n6 22\\n1 100000\\n6 22\\n16\\n1 100000000\\n6 7\\n1 100000000\\n7 8\\n1 100000000\\n8 9\\n1 110000000\\n9 10\\n1 100000000\\n10 11\\n1 100000000\\n11 12\\n1 100000000\\n12 13\\n1 100000000\\n13 14\\n1 100000000\\n14 15\\n1 100000000\\n15 16\\n1 100000000\\n16 17\\n1 100000000\\n17 18\\n1 100000000\\n18 19\\n1 100000011\\n19 20\\n1 100000000\\n20 21\\n1 100001000\\n21 22\\n0', '8': '2\\n2 100\\n10 12\\n14 16\\n2 200\\n12 13\\n18 20\\n4\\n1 100\\n6 22\\n1 1000\\n6 22\\n1 10000\\n6 22\\n1 100000\\n6 22\\n16\\n1 100000000\\n6 7\\n1 100000000\\n7 8\\n1 100000000\\n8 9\\n1 110000000\\n9 10\\n1 100000000\\n10 11\\n1 100000000\\n11 12\\n1 100000000\\n12 13\\n1 100000000\\n13 14\\n1 100000000\\n14 15\\n1 100000000\\n15 16\\n1 100000010\\n16 17\\n1 100000000\\n17 18\\n1 100000000\\n18 19\\n1 100000010\\n19 20\\n1 100000000\\n20 21\\n1 100101000\\n21 22\\n0', '71': '2\\n2 100\\n10 12\\n14 16\\n2 200\\n12 13\\n18 20\\n4\\n1 100\\n6 22\\n1 1000\\n6 22\\n1 10000\\n6 22\\n1 100000\\n6 22\\n16\\n1 100000000\\n6 7\\n1 100000000\\n7 8\\n1 100000000\\n8 9\\n1 110000000\\n9 10\\n1 100000000\\n10 11\\n1 100000000\\n11 12\\n1 100000000\\n12 13\\n1 100000000\\n13 14\\n1 100000000\\n14 15\\n1 100000000\\n15 16\\n1 100000000\\n16 17\\n1 100000000\\n17 18\\n1 101000000\\n18 19\\n1 100000010\\n19 20\\n1 100000000\\n20 21\\n1 100000000\\n21 22\\n0', '46': '2\\n2 100\\n10 12\\n14 16\\n2 200\\n12 13\\n18 20\\n4\\n1 100\\n7 22\\n1 1000\\n6 22\\n1 10000\\n6 22\\n1 100000\\n6 22\\n16\\n1 100000000\\n6 9\\n1 100000000\\n7 8\\n1 100000000\\n8 9\\n1 110000000\\n9 10\\n1 100000000\\n10 11\\n1 100000000\\n11 12\\n1 100001001\\n12 18\\n1 100001000\\n13 14\\n1 100000000\\n14 15\\n1 100000000\\n15 16\\n1 100000010\\n16 17\\n1 100000000\\n17 18\\n1 100000000\\n18 19\\n1 100000010\\n19 20\\n1 100000000\\n20 21\\n1 100001100\\n21 22\\n0', '7': '2\\n2 100\\n10 12\\n14 16\\n2 200\\n12 13\\n18 20\\n4\\n1 100\\n6 22\\n1 1000\\n6 22\\n1 10000\\n6 22\\n1 100000\\n6 22\\n16\\n1 100000000\\n6 7\\n1 100000000\\n7 8\\n1 101000000\\n8 9\\n1 110000000\\n9 10\\n1 100000000\\n10 11\\n1 100000000\\n11 12\\n1 100000000\\n12 19\\n1 100000000\\n13 14\\n1 100000000\\n14 15\\n1 100000000\\n15 16\\n1 100000000\\n16 17\\n1 100000000\\n17 18\\n1 100000000\\n18 19\\n1 100000010\\n19 20\\n1 100100000\\n20 21\\n1 100001000\\n21 22\\n0', '25': '2\\n2 100\\n10 12\\n14 16\\n2 200\\n12 13\\n18 20\\n4\\n1 100\\n11 22\\n1 1000\\n6 22\\n1 10000\\n6 22\\n1 100000\\n6 22\\n16\\n1 100000000\\n6 7\\n1 100000000\\n7 8\\n1 100000000\\n8 9\\n1 110000000\\n9 10\\n1 100000000\\n10 11\\n1 100000000\\n11 20\\n1 100000000\\n12 18\\n1 100000000\\n13 14\\n1 100000000\\n14 15\\n1 100000000\\n15 16\\n1 100000010\\n16 17\\n1 100000000\\n17 18\\n1 100000000\\n18 19\\n1 100000010\\n19 20\\n1 100000000\\n20 21\\n1 100001000\\n21 22\\n0', '69': '2\\n2 100\\n8 12\\n14 16\\n2 200\\n12 14\\n18 20\\n4\\n1 100\\n6 22\\n1 1000\\n6 22\\n1 10000\\n9 22\\n1 100000\\n6 22\\n16\\n1 100000000\\n6 7\\n1 101000000\\n7 8\\n1 100000100\\n8 9\\n1 110000100\\n9 10\\n1 100000000\\n10 11\\n1 100000000\\n11 12\\n1 100100100\\n12 13\\n1 100000000\\n13 14\\n1 100000000\\n14 18\\n1 100000000\\n6 16\\n1 100000010\\n16 17\\n1 100000000\\n17 18\\n1 100000000\\n18 19\\n1 100000010\\n19 20\\n1 100000000\\n20 21\\n1 100101000\\n21 22\\n0', '60': '2\\n2 100\\n10 12\\n14 16\\n2 200\\n12 13\\n18 20\\n4\\n1 110\\n6 22\\n1 1000\\n6 22\\n1 00000\\n6 22\\n1 100000\\n6 22\\n16\\n1 100000000\\n6 7\\n1 100000000\\n7 8\\n1 100000000\\n8 9\\n1 110000000\\n9 10\\n1 100000000\\n10 11\\n1 100000000\\n11 12\\n1 100000000\\n12 19\\n1 100000000\\n13 14\\n1 100000000\\n14 15\\n1 100001000\\n6 16\\n1 100000100\\n16 17\\n1 100000000\\n17 18\\n1 100000000\\n18 19\\n1 100000010\\n19 20\\n1 100000000\\n20 21\\n1 100001000\\n21 22\\n0', '77': '2\\n2 100\\n10 10\\n14 16\\n2 200\\n12 13\\n18 20\\n4\\n1 100\\n6 22\\n1 1000\\n6 22\\n1 10000\\n6 22\\n1 100000\\n6 22\\n16\\n1 100000000\\n6 12\\n1 100000000\\n7 8\\n1 100000000\\n8 9\\n1 110000000\\n9 10\\n1 100000000\\n10 11\\n1 100000000\\n11 12\\n1 100000000\\n12 19\\n1 101000000\\n13 14\\n1 100000001\\n14 15\\n1 100000000\\n15 16\\n1 100000000\\n16 17\\n1 101000010\\n17 18\\n1 101000000\\n18 19\\n1 100000010\\n19 20\\n1 100000000\\n20 21\\n1 100001000\\n21 22\\n0', '56': '2\\n2 100\\n10 12\\n14 16\\n2 200\\n12 13\\n18 20\\n4\\n1 100\\n11 22\\n1 1000\\n6 22\\n1 10000\\n6 22\\n1 100000\\n6 22\\n16\\n1 100000000\\n6 7\\n1 100000000\\n7 8\\n1 100010000\\n8 9\\n1 110000000\\n9 10\\n1 100000000\\n10 11\\n1 100000000\\n11 12\\n1 100000000\\n12 13\\n1 100000000\\n13 14\\n1 100000000\\n14 15\\n1 100000000\\n15 16\\n1 100000010\\n16 17\\n1 100000000\\n17 18\\n1 100000000\\n18 19\\n1 100000010\\n19 20\\n1 100000000\\n20 21\\n1 100001000\\n21 22\\n0', '4': '2\\n2 100\\n10 12\\n14 16\\n2 200\\n12 13\\n18 20\\n4\\n1 100\\n6 22\\n1 1000\\n6 22\\n1 10000\\n6 22\\n1 100000\\n6 22\\n16\\n1 100000000\\n6 7\\n1 100000000\\n7 8\\n1 100000000\\n8 9\\n1 110000000\\n9 10\\n1 100000000\\n10 11\\n1 100000000\\n11 12\\n1 100000000\\n12 19\\n1 100000000\\n13 14\\n1 100000000\\n14 15\\n1 100000000\\n15 16\\n1 100000000\\n16 17\\n1 100000000\\n17 18\\n1 100000000\\n18 19\\n1 100000010\\n19 20\\n1 100000000\\n20 21\\n1 100001000\\n21 22\\n0', '98': '2\\n2 101\\n10 12\\n14 16\\n2 200\\n12 13\\n15 20\\n4\\n1 100\\n6 22\\n1 1000\\n6 22\\n1 10000\\n6 22\\n1 100000\\n6 22\\n16\\n1 100000000\\n6 7\\n1 100000000\\n7 8\\n1 100000000\\n8 9\\n1 110000100\\n9 10\\n1 100000000\\n10 11\\n1 100000000\\n11 20\\n1 100000000\\n12 13\\n1 100000000\\n13 17\\n1 100000000\\n14 15\\n1 100000000\\n15 16\\n1 100000010\\n16 17\\n1 100000000\\n17 18\\n1 100000000\\n16 19\\n1 100000010\\n19 20\\n1 100000000\\n16 21\\n1 100101000\\n21 22\\n0', '31': '2\\n2 110\\n10 12\\n14 16\\n2 82\\n12 13\\n18 20\\n4\\n1 100\\n6 22\\n1 1000\\n6 22\\n1 10000\\n6 22\\n1 100000\\n6 22\\n16\\n1 100000000\\n6 7\\n1 100000000\\n7 8\\n1 100000000\\n8 9\\n1 110000000\\n9 10\\n1 100000000\\n10 11\\n1 100000000\\n11 12\\n1 100000000\\n12 13\\n1 100000000\\n13 14\\n1 100000000\\n14 15\\n1 100000000\\n15 16\\n1 100000000\\n16 17\\n1 100000000\\n17 18\\n1 100000000\\n18 19\\n1 100000000\\n19 20\\n1 100000000\\n20 21\\n1 100001000\\n21 22\\n0', '35': '2\\n2 100\\n10 10\\n14 16\\n2 200\\n12 13\\n18 20\\n4\\n1 100\\n6 22\\n1 1000\\n6 22\\n1 10000\\n6 22\\n1 100000\\n6 22\\n16\\n1 100000000\\n6 7\\n1 100000000\\n7 8\\n1 100000000\\n8 9\\n1 110000000\\n9 10\\n1 100000000\\n10 11\\n1 100000000\\n11 12\\n1 100000000\\n12 19\\n1 101000000\\n13 14\\n1 100000001\\n14 15\\n1 100000000\\n15 16\\n1 100000000\\n16 17\\n1 100000010\\n17 18\\n1 101000000\\n18 19\\n1 100000010\\n19 20\\n1 100000000\\n20 21\\n1 100001000\\n21 22\\n0', '96': '2\\n2 100\\n10 12\\n14 16\\n2 200\\n12 13\\n18 20\\n4\\n1 110\\n6 22\\n1 1000\\n6 22\\n1 00000\\n6 22\\n1 100000\\n6 22\\n16\\n1 100000000\\n6 7\\n1 100000000\\n7 8\\n1 100000000\\n8 11\\n1 110000000\\n9 10\\n1 100000000\\n10 11\\n1 100000000\\n11 12\\n1 100000000\\n12 19\\n1 100000000\\n13 14\\n1 100000000\\n14 15\\n1 100001000\\n15 16\\n1 100000000\\n16 17\\n1 100000000\\n17 18\\n1 100000000\\n18 19\\n1 100000010\\n19 20\\n1 110000000\\n20 21\\n1 100001000\\n21 22\\n0', '47': '2\\n2 100\\n8 12\\n14 16\\n2 200\\n12 14\\n18 20\\n4\\n1 100\\n6 22\\n1 1000\\n6 22\\n1 10000\\n9 22\\n1 100000\\n6 22\\n16\\n1 100000000\\n6 7\\n1 101000000\\n7 8\\n1 100000100\\n8 9\\n1 110000000\\n9 10\\n1 100000000\\n10 11\\n1 100000000\\n11 22\\n1 100100100\\n12 13\\n1 100000000\\n13 14\\n1 100000000\\n14 18\\n1 100000000\\n6 16\\n1 100000010\\n16 17\\n1 100000000\\n17 18\\n1 100000000\\n18 19\\n1 100000010\\n19 20\\n1 100000000\\n20 21\\n1 100101000\\n21 22\\n0', '17': '2\\n2 100\\n10 12\\n14 16\\n2 200\\n12 13\\n18 20\\n4\\n1 100\\n6 22\\n1 1000\\n6 22\\n1 10000\\n6 22\\n1 100000\\n6 22\\n16\\n1 100000000\\n6 7\\n1 100000000\\n7 8\\n1 100000000\\n8 9\\n1 110000000\\n9 10\\n1 100000000\\n10 11\\n1 100000000\\n11 12\\n1 100000000\\n12 13\\n1 100000000\\n13 17\\n1 100000000\\n14 15\\n1 100000000\\n15 16\\n1 100000010\\n16 17\\n1 100000000\\n17 18\\n1 100000000\\n18 19\\n1 100000010\\n19 20\\n1 100000000\\n20 21\\n1 100101000\\n21 22\\n0', '32': '2\\n2 100\\n10 12\\n14 16\\n2 200\\n12 13\\n18 20\\n4\\n1 100\\n6 22\\n1 1000\\n6 22\\n1 10000\\n6 22\\n1 100000\\n6 22\\n16\\n1 100000000\\n6 7\\n1 100000000\\n7 8\\n1 100000000\\n8 9\\n1 110000000\\n9 10\\n1 100000000\\n10 11\\n1 100000000\\n11 12\\n1 100000000\\n12 19\\n1 100000100\\n13 14\\n1 100000000\\n14 15\\n1 100000000\\n15 16\\n1 100000000\\n16 17\\n1 100000000\\n17 18\\n1 100000000\\n18 19\\n1 100000010\\n6 20\\n1 100000000\\n20 21\\n1 100001000\\n21 22\\n0', '6': '2\\n2 100\\n10 12\\n14 16\\n2 200\\n12 13\\n18 20\\n4\\n1 100\\n6 22\\n1 1000\\n6 22\\n1 10000\\n6 22\\n1 100000\\n6 22\\n16\\n1 100000000\\n6 7\\n1 100000000\\n7 8\\n1 101000000\\n8 9\\n1 110000000\\n9 10\\n1 100000000\\n10 11\\n1 100000000\\n11 12\\n1 100000000\\n12 19\\n1 100000000\\n13 14\\n1 100000000\\n14 15\\n1 100000000\\n15 16\\n1 100000000\\n16 17\\n1 100000000\\n17 18\\n1 100000000\\n18 19\\n1 100000010\\n19 20\\n1 100000000\\n20 21\\n1 100001000\\n21 22\\n0', '83': '2\\n2 100\\n10 10\\n14 16\\n2 200\\n12 13\\n18 20\\n4\\n1 100\\n6 22\\n1 1000\\n6 22\\n1 10000\\n6 22\\n1 100000\\n6 22\\n16\\n1 100000000\\n6 12\\n1 100000000\\n7 16\\n1 100000000\\n8 9\\n1 110000000\\n9 10\\n1 100000000\\n10 11\\n1 100000000\\n11 12\\n1 100000000\\n12 19\\n1 101000000\\n13 14\\n1 100000001\\n14 15\\n1 100000000\\n15 16\\n1 100000000\\n16 17\\n1 101000010\\n17 18\\n1 101000000\\n18 19\\n1 100000010\\n19 20\\n1 100000000\\n20 21\\n1 100001000\\n21 22\\n0', '15': '2\\n2 100\\n10 12\\n14 16\\n2 200\\n12 13\\n18 20\\n4\\n1 100\\n6 22\\n1 1000\\n6 22\\n1 10000\\n6 22\\n1 100000\\n6 22\\n16\\n1 100000000\\n6 7\\n1 100000000\\n7 8\\n1 101000000\\n8 9\\n1 110000000\\n9 10\\n1 100000000\\n10 11\\n1 100000000\\n11 12\\n1 100000000\\n12 19\\n1 100000000\\n13 14\\n1 100000000\\n14 15\\n1 100000000\\n15 16\\n1 100000000\\n16 17\\n1 100000000\\n17 18\\n1 100000000\\n18 19\\n1 100000010\\n19 20\\n1 100100001\\n20 21\\n1 100001000\\n21 22\\n0', '58': '2\\n2 100\\n10 10\\n14 16\\n2 200\\n12 13\\n18 20\\n4\\n1 100\\n6 22\\n1 1000\\n6 22\\n1 10000\\n6 22\\n1 100000\\n6 22\\n16\\n1 100000000\\n6 7\\n1 100000000\\n7 8\\n1 100000000\\n8 9\\n1 110000000\\n9 10\\n1 100000000\\n10 11\\n1 100000000\\n11 12\\n1 100000000\\n12 19\\n1 100000000\\n13 14\\n1 100000001\\n14 15\\n1 100000000\\n15 21\\n1 100000000\\n16 17\\n1 100000010\\n17 18\\n1 101000000\\n18 19\\n1 100000010\\n19 20\\n1 100000000\\n20 21\\n1 100001000\\n21 22\\n0', '67': '2\\n2 100\\n8 12\\n14 16\\n2 200\\n12 14\\n18 20\\n4\\n1 100\\n6 22\\n1 1000\\n6 22\\n1 10000\\n9 22\\n1 100000\\n6 22\\n16\\n1 100000000\\n6 7\\n1 101000000\\n7 8\\n1 100000100\\n8 9\\n1 110000000\\n9 10\\n1 100000000\\n10 11\\n1 100000000\\n11 12\\n1 100000100\\n12 13\\n1 100000000\\n13 14\\n1 100000000\\n14 18\\n1 100000000\\n6 16\\n1 000000010\\n16 17\\n1 100000000\\n17 18\\n1 100000000\\n18 19\\n1 100000010\\n19 20\\n1 100000000\\n20 21\\n1 100101000\\n21 22\\n0', '51': '2\\n2 100\\n10 12\\n14 19\\n2 200\\n12 13\\n18 20\\n4\\n1 100\\n6 22\\n1 1000\\n6 22\\n1 10000\\n6 22\\n1 100000\\n6 22\\n16\\n1 100000000\\n6 7\\n1 100000000\\n7 8\\n1 100000000\\n8 9\\n1 110000000\\n9 10\\n1 100000000\\n10 11\\n1 100000000\\n11 12\\n1 100000001\\n12 13\\n1 100000000\\n13 14\\n1 100000000\\n14 15\\n1 100000000\\n15 16\\n1 100000000\\n16 17\\n1 100000000\\n17 18\\n1 100000000\\n18 19\\n1 100000000\\n19 20\\n1 100000000\\n20 21\\n1 100001000\\n21 22\\n0', '48': '2\\n2 100\\n8 12\\n14 16\\n2 200\\n12 14\\n18 20\\n4\\n1 100\\n6 22\\n1 1000\\n6 22\\n1 10000\\n9 22\\n1 100000\\n6 22\\n16\\n1 100000000\\n6 7\\n1 101000000\\n7 8\\n1 100000100\\n8 9\\n1 110000000\\n9 10\\n1 100000000\\n10 11\\n1 100000000\\n11 22\\n1 100100100\\n12 13\\n1 100000000\\n13 14\\n1 100000000\\n14 18\\n1 100000000\\n6 16\\n1 100000010\\n16 17\\n1 100000000\\n17 18\\n1 100000000\\n18 19\\n1 100000010\\n19 20\\n1 100000000\\n20 21\\n1 100101000\\n16 22\\n0', '81': '2\\n2 100\\n10 12\\n14 16\\n2 200\\n12 13\\n15 20\\n4\\n1 100\\n6 22\\n1 1000\\n6 22\\n1 10000\\n6 22\\n1 100000\\n6 22\\n16\\n1 100000000\\n6 7\\n1 100000000\\n7 8\\n1 100000000\\n8 9\\n1 110000000\\n9 10\\n1 100000000\\n10 11\\n1 100000000\\n11 12\\n1 101000000\\n12 13\\n1 100000000\\n13 17\\n1 100000000\\n14 15\\n1 100000000\\n15 16\\n1 100000010\\n16 17\\n1 100000000\\n17 18\\n1 100000000\\n18 19\\n1 100000010\\n19 20\\n1 100000000\\n20 21\\n1 100101100\\n13 22\\n0', '70': '2\\n2 100\\n8 12\\n14 16\\n2 200\\n12 14\\n18 20\\n4\\n1 100\\n6 22\\n1 1000\\n6 22\\n1 10000\\n9 22\\n1 100000\\n6 22\\n16\\n1 100000000\\n6 7\\n1 101000000\\n7 8\\n1 100000100\\n8 9\\n1 110000000\\n9 10\\n1 100000000\\n10 11\\n1 100000000\\n11 22\\n1 100100100\\n12 13\\n1 100000000\\n13 14\\n1 100000000\\n14 18\\n1 100000000\\n6 16\\n1 100000010\\n16 17\\n1 100000000\\n17 18\\n1 100000000\\n18 19\\n1 100000010\\n19 20\\n1 100000000\\n20 21\\n1 100111000\\n21 22\\n0', '19': '2\\n2 100\\n10 12\\n14 19\\n2 200\\n12 13\\n18 20\\n4\\n1 110\\n6 22\\n1 1000\\n6 9\\n1 10000\\n6 22\\n1 100000\\n6 22\\n16\\n1 101000000\\n6 7\\n1 100000000\\n7 8\\n1 100000000\\n8 9\\n1 110000000\\n9 10\\n1 100000000\\n10 11\\n1 100000000\\n11 12\\n1 100000000\\n12 13\\n1 100000000\\n13 14\\n1 100000000\\n14 15\\n1 100000000\\n15 16\\n1 100001000\\n16 17\\n1 100000000\\n17 18\\n1 100000000\\n18 19\\n1 100000000\\n19 20\\n1 100000000\\n20 21\\n1 100001000\\n21 22\\n0', '14': '2\\n2 100\\n10 12\\n14 16\\n2 200\\n12 13\\n18 20\\n4\\n1 100\\n6 22\\n1 1000\\n6 22\\n1 10000\\n6 22\\n1 100000\\n6 22\\n16\\n1 100000000\\n6 7\\n1 100000000\\n7 8\\n1 100000000\\n8 9\\n1 110000000\\n9 10\\n1 100000000\\n10 11\\n1 100000000\\n11 12\\n1 100000000\\n12 19\\n1 100000100\\n13 14\\n1 100000000\\n14 15\\n1 100000000\\n15 16\\n1 100000000\\n16 17\\n1 100000000\\n17 18\\n1 100000000\\n18 19\\n1 100000010\\n19 20\\n1 100000000\\n20 21\\n1 100001000\\n21 22\\n0', '1': '2\\n2 100\\n10 12\\n14 16\\n2 200\\n12 13\\n18 20\\n4\\n1 100\\n6 22\\n1 1000\\n6 22\\n1 10000\\n6 22\\n1 100000\\n6 22\\n16\\n1 100000000\\n6 7\\n1 100000000\\n7 8\\n1 100000000\\n8 9\\n1 110000000\\n9 10\\n1 100000000\\n10 11\\n1 100000000\\n11 12\\n1 100000000\\n12 13\\n1 100000000\\n13 14\\n1 100000000\\n14 15\\n1 100000000\\n15 16\\n1 100000000\\n16 17\\n1 100000000\\n17 18\\n1 100000000\\n18 19\\n1 100000000\\n19 20\\n1 100000000\\n20 21\\n1 100001000\\n21 22\\n0', '86': '2\\n2 100\\n10 12\\n14 16\\n2 200\\n12 13\\n18 20\\n4\\n1 100\\n6 22\\n1 1000\\n6 22\\n1 10000\\n6 14\\n1 100000\\n6 22\\n16\\n1 100000000\\n6 7\\n1 100000000\\n7 8\\n1 100000000\\n8 9\\n1 100000000\\n9 10\\n1 100000000\\n10 11\\n1 100000000\\n11 12\\n1 100000000\\n12 13\\n1 100000000\\n13 14\\n1 100000000\\n14 15\\n1 100000000\\n15 16\\n1 100000000\\n16 17\\n1 100000000\\n17 18\\n1 100000000\\n18 19\\n1 100000000\\n19 20\\n1 100000000\\n20 21\\n1 100000000\\n21 22\\n0', '95': '2\\n2 110\\n10 12\\n14 16\\n2 82\\n12 13\\n18 20\\n4\\n1 100\\n6 22\\n1 1000\\n6 22\\n1 10000\\n6 22\\n1 100000\\n6 22\\n16\\n1 100000000\\n6 7\\n1 100000000\\n7 8\\n1 100000000\\n8 9\\n1 110000000\\n9 10\\n1 100000000\\n10 11\\n1 100000000\\n11 12\\n1 100000000\\n12 13\\n1 100000000\\n13 14\\n1 100000000\\n14 15\\n1 100000000\\n15 16\\n1 100000000\\n16 17\\n1 100000000\\n17 18\\n1 100000000\\n18 19\\n1 100000000\\n19 20\\n1 100100000\\n20 21\\n1 100001000\\n21 22\\n0', '59': '2\\n2 100\\n10 12\\n14 16\\n2 200\\n12 13\\n15 20\\n4\\n1 100\\n6 22\\n1 1000\\n6 22\\n1 10000\\n6 22\\n1 100000\\n6 22\\n16\\n1 100000000\\n6 7\\n1 100000000\\n7 8\\n1 100000000\\n8 9\\n1 110000000\\n9 10\\n1 100000000\\n10 11\\n1 100000000\\n11 12\\n1 101000000\\n12 13\\n1 100000000\\n13 17\\n1 100000000\\n14 15\\n1 100000000\\n15 16\\n1 100000010\\n16 17\\n1 100000000\\n17 18\\n1 100000000\\n18 19\\n1 100000010\\n19 20\\n1 100000000\\n20 21\\n1 100101000\\n21 22\\n0', '99': '2\\n2 100\\n10 12\\n14 16\\n2 200\\n12 13\\n18 20\\n4\\n1 100\\n7 22\\n1 1000\\n6 22\\n1 10000\\n6 22\\n1 100000\\n6 22\\n16\\n1 100000000\\n6 9\\n1 100000000\\n7 8\\n1 100000000\\n8 9\\n1 110000000\\n9 10\\n1 100000000\\n10 11\\n1 100000000\\n11 12\\n1 100000001\\n12 18\\n1 100001000\\n13 14\\n1 100000000\\n14 15\\n1 100000000\\n15 16\\n1 100000010\\n16 17\\n1 100000000\\n17 18\\n1 100000000\\n18 19\\n1 100000010\\n19 20\\n1 100000000\\n20 21\\n1 100011000\\n21 22\\n0', '42': '2\\n2 100\\n8 12\\n14 16\\n2 200\\n12 14\\n18 20\\n4\\n1 100\\n6 22\\n1 1000\\n6 22\\n1 10000\\n6 22\\n1 100000\\n6 22\\n16\\n1 100000000\\n6 7\\n1 101000000\\n7 8\\n1 100000000\\n8 9\\n1 110000000\\n9 10\\n1 100000000\\n10 11\\n1 100000000\\n11 12\\n1 100000100\\n12 13\\n1 100000000\\n13 14\\n1 100000000\\n14 18\\n1 100000000\\n6 16\\n1 100000010\\n16 17\\n1 100000000\\n17 18\\n1 100000000\\n18 19\\n1 100000010\\n19 20\\n1 100000000\\n20 21\\n1 100101000\\n21 22\\n0', '39': '2\\n2 110\\n10 12\\n14 16\\n2 82\\n12 13\\n18 20\\n4\\n1 100\\n6 22\\n1 1000\\n6 22\\n1 10000\\n6 22\\n1 100000\\n6 22\\n16\\n1 100000000\\n6 7\\n1 100000000\\n7 8\\n1 100000000\\n8 9\\n1 110000000\\n9 10\\n1 100000000\\n10 11\\n1 100000000\\n11 12\\n1 100000000\\n12 13\\n1 100000000\\n13 14\\n1 100000000\\n14 15\\n1 100000000\\n15 16\\n1 100000000\\n6 17\\n1 100000000\\n17 18\\n1 100000000\\n18 19\\n1 100000000\\n19 20\\n1 100000000\\n20 21\\n1 100001000\\n21 22\\n0', '68': '2\\n2 100\\n10 12\\n14 16\\n2 200\\n12 13\\n18 20\\n4\\n1 100\\n7 22\\n1 1000\\n6 22\\n1 10000\\n6 22\\n1 100000\\n6 22\\n16\\n1 100000000\\n6 9\\n1 100000000\\n7 8\\n1 100000000\\n8 9\\n1 110000000\\n9 10\\n1 100000000\\n10 11\\n1 100000000\\n11 12\\n1 100001001\\n12 18\\n1 100001000\\n13 14\\n1 100000000\\n14 15\\n1 100000000\\n15 16\\n1 100000010\\n16 17\\n1 100000000\\n17 18\\n1 100000000\\n18 19\\n1 100000010\\n19 20\\n1 100000000\\n10 21\\n1 100001000\\n21 22\\n0', '64': '2\\n2 100\\n10 10\\n14 16\\n2 200\\n12 13\\n18 20\\n4\\n1 100\\n6 22\\n1 1000\\n6 22\\n1 10000\\n6 22\\n1 100000\\n6 22\\n16\\n1 100000000\\n6 12\\n1 100000000\\n7 8\\n1 100000000\\n8 9\\n1 110000000\\n9 10\\n1 100000000\\n10 11\\n1 100000000\\n11 12\\n1 100000000\\n12 19\\n1 101000000\\n13 14\\n1 100000001\\n14 15\\n1 100000000\\n15 16\\n1 100000000\\n16 17\\n1 100000010\\n17 18\\n1 101000000\\n18 19\\n1 100000010\\n19 20\\n1 100000000\\n20 21\\n1 100001000\\n21 22\\n0', '66': '2\\n2 100\\n8 12\\n14 16\\n2 200\\n12 14\\n18 20\\n4\\n1 100\\n6 22\\n1 1000\\n6 22\\n1 10000\\n6 22\\n1 100000\\n6 22\\n16\\n1 100000000\\n6 7\\n1 101000000\\n7 8\\n1 100000000\\n8 9\\n1 110000000\\n9 10\\n1 100000000\\n10 11\\n1 100000000\\n11 12\\n1 100000100\\n12 13\\n1 100000000\\n13 14\\n1 100000000\\n14 18\\n1 100000000\\n6 16\\n1 100000010\\n16 17\\n1 100000000\\n17 18\\n1 100000000\\n18 19\\n1 100000010\\n19 20\\n1 100100000\\n20 21\\n1 100101000\\n21 22\\n0', '9': '2\\n2 100\\n10 12\\n14 19\\n2 200\\n12 13\\n18 20\\n4\\n1 110\\n6 22\\n1 1000\\n6 22\\n1 10000\\n6 22\\n1 100000\\n6 22\\n16\\n1 101000000\\n6 7\\n1 100000000\\n7 8\\n1 100000000\\n8 9\\n1 110000000\\n9 10\\n1 100000000\\n10 11\\n1 100000000\\n11 12\\n1 100000000\\n12 13\\n1 100000000\\n13 14\\n1 100000000\\n14 15\\n1 100000000\\n15 16\\n1 100000000\\n16 17\\n1 100000000\\n17 18\\n1 100000000\\n18 19\\n1 100000000\\n19 20\\n1 100000000\\n20 21\\n1 100001000\\n21 22\\n0', '88': '2\\n2 100\\n10 12\\n14 19\\n2 200\\n12 13\\n18 20\\n4\\n1 110\\n6 22\\n1 1000\\n6 9\\n1 10000\\n6 22\\n1 100000\\n6 22\\n16\\n1 101000000\\n6 7\\n1 100000000\\n7 8\\n1 100000000\\n8 9\\n1 110000000\\n9 14\\n1 100000000\\n10 11\\n1 100000000\\n11 12\\n1 100000000\\n12 13\\n1 100000000\\n13 14\\n1 100000000\\n14 15\\n1 100000000\\n15 16\\n1 100000000\\n16 17\\n1 100000000\\n17 18\\n1 100000000\\n18 19\\n1 100000000\\n19 20\\n1 100000000\\n20 21\\n1 100001000\\n21 22\\n0', '0': '2\\n2 100\\n10 12\\n14 16\\n2 200\\n12 13\\n18 20\\n4\\n1 100\\n6 22\\n1 1000\\n6 22\\n1 10000\\n6 22\\n1 100000\\n6 22\\n16\\n1 100000000\\n6 7\\n1 100000000\\n7 8\\n1 100000000\\n8 9\\n1 110000000\\n9 10\\n1 100000000\\n10 11\\n1 100000000\\n11 12\\n1 100000000\\n12 13\\n1 100000000\\n13 14\\n1 100000000\\n14 15\\n1 100000000\\n15 16\\n1 100000000\\n16 17\\n1 100000000\\n17 18\\n1 100000000\\n18 19\\n1 100000000\\n19 20\\n1 100000000\\n20 21\\n1 100000000\\n21 22\\n0', '45': '2\\n2 100\\n8 12\\n14 16\\n2 200\\n12 14\\n18 20\\n4\\n1 100\\n6 22\\n1 1000\\n6 22\\n1 10000\\n9 22\\n1 100000\\n6 22\\n16\\n1 100000000\\n6 7\\n1 101000000\\n7 8\\n1 100000100\\n8 9\\n1 110000000\\n9 10\\n1 100000000\\n10 11\\n1 100000000\\n11 12\\n1 100100100\\n12 13\\n1 100000000\\n13 14\\n1 100000000\\n14 18\\n1 100000000\\n6 16\\n1 100000010\\n16 17\\n1 100000000\\n17 18\\n1 100000000\\n18 19\\n1 100000010\\n19 20\\n1 100000000\\n20 21\\n1 100101000\\n21 22\\n0', '43': '2\\n2 100\\n10 12\\n14 16\\n2 200\\n12 13\\n18 20\\n4\\n1 100\\n7 22\\n1 1000\\n6 22\\n1 10000\\n6 22\\n1 100000\\n6 22\\n16\\n1 100000000\\n6 9\\n1 100000000\\n7 8\\n1 100000000\\n8 9\\n1 110000000\\n9 10\\n1 100000000\\n10 11\\n1 100000000\\n11 12\\n1 100000001\\n12 18\\n1 100001000\\n13 14\\n1 100000000\\n14 15\\n1 100000000\\n15 16\\n1 100000010\\n16 17\\n1 100000000\\n17 18\\n1 100000000\\n18 19\\n1 100000010\\n19 20\\n1 100000000\\n20 21\\n1 100001000\\n21 22\\n0', '76': '2\\n2 101\\n10 12\\n14 16\\n2 200\\n12 13\\n15 20\\n4\\n1 100\\n6 22\\n1 1000\\n6 22\\n1 10000\\n6 22\\n1 100000\\n6 22\\n16\\n1 100000010\\n6 7\\n1 100000000\\n7 8\\n1 100000000\\n8 9\\n1 110000000\\n9 10\\n1 100000000\\n10 11\\n1 100000000\\n11 12\\n1 100000000\\n12 13\\n1 100000000\\n13 17\\n1 100000000\\n14 15\\n1 100000000\\n15 16\\n1 100000010\\n16 17\\n1 100000000\\n17 18\\n1 100000000\\n16 19\\n1 100000010\\n19 20\\n1 100000000\\n16 21\\n1 100101000\\n7 22\\n0', '72': '2\\n2 000\\n10 12\\n14 16\\n2 200\\n12 13\\n18 20\\n4\\n1 100\\n6 22\\n1 1000\\n6 22\\n1 10000\\n6 22\\n1 100000\\n6 22\\n16\\n1 100000000\\n6 7\\n1 100000000\\n7 8\\n1 100000000\\n8 9\\n1 110001000\\n9 10\\n1 110000000\\n10 11\\n1 100000000\\n11 12\\n1 100000000\\n12 13\\n1 100000000\\n13 14\\n1 100000000\\n14 15\\n1 100000000\\n15 16\\n1 100000000\\n16 17\\n1 100000000\\n17 18\\n1 100000000\\n18 19\\n1 100000010\\n19 20\\n1 100000000\\n20 21\\n1 100001000\\n21 22\\n0', '85': '2\\n2 100\\n10 10\\n14 16\\n2 200\\n12 13\\n18 20\\n4\\n1 100\\n6 22\\n1 1000\\n6 22\\n1 10000\\n6 22\\n1 100000\\n6 9\\n16\\n1 100000000\\n6 7\\n1 100000000\\n7 8\\n1 100000000\\n8 9\\n1 110000000\\n9 10\\n1 100000000\\n10 11\\n1 100001000\\n11 14\\n1 100000000\\n12 19\\n1 100000000\\n13 14\\n1 100000001\\n14 15\\n1 100000000\\n15 21\\n1 100000000\\n16 17\\n1 100000010\\n17 18\\n1 101000000\\n18 19\\n1 100000010\\n19 20\\n1 100000000\\n20 21\\n1 100001000\\n21 22\\n0', '91': '2\\n2 100\\n10 12\\n14 16\\n2 200\\n12 13\\n18 20\\n4\\n1 100\\n11 22\\n1 1000\\n6 22\\n1 10000\\n6 22\\n1 100000\\n6 22\\n16\\n1 100000000\\n6 7\\n1 100000000\\n7 8\\n1 100000000\\n8 9\\n1 110000000\\n9 10\\n1 100000000\\n10 11\\n1 100000000\\n11 12\\n1 100000000\\n12 13\\n1 100000000\\n13 14\\n1 100000000\\n14 15\\n1 100000000\\n15 16\\n1 100000010\\n16 17\\n1 100000000\\n17 18\\n1 100001000\\n18 19\\n1 100000010\\n19 20\\n1 100000000\\n20 21\\n1 100001000\\n21 22\\n0', '5': '2\\n2 100\\n10 12\\n14 16\\n2 200\\n12 13\\n18 20\\n4\\n1 100\\n6 22\\n1 1000\\n6 22\\n1 10000\\n6 22\\n1 100000\\n6 22\\n16\\n1 100000000\\n6 7\\n1 100000000\\n7 8\\n1 100000000\\n8 9\\n1 110000000\\n9 10\\n1 100000000\\n10 11\\n1 100000000\\n11 12\\n1 100000000\\n12 13\\n1 100000000\\n13 14\\n1 100000000\\n14 15\\n1 100000000\\n15 16\\n1 100000010\\n16 17\\n1 100000000\\n17 18\\n1 100000000\\n18 19\\n1 100000010\\n19 20\\n1 100000000\\n20 21\\n1 100001000\\n21 22\\n0', '22': '2\\n2 100\\n10 12\\n14 16\\n2 200\\n12 13\\n18 20\\n4\\n1 110\\n6 22\\n1 1000\\n6 22\\n1 00000\\n6 22\\n1 100000\\n6 22\\n16\\n1 100000000\\n6 7\\n1 100000000\\n7 8\\n1 100000000\\n8 9\\n1 110000000\\n9 10\\n1 100000000\\n10 11\\n1 100000000\\n11 12\\n1 100000000\\n12 19\\n1 100000000\\n13 14\\n1 100000000\\n14 15\\n1 100001000\\n15 16\\n1 100000000\\n16 17\\n1 100000000\\n17 18\\n1 100000000\\n18 19\\n1 100000010\\n19 20\\n1 100000000\\n20 21\\n1 100001000\\n21 22\\n0', '94': '2\\n2 100\\n10 12\\n14 16\\n2 200\\n12 13\\n18 20\\n4\\n1 110\\n6 22\\n1 1000\\n6 22\\n1 00000\\n6 22\\n1 100000\\n6 22\\n16\\n1 100000000\\n6 7\\n1 100000000\\n7 8\\n1 100000000\\n8 9\\n1 110000000\\n9 10\\n1 100000000\\n10 11\\n1 100000000\\n11 12\\n1 100000000\\n12 19\\n1 100010000\\n13 14\\n1 100000000\\n14 15\\n1 100001000\\n15 16\\n1 100000000\\n16 17\\n1 100000000\\n17 18\\n1 100000000\\n18 19\\n1 100000010\\n19 20\\n1 100000000\\n20 21\\n1 100001000\\n21 22\\n0', '75': '2\\n2 100\\n10 12\\n14 16\\n2 200\\n12 13\\n15 20\\n4\\n1 100\\n6 22\\n1 1000\\n6 22\\n1 10000\\n6 22\\n1 100000\\n11 22\\n16\\n1 100000000\\n6 7\\n1 100000000\\n7 8\\n1 100000000\\n8 9\\n1 110000000\\n9 10\\n1 100000000\\n10 11\\n1 110000000\\n11 12\\n1 100000000\\n12 13\\n1 100000000\\n13 17\\n1 100000000\\n14 15\\n1 100000000\\n15 16\\n1 100000010\\n16 17\\n1 100000000\\n17 18\\n1 100000000\\n16 19\\n1 100000010\\n19 20\\n1 100000000\\n20 21\\n1 100101000\\n21 22\\n0', '87': '2\\n2 100\\n10 12\\n14 16\\n2 255\\n12 13\\n18 20\\n4\\n1 100\\n6 22\\n1 1000\\n6 22\\n1 10000\\n6 22\\n1 100000\\n6 22\\n16\\n1 100000000\\n6 7\\n1 100000000\\n7 8\\n1 100000000\\n8 9\\n1 110000000\\n9 10\\n1 100000000\\n10 11\\n1 100000000\\n11 12\\n1 100000000\\n12 13\\n1 100000000\\n13 14\\n1 100000000\\n14 15\\n1 100000000\\n15 16\\n1 100000010\\n16 17\\n1 100000000\\n17 18\\n1 100000000\\n18 19\\n1 100000010\\n19 20\\n1 100000000\\n20 21\\n1 100101000\\n21 22\\n0', '101': '2\\n2 100\\n10 12\\n14 16\\n2 200\\n12 13\\n18 20\\n4\\n1 100\\n6 22\\n1 1000\\n6 22\\n1 10000\\n6 22\\n1 100000\\n6 22\\n16\\n1 100000000\\n6 7\\n1 100000000\\n7 8\\n1 100000000\\n8 9\\n1 100000000\\n9 10\\n1 100000000\\n10 11\\n1 100000000\\n11 12\\n1 100000000\\n12 13\\n1 100000000\\n13 14\\n1 100000000\\n14 15\\n1 100000000\\n15 16\\n1 100000000\\n16 17\\n1 100000000\\n17 18\\n1 100000000\\n18 19\\n1 100000000\\n19 20\\n1 100000000\\n20 21\\n1 100000000\\n21 22\\n0', '54': '2\\n2 100\\n8 12\\n14 16\\n2 200\\n12 13\\n18 20\\n4\\n1 100\\n6 22\\n1 1000\\n6 22\\n1 10000\\n6 22\\n1 100000\\n6 22\\n16\\n1 100001000\\n6 7\\n1 101000000\\n7 8\\n1 100000000\\n8 9\\n1 110000000\\n9 10\\n1 100000000\\n10 11\\n1 100000000\\n11 12\\n1 100000000\\n12 13\\n1 100000000\\n13 14\\n1 100000000\\n14 18\\n1 100000000\\n15 16\\n1 100000010\\n16 17\\n1 100000000\\n17 18\\n1 100000000\\n18 19\\n1 100000010\\n19 20\\n1 100000000\\n20 21\\n1 100101000\\n21 22\\n0', '37': '2\\n2 101\\n10 12\\n14 16\\n2 200\\n12 13\\n15 20\\n4\\n1 100\\n6 22\\n1 1000\\n6 22\\n1 10000\\n6 22\\n1 100000\\n6 22\\n16\\n1 100000000\\n6 7\\n1 100000000\\n7 8\\n1 100000000\\n8 9\\n1 110000100\\n9 10\\n1 100000000\\n10 11\\n1 100000000\\n11 12\\n1 100000000\\n12 13\\n1 100000000\\n13 17\\n1 100000000\\n14 15\\n1 100000000\\n15 16\\n1 100000010\\n16 17\\n1 100000000\\n17 18\\n1 100000000\\n16 19\\n1 100000010\\n19 20\\n1 100000000\\n16 21\\n1 100101000\\n21 22\\n0', '78': '2\\n2 100\\n8 12\\n14 16\\n2 200\\n12 14\\n18 20\\n4\\n1 100\\n6 22\\n1 1000\\n6 22\\n1 10000\\n9 22\\n1 100000\\n6 22\\n16\\n1 100000000\\n6 7\\n1 101000000\\n7 8\\n1 100000100\\n8 9\\n1 110000100\\n9 10\\n1 100000000\\n10 11\\n1 100000000\\n11 12\\n1 100100100\\n12 13\\n1 100000000\\n13 14\\n1 100000000\\n14 18\\n1 100000000\\n6 16\\n1 110000010\\n16 17\\n1 100000000\\n17 18\\n1 100000000\\n18 19\\n1 100000010\\n19 20\\n1 100000000\\n20 21\\n1 100101000\\n21 22\\n0', '29': '2\\n2 100\\n10 12\\n14 19\\n2 200\\n12 13\\n18 20\\n4\\n1 100\\n6 22\\n1 1000\\n6 22\\n1 10000\\n6 22\\n1 100000\\n6 22\\n16\\n1 100000000\\n6 7\\n1 100000000\\n7 8\\n1 100000000\\n8 9\\n1 110000000\\n9 10\\n1 100000000\\n10 11\\n1 100000000\\n11 12\\n1 100000000\\n12 13\\n1 100000000\\n13 14\\n1 100000000\\n14 15\\n1 110000000\\n15 16\\n1 100000000\\n16 17\\n1 100000000\\n17 18\\n1 100000000\\n18 19\\n1 100000000\\n19 20\\n1 100000000\\n20 21\\n1 100001000\\n21 22\\n0', '82': '2\\n2 100\\n10 12\\n14 16\\n2 200\\n12 13\\n15 20\\n4\\n1 100\\n6 22\\n1 1000\\n6 22\\n1 10000\\n6 22\\n1 100000\\n11 22\\n16\\n1 100000000\\n6 7\\n1 100000000\\n7 8\\n1 100000000\\n8 9\\n1 110000000\\n9 10\\n1 100000000\\n10 11\\n1 110000000\\n11 12\\n1 100000000\\n12 13\\n1 100000000\\n13 17\\n1 100000000\\n14 15\\n1 100000000\\n15 16\\n1 100000010\\n16 17\\n1 100000000\\n17 18\\n1 100000000\\n16 19\\n1 100000000\\n19 20\\n1 100000000\\n20 21\\n1 100101000\\n21 22\\n0', '16': '2\\n2 100\\n10 10\\n14 16\\n2 200\\n12 13\\n18 20\\n4\\n1 100\\n6 22\\n1 1000\\n6 22\\n1 10000\\n6 22\\n1 100000\\n6 22\\n16\\n1 100000000\\n6 7\\n1 100000000\\n7 8\\n1 100000000\\n8 9\\n1 110000000\\n9 10\\n1 100000000\\n10 11\\n1 100000000\\n11 12\\n1 100000000\\n12 19\\n1 100000000\\n13 14\\n1 100000000\\n14 15\\n1 100000000\\n15 16\\n1 100000000\\n16 17\\n1 100000010\\n17 18\\n1 101000000\\n18 19\\n1 100000010\\n19 20\\n1 100000000\\n20 21\\n1 100001000\\n21 22\\n0', '97': '2\\n2 100\\n10 10\\n14 16\\n2 200\\n12 13\\n18 20\\n4\\n1 100\\n6 22\\n1 1000\\n6 22\\n1 10000\\n6 22\\n1 100000\\n6 22\\n16\\n1 100000000\\n6 7\\n1 100000000\\n7 8\\n1 100000000\\n8 9\\n1 110000000\\n9 10\\n1 100000000\\n10 11\\n1 100000000\\n11 12\\n1 100000000\\n12 13\\n1 101000000\\n13 14\\n1 100000001\\n14 15\\n1 100000000\\n15 16\\n1 100000000\\n16 17\\n1 100000010\\n17 18\\n1 101000000\\n18 19\\n1 100000010\\n19 20\\n1 100000000\\n20 21\\n1 100001000\\n21 22\\n0', '33': '2\\n2 100\\n10 12\\n14 19\\n2 200\\n12 13\\n18 20\\n4\\n1 110\\n6 22\\n1 1000\\n6 9\\n1 10000\\n6 22\\n1 100000\\n6 22\\n16\\n1 101000000\\n6 7\\n1 100000000\\n7 8\\n1 100000000\\n8 9\\n1 110000000\\n9 10\\n1 100000000\\n10 11\\n1 100000000\\n11 12\\n1 100000000\\n12 13\\n1 100000000\\n13 14\\n1 100000000\\n14 15\\n1 100000000\\n15 16\\n1 100001000\\n16 17\\n1 100000000\\n17 18\\n1 100000000\\n18 19\\n1 100000100\\n19 20\\n1 100000000\\n20 21\\n1 100001000\\n21 22\\n0', '55': '2\\n2 000\\n10 12\\n14 16\\n2 200\\n12 13\\n18 20\\n4\\n1 100\\n6 22\\n1 1000\\n6 22\\n1 10000\\n6 22\\n1 100000\\n6 22\\n16\\n1 100000000\\n6 7\\n1 100000000\\n7 8\\n1 100000000\\n8 9\\n1 110000000\\n9 10\\n1 110000000\\n10 11\\n1 100000000\\n11 12\\n1 100000000\\n12 13\\n1 100000000\\n13 14\\n1 100000000\\n14 15\\n1 100000000\\n15 16\\n1 100000000\\n16 17\\n1 100000000\\n17 18\\n1 100000000\\n18 19\\n1 100000010\\n19 20\\n1 100000000\\n20 21\\n1 100001000\\n21 22\\n0', '10': '2\\n2 100\\n10 12\\n14 16\\n2 200\\n12 13\\n18 20\\n4\\n1 100\\n6 22\\n1 1000\\n6 22\\n1 10000\\n6 22\\n1 100000\\n6 22\\n16\\n1 100000000\\n6 7\\n1 101000000\\n7 8\\n1 100000000\\n8 9\\n1 110000000\\n9 10\\n1 100000000\\n10 11\\n1 100000000\\n11 12\\n1 100000000\\n12 13\\n1 100000000\\n13 14\\n1 100000000\\n14 15\\n1 100000000\\n15 16\\n1 100000010\\n16 17\\n1 100000000\\n17 18\\n1 100000000\\n18 19\\n1 100000010\\n19 20\\n1 100000000\\n20 21\\n1 100101000\\n21 22\\n0', '21': '2\\n2 100\\n10 12\\n14 16\\n2 200\\n12 13\\n18 20\\n4\\n1 100\\n11 22\\n1 1000\\n6 22\\n1 10000\\n6 22\\n1 100000\\n6 22\\n16\\n1 100000000\\n6 7\\n1 100000000\\n7 8\\n1 100000000\\n8 9\\n1 110000000\\n9 10\\n1 100000000\\n10 11\\n1 100000000\\n11 12\\n1 100000000\\n12 18\\n1 100000000\\n13 14\\n1 100000000\\n14 15\\n1 100000000\\n15 16\\n1 100000010\\n16 17\\n1 100000000\\n17 18\\n1 100000000\\n18 19\\n1 100000010\\n19 20\\n1 100000000\\n20 21\\n1 100001000\\n21 22\\n0', '73': '2\\n2 100\\n10 12\\n14 16\\n2 200\\n12 13\\n18 20\\n4\\n1 100\\n11 22\\n1 1000\\n6 22\\n1 10000\\n6 22\\n1 100000\\n6 22\\n16\\n1 100000000\\n6 7\\n1 100000000\\n7 8\\n1 100010000\\n8 9\\n1 110000000\\n9 10\\n1 100000000\\n10 11\\n1 100000000\\n11 12\\n1 100000000\\n12 13\\n1 100000000\\n13 14\\n1 100000000\\n14 15\\n1 100000000\\n15 16\\n1 100001010\\n16 17\\n1 100000000\\n17 18\\n1 100000000\\n18 19\\n1 100000010\\n19 20\\n1 100000000\\n20 21\\n1 100001000\\n21 22\\n0', '53': '2\\n2 100\\n10 12\\n14 16\\n2 200\\n12 13\\n18 20\\n4\\n1 100\\n6 22\\n1 1000\\n6 22\\n1 00000\\n6 22\\n1 100000\\n6 22\\n16\\n1 100000000\\n6 7\\n1 100000000\\n7 8\\n1 100000000\\n8 9\\n1 110100000\\n9 10\\n1 100000000\\n10 11\\n1 100000000\\n11 12\\n1 100000000\\n12 19\\n1 100000000\\n13 14\\n1 100000000\\n14 15\\n1 100000000\\n15 16\\n1 100000000\\n16 17\\n1 100000000\\n17 18\\n1 100000000\\n18 19\\n1 100000010\\n19 20\\n1 100000000\\n20 21\\n1 100001000\\n21 22\\n0', '80': '2\\n2 100\\n10 10\\n14 16\\n2 200\\n12 13\\n18 20\\n4\\n1 100\\n6 22\\n1 1000\\n6 22\\n1 10000\\n6 22\\n1 100000\\n6 9\\n16\\n1 100000000\\n6 7\\n1 100000000\\n7 8\\n1 100000000\\n8 9\\n1 110000000\\n9 10\\n1 100000000\\n10 11\\n1 100000000\\n11 14\\n1 100000000\\n12 19\\n1 100000000\\n13 14\\n1 100000001\\n14 15\\n1 100000000\\n15 21\\n1 100000000\\n16 17\\n1 100000010\\n17 18\\n1 101000000\\n18 19\\n1 100000010\\n19 20\\n1 100000000\\n20 21\\n1 100001000\\n21 22\\n0', '24': '2\\n2 100\\n10 12\\n14 16\\n2 200\\n12 13\\n15 20\\n4\\n1 100\\n6 22\\n1 1000\\n6 22\\n1 10000\\n6 22\\n1 100000\\n6 22\\n16\\n1 100000000\\n6 7\\n1 100000000\\n7 8\\n1 100000000\\n8 9\\n1 110000000\\n9 10\\n1 100000000\\n10 11\\n1 100000000\\n11 12\\n1 100000000\\n12 13\\n1 100000000\\n13 17\\n1 100000000\\n14 15\\n1 100000000\\n15 16\\n1 100000010\\n16 17\\n1 100000000\\n17 18\\n1 100000000\\n18 19\\n1 100000010\\n19 20\\n1 100000000\\n20 21\\n1 100101000\\n21 22\\n0', '57': '2\\n2 100\\n10 12\\n14 16\\n2 151\\n12 13\\n18 20\\n4\\n1 110\\n6 22\\n1 1000\\n6 22\\n1 00000\\n6 22\\n1 100000\\n6 22\\n16\\n1 100000000\\n6 7\\n1 100000000\\n7 8\\n1 100000000\\n8 9\\n1 110000000\\n9 10\\n1 100000000\\n10 11\\n1 100000000\\n11 12\\n1 100000000\\n12 19\\n1 100000000\\n13 14\\n1 100000000\\n14 15\\n1 100000000\\n15 16\\n1 100000000\\n16 17\\n1 100000000\\n17 18\\n1 100000000\\n18 19\\n1 100000010\\n19 20\\n1 100000000\\n20 21\\n1 100001000\\n21 22\\n0', '100': '2\\n2 100\\n10 12\\n14 16\\n2 200\\n12 13\\n18 20\\n4\\n1 100\\n6 22\\n1 1000\\n6 22\\n1 10000\\n6 22\\n1 100000\\n6 22\\n16\\n1 100000000\\n6 7\\n1 100000000\\n7 8\\n1 100000000\\n8 9\\n1 100000000\\n9 10\\n1 100000000\\n10 11\\n1 100000000\\n11 12\\n1 100000000\\n12 13\\n1 100000000\\n13 14\\n1 100000000\\n14 15\\n1 100000000\\n15 16\\n1 100000000\\n16 17\\n1 100000000\\n17 18\\n1 100000000\\n18 19\\n1 100000000\\n19 20\\n1 100000000\\n20 21\\n1 100000000\\n21 22\\n0', '18': '2\\n2 100\\n10 12\\n14 19\\n2 200\\n12 13\\n18 20\\n4\\n1 110\\n6 22\\n1 1000\\n6 22\\n1 10000\\n6 22\\n1 100000\\n6 22\\n16\\n1 101000000\\n6 7\\n1 100000000\\n7 8\\n1 100000000\\n8 9\\n1 110000000\\n9 10\\n1 100000000\\n10 11\\n1 100000000\\n11 12\\n1 100000000\\n12 13\\n1 100000000\\n13 14\\n1 100000000\\n14 15\\n1 100000000\\n15 16\\n1 100000000\\n16 17\\n1 100000000\\n17 18\\n1 100000000\\n13 19\\n1 100000000\\n19 20\\n1 100000000\\n20 21\\n1 100001000\\n21 22\\n0', '49': '2\\n2 100\\n10 12\\n14 16\\n2 200\\n12 13\\n18 20\\n4\\n1 100\\n6 22\\n1 1000\\n6 22\\n1 10000\\n6 22\\n1 100000\\n6 22\\n16\\n1 100000000\\n6 7\\n1 100000000\\n7 8\\n1 100000000\\n8 9\\n1 110000000\\n9 10\\n1 100000000\\n10 11\\n1 100000000\\n11 12\\n1 100000000\\n12 13\\n1 100000000\\n13 14\\n1 100000000\\n14 15\\n1 100000000\\n15 16\\n1 100000000\\n16 17\\n1 100000000\\n17 18\\n1 100000000\\n18 19\\n1 100000010\\n19 20\\n1 100000000\\n20 21\\n1 100000000\\n21 22\\n0', '89': '2\\n2 110\\n10 12\\n14 16\\n2 200\\n12 13\\n18 20\\n4\\n1 100\\n6 22\\n1 1000\\n6 22\\n1 10000\\n6 22\\n1 100000\\n6 22\\n16\\n1 100000000\\n6 7\\n1 100000000\\n7 8\\n1 100000000\\n8 9\\n1 110000000\\n9 10\\n1 100000001\\n10 11\\n1 100000000\\n11 12\\n1 100000000\\n12 13\\n1 100000000\\n13 14\\n1 100000000\\n14 15\\n1 100000000\\n15 16\\n1 100000000\\n16 17\\n1 100000000\\n17 18\\n1 100000000\\n18 19\\n1 100000000\\n19 20\\n1 100000000\\n20 21\\n1 100001000\\n21 22\\n0', '20': '2\\n2 100\\n10 12\\n14 16\\n2 200\\n12 13\\n18 20\\n4\\n1 100\\n6 22\\n1 1000\\n6 22\\n1 10000\\n6 22\\n1 100000\\n6 22\\n16\\n1 100000000\\n6 7\\n1 100100000\\n7 8\\n1 100000000\\n8 9\\n1 110000000\\n9 10\\n1 100000000\\n10 11\\n1 100000000\\n11 12\\n1 100000000\\n12 19\\n1 100000100\\n13 14\\n1 100000000\\n14 15\\n1 100000000\\n15 16\\n1 100000000\\n16 17\\n1 100000000\\n17 18\\n1 100000000\\n18 19\\n1 100000010\\n19 20\\n1 100000000\\n20 21\\n1 100001000\\n21 22\\n0', '3': '2\\n2 100\\n10 12\\n14 19\\n2 200\\n12 13\\n18 20\\n4\\n1 100\\n6 22\\n1 1000\\n6 22\\n1 10000\\n6 22\\n1 100000\\n6 22\\n16\\n1 100000000\\n6 7\\n1 100000000\\n7 8\\n1 100000000\\n8 9\\n1 110000000\\n9 10\\n1 100000000\\n10 11\\n1 100000000\\n11 12\\n1 100000000\\n12 13\\n1 100000000\\n13 14\\n1 100000000\\n14 15\\n1 100000000\\n15 16\\n1 100000000\\n16 17\\n1 100000000\\n17 18\\n1 100000000\\n18 19\\n1 100000000\\n19 20\\n1 100000000\\n20 21\\n1 100001000\\n21 22\\n0', '38': '2\\n2 100\\n10 12\\n14 16\\n2 200\\n12 13\\n18 20\\n4\\n1 100\\n6 22\\n1 1000\\n6 22\\n1 10000\\n8 22\\n1 100000\\n6 22\\n16\\n1 100000000\\n6 7\\n1 101000000\\n7 8\\n1 100000000\\n8 9\\n1 110000000\\n9 10\\n1 100000000\\n10 11\\n1 100000000\\n11 12\\n1 100000000\\n12 13\\n1 100000000\\n13 14\\n1 100000000\\n14 15\\n1 100000000\\n15 16\\n1 100000010\\n16 17\\n1 100000000\\n17 18\\n1 100000000\\n18 19\\n1 100000010\\n19 20\\n1 100010000\\n20 21\\n1 100101000\\n21 22\\n0', '27': '2\\n2 100\\n10 12\\n14 16\\n2 200\\n12 13\\n15 20\\n4\\n1 100\\n6 22\\n1 1000\\n6 22\\n1 10000\\n6 22\\n1 100000\\n6 22\\n16\\n1 100000000\\n6 7\\n1 100000000\\n7 8\\n1 100000000\\n8 9\\n1 110000000\\n9 10\\n1 100000000\\n10 11\\n1 100000000\\n11 12\\n1 100000000\\n12 13\\n1 100000000\\n13 17\\n1 100000000\\n14 15\\n1 100000000\\n15 16\\n1 100000010\\n16 17\\n1 100000000\\n17 18\\n1 100000000\\n16 19\\n1 100000010\\n19 20\\n1 100000000\\n20 21\\n1 100101000\\n21 22\\n0', '34': '2\\n2 100\\n10 12\\n14 16\\n2 200\\n12 13\\n18 20\\n4\\n1 110\\n6 22\\n1 1000\\n6 22\\n1 00000\\n6 22\\n1 100000\\n6 22\\n16\\n1 100000000\\n6 7\\n1 100000000\\n7 8\\n1 100000000\\n8 9\\n1 110000000\\n9 10\\n1 100000000\\n10 11\\n1 100000000\\n11 12\\n1 100000000\\n12 19\\n1 100000000\\n13 14\\n1 100000000\\n14 15\\n1 100001000\\n15 16\\n1 100000000\\n16 17\\n1 100000000\\n17 18\\n1 100000000\\n18 19\\n1 100000010\\n19 20\\n1 110000000\\n20 21\\n1 100001000\\n21 22\\n0', '2': '2\\n2 100\\n10 12\\n14 16\\n2 200\\n12 13\\n18 20\\n4\\n1 100\\n6 22\\n1 1000\\n6 22\\n1 10000\\n6 22\\n1 100000\\n6 22\\n16\\n1 100000000\\n6 7\\n1 100000000\\n7 8\\n1 100000000\\n8 9\\n1 110000000\\n9 10\\n1 100000000\\n10 11\\n1 100000000\\n11 12\\n1 100000000\\n12 13\\n1 100000000\\n13 14\\n1 100000000\\n14 15\\n1 100000000\\n15 16\\n1 100000000\\n16 17\\n1 100000000\\n17 18\\n1 100000000\\n18 19\\n1 100000010\\n19 20\\n1 100000000\\n20 21\\n1 100001000\\n21 22\\n0'}\n",
      "p02830: {'12': '2\\noi ce', '52': '8\\njmgnlhmm utvvutuu', '28': '8\\nhmhlnmmj uutuuvvu', '84': '2\\nkq ce', '26': '5\\nbbaab b`baa', '50': '5\\nac_b` abb`b', '11': '5\\nbabaa baaba', '44': '5\\nac`b` aab`b', '30': '2\\noi dd', '23': '5\\nbbbaa b`baa', '62': '5\\nac_b` `bb_b', '13': '8\\nhmhmnknk tuuuuvvu', '74': '5\\nab_ba ab`_b', '65': '5\\nac_b` bb`_b', '63': '2\\npj cd', '93': '2\\nkq cf', '40': '8\\njmhnlhmm uutvvvuu', '61': '8\\njmgnlhmm utuvvtvu', '79': '8\\nlmhlmgmj uuvuvttu', '36': '2\\njo dd', '41': '5\\nbc`a` aab`b', '92': '5\\n_abb` bb``b', '90': '2\\nqk be', '8': '5\\nbaaaa baaba', '71': '5\\nab_b` ab`_b', '46': '8\\njmgnlhmm uutvvvtu', '7': '8\\nhmhmnknk tuuuuuvu', '25': '8\\nhmhlnmmk uutuuvvu', '69': '2\\noj dd', '60': '2\\npj bd', '77': '5\\naa_ba ab`_b', '56': '5\\n`b_ca abb_b', '4': '8\\nhmhmnknk tuuuuuuu', '98': '5\\n_abb_ `bb`b', '31': '8\\nmmhlnhmj uutuuvvu', '35': '5\\nbcaaa aab`b', '96': '2\\nkq bf', '47': '5\\nac`b` abb`b', '17': '5\\nbbbaa babaa', '32': '5\\nbcaaa b`baa', '6': '2\\npi cd', '83': '5\\naa_ba bb``b', '15': '2\\nni ce', '58': '8\\njmgnlhmm utuvutvu', '67': '8\\njmgmlhmm utuuvtvu', '51': '2\\nnj cc', '48': '2\\noj cc', '81': '2\\nkq cd', '70': '8\\njmgmlhmm uutuvtvu', '19': '8\\nhmhknmmk tuuuuvvu', '103': '8\\nhmhmnknk uuuuuuuu', '14': '5\\nbabaa babaa', '1': '8\\nhmhmnknk uuuuuuut', '86': '5\\n_aaba bb``b', '95': '5\\n_abb` `bb`b', '59': '5\\nac_b` abb_b', '99': '2\\nkq fb', '42': '2\\njo cd', '39': '2\\nio cd', '68': '5\\nac_b` ab`_b', '64': '8\\njmgmlhmm utuvvtvu', '66': '2\\npj dd', '9': '2\\npi ce', '88': '8\\nlnhlmgmj uuuuvttu', '102': '5\\naaaaa aaaaa', '0': '2\\nip cd', '45': '2\\njo cc', '43': '8\\njmhnlhmm uutvvvtu', '76': '8\\nlmhlmgmj uutuvtvu', '72': '2\\npk dd', '85': '8\\njmgmlhnl uuvuvttu', '91': '8\\nlnhlmfmj uuuuvttu', '5': '5\\nbaaaa aaaba', '22': '8\\nhmhlnmmk tuuuuvvu', '94': '8\\nlnhlmfmk uuuuvttu', '75': '2\\npk cd', '87': '2\\nqk ce', '101': '2\\nip cc', '54': '2\\noj cd', '37': '8\\njmhnlhmm uutuvvvu', '78': '2\\nqk cd', '29': '5\\nbcaab b`baa', '82': '8\\nlnhlmgmj uuvuvttu', '16': '8\\nhmhknmnk tuuuuvvu', '97': '8\\nlkhlmfmn uuuuvttu', '33': '2\\nio dd', '55': '8\\njmgnlhmm uvtuvutu', '10': '8\\nhmhmnknk tvuuuuvu', '21': '2\\nni ed', '73': '8\\nmmhlmgmj uutuvtvu', '53': '5\\n`b_ca abb`b', '80': '5\\naa_ba bb`_b', '24': '2\\nni de', '57': '2\\noj bd', '100': '2\\nip cc', '18': '2\\nni ec', '49': '8\\njmgnlhmm uutuvvtu', '89': '5\\n_abba bb``b', '20': '5\\nbbbaa baba`', '3': '2\\nip dc', '38': '5\\nbcaa` aab`b', '27': '2\\nni dd', '34': '8\\njmhnlhmm uutuuvvu', '2': '5\\nbaaaa aaaaa'}\n",
      "p01245: {'12': 'Case 1: 28\\nCase 2: GAME OVER\\nCase 3: 11\\nCase 4: 21\\nCase 5: GAME OVER', '52': 'Case 1: GAME OVER\\nCase 2: GAME OVER\\nCase 3: 11\\nCase 4: 42\\nCase 5: 1', '28': 'Case 1: 28\\nCase 2: 18\\nCase 3: 5\\nCase 4: 31\\nCase 5: GAME OVER', '84': 'Case 1: 8\\nCase 2: GAME OVER\\nCase 3: 12\\nCase 4: 21\\nCase 5: GAME OVER', '26': 'Case 1: 25\\nCase 2: 15\\nCase 3: GAME OVER\\nCase 4: 21\\nCase 5: GAME OVER', '50': 'Case 1: GAME OVER\\nCase 2: 18\\nCase 3: 8\\nCase 4: 11\\nCase 5: 84', '11': 'Case 1: 25\\nCase 2: 18\\nCase 3: 4\\nCase 4: 31\\nCase 5: 50', '44': 'Case 1: GAME OVER\\nCase 2: 18\\nCase 3: 4\\nCase 4: 11\\nCase 5: 84', '30': 'Case 1: 25\\nCase 2: 18\\nCase 3: 4\\nCase 4: 11\\nCase 5: 84', '23': 'Case 1: 25\\nCase 2: GAME OVER\\nCase 3: 20\\nCase 4: GAME OVER\\nCase 5: 40', '62': 'Case 1: 30\\nCase 2: 15\\nCase 3: 11\\nCase 4: 42\\nCase 5: GAME OVER', '13': 'Case 1: 8\\nCase 2: GAME OVER\\nCase 3: 11\\nCase 4: 20\\nCase 5: 1', '74': 'Case 1: 25\\nCase 2: GAME OVER\\nCase 3: 11\\nCase 4: GAME OVER\\nCase 5: GAME OVER', '65': 'Case 1: 30\\nCase 2: 17\\nCase 3: 11\\nCase 4: 42\\nCase 5: GAME OVER', '63': 'Case 1: GAME OVER\\nCase 2: 20\\nCase 3: 20\\nCase 4: GAME OVER\\nCase 5: 1', '93': 'Case 1: 25\\nCase 2: 18\\nCase 3: 11\\nCase 4: 31\\nCase 5: GAME OVER', '40': 'Case 1: GAME OVER\\nCase 2: GAME OVER\\nCase 3: 11\\nCase 4: 43\\nCase 5: 1', '61': 'Case 1: GAME OVER\\nCase 2: GAME OVER\\nCase 3: 20\\nCase 4: GAME OVER\\nCase 5: 1', '79': 'Case 1: GAME OVER\\nCase 2: GAME OVER\\nCase 3: 11\\nCase 4: 31\\nCase 5: GAME OVER', '36': 'Case 1: 8\\nCase 2: GAME OVER\\nCase 3: 11\\nCase 4: 11\\nCase 5: GAME OVER', '41': 'Case 1: GAME OVER\\nCase 2: 38\\nCase 3: 11\\nCase 4: 21\\nCase 5: GAME OVER', '92': 'Case 1: 25\\nCase 2: GAME OVER\\nCase 3: 4\\nCase 4: 31\\nCase 5: 1', '90': 'Case 1: 25\\nCase 2: GAME OVER\\nCase 3: 11\\nCase 4: 31\\nCase 5: GAME OVER', '8': 'Case 1: 8\\nCase 2: GAME OVER\\nCase 3: 11\\nCase 4: 30\\nCase 5: 1', '71': 'Case 1: GAME OVER\\nCase 2: GAME OVER\\nCase 3: 26\\nCase 4: GAME OVER\\nCase 5: GAME OVER', '46': 'Case 1: GAME OVER\\nCase 2: GAME OVER\\nCase 3: 11\\nCase 4: 11\\nCase 5: 1', '7': 'Case 1: 25\\nCase 2: GAME OVER\\nCase 3: 20\\nCase 4: 31\\nCase 5: 1', '25': 'Case 1: GAME OVER\\nCase 2: 18\\nCase 3: 11\\nCase 4: 31\\nCase 5: GAME OVER', '69': 'Case 1: GAME OVER\\nCase 2: 20\\nCase 3: 20\\nCase 4: GAME OVER\\nCase 5: GAME OVER', '60': 'Case 1: 28\\nCase 2: GAME OVER\\nCase 3: 11\\nCase 4: GAME OVER\\nCase 5: 12', '77': 'Case 1: 8\\nCase 2: 18\\nCase 3: 4\\nCase 4: 31\\nCase 5: 50', '56': 'Case 1: 28\\nCase 2: GAME OVER\\nCase 3: 11\\nCase 4: 21\\nCase 5: 50', '4': 'Case 1: 25\\nCase 2: GAME OVER\\nCase 3: 11\\nCase 4: 21\\nCase 5: GAME OVER', '98': 'Case 1: 25\\nCase 2: GAME OVER\\nCase 3: 11\\nCase 4: 21\\nCase 5: GAME OVER', '31': 'Case 1: GAME OVER\\nCase 2: GAME OVER\\nCase 3: 11\\nCase 4: 32\\nCase 5: 1', '35': 'Case 1: 25\\nCase 2: GAME OVER\\nCase 3: 20\\nCase 4: 21\\nCase 5: 1', '96': 'Case 1: 25\\nCase 2: GAME OVER\\nCase 3: 11\\nCase 4: 21\\nCase 5: GAME OVER', '47': 'Case 1: GAME OVER\\nCase 2: 38\\nCase 3: 11\\nCase 4: 21\\nCase 5: 50', '17': 'Case 1: 8\\nCase 2: GAME OVER\\nCase 3: 4\\nCase 4: 31\\nCase 5: 1', '32': 'Case 1: 25\\nCase 2: GAME OVER\\nCase 3: 4\\nCase 4: 31\\nCase 5: GAME OVER', '6': 'Case 1: 25\\nCase 2: 18\\nCase 3: 5\\nCase 4: 31\\nCase 5: GAME OVER', '83': 'Case 1: 25\\nCase 2: 18\\nCase 3: 5\\nCase 4: 2\\nCase 5: GAME OVER', '15': 'Case 1: GAME OVER\\nCase 2: GAME OVER\\nCase 3: 11\\nCase 4: 31\\nCase 5: 1', '58': 'Case 1: 30\\nCase 2: GAME OVER\\nCase 3: 11\\nCase 4: 42\\nCase 5: GAME OVER', '67': 'Case 1: 30\\nCase 2: GAME OVER\\nCase 3: 11\\nCase 4: GAME OVER\\nCase 5: 12', '51': 'Case 1: 8\\nCase 2: GAME OVER\\nCase 3: 11\\nCase 4: 16\\nCase 5: GAME OVER', '48': 'Case 1: GAME OVER\\nCase 2: GAME OVER\\nCase 3: 11\\nCase 4: 2\\nCase 5: 1', '81': 'Case 1: 25\\nCase 2: GAME OVER\\nCase 3: 4\\nCase 4: 50\\nCase 5: 1', '70': 'Case 1: GAME OVER\\nCase 2: 20\\nCase 3: 26\\nCase 4: GAME OVER\\nCase 5: GAME OVER', '19': 'Case 1: 8\\nCase 2: GAME OVER\\nCase 3: 11\\nCase 4: 21\\nCase 5: GAME OVER', '14': 'Case 1: 25\\nCase 2: 18\\nCase 3: 4\\nCase 4: 31\\nCase 5: 84', '1': 'Case 1: 25\\nCase 2: GAME OVER\\nCase 3: 11\\nCase 4: 31\\nCase 5: 1', '86': 'Case 1: 25\\nCase 2: 15\\nCase 3: 11\\nCase 4: 31\\nCase 5: GAME OVER', '95': 'Case 1: 25\\nCase 2: GAME OVER\\nCase 3: 4\\nCase 4: 31\\nCase 5: 1', '59': 'Case 1: 8\\nCase 2: 10\\nCase 3: 11\\nCase 4: 16\\nCase 5: GAME OVER', '99': 'Case 1: 25\\nCase 2: GAME OVER\\nCase 3: 11\\nCase 4: 21\\nCase 5: GAME OVER', '42': 'Case 1: 28\\nCase 2: GAME OVER\\nCase 3: 11\\nCase 4: GAME OVER\\nCase 5: 1', '39': 'Case 1: 51\\nCase 2: 18\\nCase 3: 4\\nCase 4: 11\\nCase 5: 84', '68': 'Case 1: 30\\nCase 2: GAME OVER\\nCase 3: 11\\nCase 4: GAME OVER\\nCase 5: 36', '64': 'Case 1: 28\\nCase 2: 18\\nCase 3: 4\\nCase 4: GAME OVER\\nCase 5: GAME OVER', '66': 'Case 1: 30\\nCase 2: 18\\nCase 3: 4\\nCase 4: GAME OVER\\nCase 5: GAME OVER', '9': 'Case 1: 25\\nCase 2: 18\\nCase 3: 5\\nCase 4: 31\\nCase 5: 50', '88': 'Case 1: 25\\nCase 2: 3\\nCase 3: 20\\nCase 4: 31\\nCase 5: 1', '0': 'Case 1: 25\\nCase 2: GAME OVER\\nCase 3: 11\\nCase 4: 31\\nCase 5: GAME OVER', '45': 'Case 1: 25\\nCase 2: GAME OVER\\nCase 3: 11\\nCase 4: 16\\nCase 5: GAME OVER', '43': 'Case 1: 27\\nCase 2: GAME OVER\\nCase 3: 4\\nCase 4: 12\\nCase 5: 84', '76': 'Case 1: 8\\nCase 2: 18\\nCase 3: 5\\nCase 4: 31\\nCase 5: GAME OVER', '72': 'Case 1: 25\\nCase 2: 18\\nCase 3: 11\\nCase 4: GAME OVER\\nCase 5: GAME OVER', '85': 'Case 1: 8\\nCase 2: GAME OVER\\nCase 3: 11\\nCase 4: 20\\nCase 5: GAME OVER', '91': 'Case 1: 25\\nCase 2: GAME OVER\\nCase 3: 4\\nCase 4: 31\\nCase 5: 1', '5': 'Case 1: 8\\nCase 2: GAME OVER\\nCase 3: 11\\nCase 4: 31\\nCase 5: 1', '22': 'Case 1: 25\\nCase 2: 18\\nCase 3: 4\\nCase 4: 21\\nCase 5: 84', '94': 'Case 1: 25\\nCase 2: GAME OVER\\nCase 3: 4\\nCase 4: 31\\nCase 5: 1', '75': 'Case 1: 8\\nCase 2: GAME OVER\\nCase 3: 11\\nCase 4: 21\\nCase 5: 1', '87': 'Case 1: 8\\nCase 2: GAME OVER\\nCase 3: 4\\nCase 4: 31\\nCase 5: GAME OVER', '101': 'Case 1: 25\\nCase 2: GAME OVER\\nCase 3: 11\\nCase 4: 31\\nCase 5: 1', '54': 'Case 1: GAME OVER\\nCase 2: GAME OVER\\nCase 3: 11\\nCase 4: GAME OVER\\nCase 5: 1', '37': 'Case 1: 8\\nCase 2: GAME OVER\\nCase 3: 11\\nCase 4: 30\\nCase 5: GAME OVER', '78': 'Case 1: 25\\nCase 2: 18\\nCase 3: 4\\nCase 4: 2\\nCase 5: 84', '29': 'Case 1: 25\\nCase 2: 18\\nCase 3: 4\\nCase 4: 12\\nCase 5: 84', '82': 'Case 1: 8\\nCase 2: GAME OVER\\nCase 3: 11\\nCase 4: 11\\nCase 5: 1', '16': 'Case 1: GAME OVER\\nCase 2: GAME OVER\\nCase 3: 4\\nCase 4: 31\\nCase 5: 1', '97': 'Case 1: 8\\nCase 2: GAME OVER\\nCase 3: 11\\nCase 4: 31\\nCase 5: 1', '33': 'Case 1: GAME OVER\\nCase 2: 38\\nCase 3: 11\\nCase 4: 31\\nCase 5: GAME OVER', '55': 'Case 1: 30\\nCase 2: GAME OVER\\nCase 3: 11\\nCase 4: 42\\nCase 5: 1', '10': 'Case 1: 25\\nCase 2: GAME OVER\\nCase 3: 20\\nCase 4: GAME OVER\\nCase 5: 1', '21': 'Case 1: GAME OVER\\nCase 2: GAME OVER\\nCase 3: 11\\nCase 4: 21\\nCase 5: GAME OVER', '73': 'Case 1: 25\\nCase 2: GAME OVER\\nCase 3: 4\\nCase 4: 11\\nCase 5: 1', '53': 'Case 1: 28\\nCase 2: 38\\nCase 3: 11\\nCase 4: 21\\nCase 5: 50', '80': 'Case 1: 8\\nCase 2: GAME OVER\\nCase 3: 11\\nCase 4: 31\\nCase 5: GAME OVER', '24': 'Case 1: GAME OVER\\nCase 2: GAME OVER\\nCase 3: 4\\nCase 4: 42\\nCase 5: 1', '57': 'Case 1: GAME OVER\\nCase 2: GAME OVER\\nCase 3: 11\\nCase 4: 11\\nCase 5: GAME OVER', '100': 'Case 1: 25\\nCase 2: GAME OVER\\nCase 3: 11\\nCase 4: 31\\nCase 5: 1', '18': 'Case 1: 25\\nCase 2: 15\\nCase 3: 11\\nCase 4: 21\\nCase 5: GAME OVER', '49': 'Case 1: 34\\nCase 2: GAME OVER\\nCase 3: 4\\nCase 4: 12\\nCase 5: 84', '89': 'Case 1: 8\\nCase 2: GAME OVER\\nCase 3: 5\\nCase 4: 30\\nCase 5: 1', '20': 'Case 1: 25\\nCase 2: GAME OVER\\nCase 3: 20\\nCase 4: 2\\nCase 5: 1', '3': 'Case 1: 25\\nCase 2: 18\\nCase 3: 11\\nCase 4: 31\\nCase 5: GAME OVER', '38': 'Case 1: 25\\nCase 2: GAME OVER\\nCase 3: 4\\nCase 4: 12\\nCase 5: 84', '27': 'Case 1: 8\\nCase 2: GAME OVER\\nCase 3: 11\\nCase 4: GAME OVER\\nCase 5: 1', '34': 'Case 1: 28\\nCase 2: 18\\nCase 3: 5\\nCase 4: GAME OVER\\nCase 5: GAME OVER', '2': 'Case 1: 25\\nCase 2: GAME OVER\\nCase 3: 4\\nCase 4: 31\\nCase 5: 1'}\n",
      "p02649: {'12': '0', '52': '0', '28': '0', '84': '0', '26': '0', '50': '0', '11': '0', '44': '0', '30': '0', '23': '0', '62': '0', '13': '0', '74': '0', '65': '0', '63': '0', '93': '0', '40': '0', '61': '0', '79': '0', '36': '0', '41': '0', '92': '0', '90': '4', '8': '2', '71': '0', '46': '0', '7': '2', '25': '0', '69': '0', '60': '0', '77': '0', '56': '0', '4': '1', '98': '0', '31': '0', '35': '0', '96': '0', '47': '0', '17': '0', '32': '0', '6': '6', '83': '0', '15': '7', '58': '0', '67': '0', '51': '0', '48': '0', '81': '2', '70': '0', '19': '0', '103': '2', '14': '0', '1': '7', '86': '0', '95': '0', '59': '0', '99': '0', '42': '0', '39': '0', '68': '0', '64': '0', '66': '0', '9': '2', '88': '0', '102': '3', '0': '2', '45': '0', '43': '0', '76': '2', '72': '0', '85': '0', '91': '0', '5': '3', '22': '0', '94': '0', '75': '2', '87': '0', '101': '2', '54': '0', '37': '0', '78': '7', '29': '0', '82': '0', '16': '0', '97': '0', '33': '0', '55': '0', '10': '0', '21': '0', '73': '0', '53': '0', '80': '2', '24': '0', '57': '0', '100': '2', '18': '0', '49': '0', '89': '0', '20': '0', '3': '4', '38': '0', '27': '0', '34': '0', '2': '0'}\n",
      "p01438: {'12': '310\\n100000\\n1610001000', '52': '300\\n100000\\n1520001010', '28': '200\\n100000\\n1310101020', '84': '200\\n100000\\n1520002020', '26': '300\\n100000\\n1410001010', '50': '300\\n100000\\n1610101000', '11': '300\\n100000\\n1511101020', '44': '300\\n100000\\n1411101220', '30': '300\\n100000\\n1511101120', '23': '300\\n100000\\n1511001021', '62': '200\\n100000\\n1611101020', '13': '200\\n100000\\n1610001010', '74': '200\\n100000\\n1511101120', '65': '200\\n100000\\n1210101110', '63': '192\\n100100\\n1610001000', '93': '300\\n100000\\n1510102020', '40': '300\\n100000\\n1410101020', '61': '200\\n100000\\n1210000020', '79': '200\\n100000\\n1520002010', '36': '300\\n100000\\n1310001010', '41': '300\\n100000\\n1510002020', '92': '300\\n100000\\n1411101011', '90': '200\\n100000\\n1610001011', '8': '300\\n100000\\n1610101020', '71': '300\\n100000\\n1611000010', '46': '300\\n100000\\n1410002120', '7': '300\\n100000\\n1511101010', '25': '300\\n100000\\n1410001020', '69': '300\\n100000\\n1411201320', '60': '300\\n100000\\n1410001110', '77': '300\\n100000\\n1413001021', '56': '300\\n100000\\n1610011020', '4': '300\\n100000\\n1510001010', '98': '200\\n100000\\n1210101120', '31': '192\\n100000\\n1610001000', '35': '300\\n100000\\n1512001021', '96': '300\\n100000\\n1420002010', '47': '300\\n100000\\n1311201220', '17': '300\\n100000\\n1510101020', '32': '300\\n100000\\n1410001100', '6': '300\\n100000\\n1511001010', '83': '300\\n100000\\n1313001021', '15': '300\\n100000\\n1511101011', '58': '300\\n100000\\n1411001021', '67': '300\\n100000\\n1311101220', '51': '200\\n100000\\n1610001001', '48': '300\\n100000\\n1211100220', '81': '200\\n100000\\n1411000020', '70': '300\\n100000\\n1311211220', '19': '200\\n100000\\n1611002000', '14': '300\\n100000\\n1510001110', '1': '300\\n100000\\n1610001000', '86': '300\\n100000\\n1600000000', '95': '192\\n100000\\n1610101000', '59': '200\\n100000\\n1511101020', '99': '300\\n100000\\n1410012020', '42': '300\\n100000\\n1411101120', '39': '192\\n100000\\n1510001000', '68': '300\\n100000\\n1310002020', '64': '300\\n100000\\n1412001021', '66': '300\\n100000\\n1411201120', '9': '200\\n100000\\n1611001000', '88': '200\\n100000\\n1501001000', '0': '300\\n100000\\n1610000000', '45': '300\\n100000\\n1411201220', '43': '300\\n100000\\n1410002020', '76': '200\\n100000\\n1210000030', '72': '200\\n100000\\n1620002010', '85': '300\\n100000\\n1311002021', '91': '300\\n100000\\n1610002020', '5': '300\\n100000\\n1610001020', '22': '300\\n100000\\n1510002010', '94': '300\\n100000\\n1510012010', '75': '200\\n100000\\n1420101020', '87': '355\\n100000\\n1610101020', '101': '300\\n100000\\n1600000000', '54': '300\\n100000\\n1511102020', '37': '200\\n100000\\n1310101120', '78': '300\\n100000\\n1421201320', '29': '200\\n100000\\n1620001000', '82': '200\\n100000\\n1420101010', '16': '300\\n100000\\n1511001020', '97': '300\\n100000\\n1612001021', '33': '200\\n100000\\n1611002100', '55': '200\\n100000\\n1620001010', '10': '300\\n100000\\n1611101020', '21': '300\\n100000\\n1510001020', '73': '300\\n100000\\n1610012020', '53': '300\\n100000\\n1510101010', '80': '300\\n100000\\n1311001021', '24': '200\\n100000\\n1510101020', '57': '251\\n100000\\n1510001010', '100': '300\\n100000\\n1600000000', '18': '200\\n100000\\n1511001000', '49': '300\\n100000\\n1610000010', '89': '310\\n100000\\n1610001001', '20': '300\\n100000\\n1510101110', '3': '200\\n100000\\n1610001000', '38': '300\\n100000\\n1611111020', '27': '200\\n100000\\n1410101020', '34': '300\\n100000\\n1520002010', '2': '300\\n100000\\n1610001010'}\n",
      "p02830: {'12': 'ocie', '52': 'jumtgvnvluhtmumu', '28': 'humuhtlunumvmvju', '84': 'kcqe', '26': 'bbb`abaaba', '50': 'aacb_bb``b', '11': 'bbaabaabaa', '44': 'aaca`bb``b', '30': 'odid', '23': 'bbb`bbaaaa', '62': 'a`cb_bb_`b', '13': 'htmuhumunukvnvku', '74': 'aabb_`b_ab', '65': 'abcb_`b_`b', '63': 'pcjd', '93': 'kcqf', '40': 'jumuhtnvlvhvmumu', '61': 'jumtgunvlvhtmvmu', '79': 'lumuhvlumvgtmtju', '36': 'jdod', '41': 'baca`ba``b', '92': '_babb`b``b', '90': 'qbke', '8': 'bbaaaaabaa', '71': 'aabb_`b_`b', '46': 'jumugtnvlvhvmtmu', '7': 'htmuhumunukunvku', '25': 'humuhtlunumvmvku', '69': 'odjd', '60': 'pbjd', '77': 'aaab_`b_ab', '56': '`abb_bc_ab', '4': 'htmuhumunukunuku', '98': '_`abbbb`_b', '31': 'mumuhtlunuhvmvju', '35': 'bacaaba`ab', '96': 'kbqf', '47': 'aacb`bb``b', '17': 'bbbabbaaaa', '32': 'bbc`abaaaa', '6': 'pcid', '83': 'abab_`b`ab', '15': 'ncie', '58': 'jumtgunvluhtmvmu', '67': 'jumtgumulvhtmvmu', '51': 'ncjc', '48': 'ocjc', '81': 'kcqd', '70': 'jumugtmulvhtmvmu', '19': 'htmuhukunumvmvku', '103': 'humuhumunukunuku', '14': 'bbaabbaaaa', '1': 'humuhumunukunukt', '86': '_baba`b`ab', '95': '_`abbbb``b', '59': 'aacb_bb_`b', '99': 'kfqb', '42': 'jcod', '39': 'icod', '68': 'aacb_`b_`b', '64': 'jumtgumvlvhtmvmu', '66': 'pdjd', '9': 'pcie', '88': 'lunuhulumvgtmtju', '102': 'aaaaaaaaaa', '0': 'icpd', '45': 'jcoc', '43': 'jumuhtnvlvhvmtmu', '76': 'lumuhtlumvgtmvju', '72': 'pdkd', '85': 'jumugvmulvhtntlu', '91': 'lunuhulumvftmtju', '5': 'baaaaaabaa', '22': 'htmuhulunumvmvku', '94': 'lunuhulumvftmtku', '75': 'pckd', '87': 'qcke', '101': 'icpc', '54': 'ocjd', '37': 'jumuhtnulvhvmvmu', '78': 'qckd', '29': 'bbc`abaaba', '82': 'lunuhvlumvgtmtju', '16': 'htmuhukunumvnvku', '97': 'lukuhulumvftmtnu', '33': 'idod', '55': 'jumvgtnulvhumtmu', '10': 'htmvhumunukunvku', '21': 'neid', '73': 'mumuhtlumvgtmvju', '53': '`abb_bc`ab', '80': 'abab_`b_ab', '24': 'ndie', '57': 'objd', '100': 'icpc', '18': 'neic', '49': 'jumugtnulvhvmtmu', '89': '_babb`b`ab', '20': 'bbbabbaaa`', '3': 'idpc', '38': 'bacaaba``b', '27': 'ndid', '34': 'jumuhtnuluhvmvmu', '2': 'baaaaaaaaa'}\n"
     ]
    },
    {
     "name": "stderr",
     "output_type": "stream",
     "text": [
      "\n"
     ]
    }
   ],
   "source": [
    "import re\n",
    "\n",
    "problem_id_to_inputs = {}\n",
    "problem_id_to_outputs = {}\n",
    "\n",
    "\n",
    "for problem_id in tqdm(problem_id_2_text):\n",
    "    tc2input = {}\n",
    "    tc2output = {}\n",
    "    input_files = glob.glob(os.path.join(PATH_TO_TESTCASES, problem_id, \"input.*.txt\"))\n",
    "    # output_files = glob.glob(os.path.join(PATH_TO_TESTCASES, problem_id, \"output.*.txt\"))\n",
    "    if len(input_files) > 0:\n",
    "        input_tc_nos = [re.search(r\"input\\.(\\d+)\\.txt\", f).group(1) for f in input_files]\n",
    "        for input_tc_no in input_tc_nos:\n",
    "            input_tc_path = os.path.join(PATH_TO_TESTCASES, problem_id, f\"input.{input_tc_no}.txt\")\n",
    "            output_tc_path = os.path.join(PATH_TO_TESTCASES, problem_id, f\"output.{input_tc_no}.txt\")\n",
    "            assert os.path.exists(input_tc_path)\n",
    "            assert os.path.exists(output_tc_path), f\"Missing output file for {input_tc_path}\"\n",
    "            with open(input_tc_path, \"r\") as f:\n",
    "                input_tc = f.read().strip()\n",
    "            with open(output_tc_path, \"r\") as f:\n",
    "                output_tc = f.read().strip()\n",
    "            tc2input[input_tc_no] = input_tc\n",
    "            tc2output[input_tc_no] = output_tc\n",
    "    problem_id_to_inputs[problem_id] = tc2input\n",
    "    problem_id_to_outputs[problem_id] = tc2output\n",
    "    \n",
    "print_n_from_dict(problem_id_to_inputs, 2)\n",
    "print_n_from_dict(problem_id_to_outputs, 2)"
   ]
  },
  {
   "cell_type": "code",
   "execution_count": 45,
   "metadata": {},
   "outputs": [
    {
     "name": "stdout",
     "output_type": "stream",
     "text": [
      "Number of valid problem ids: 555\n"
     ]
    }
   ],
   "source": [
    "def filter_problem_ids(problem_id, problem_id_to_inputs, problem_id_2_text): \n",
    "    if problem_id not in problem_id_to_inputs:\n",
    "        return False\n",
    "    if len(problem_id_to_inputs[problem_id]) == 0:\n",
    "        return False\n",
    "    if len(problem_id_2_text[problem_id]) < 100:\n",
    "        return False\n",
    "    if problem_id not in high_solve_rate:\n",
    "        return False\n",
    "    return True\n",
    "\n",
    "\n",
    "valid_problem_ids = [problem_id for problem_id in problem_id_2_text if filter_problem_ids(problem_id, problem_id_to_inputs, problem_id_2_text)]\n",
    "print(f\"Number of valid problem ids: {len(valid_problem_ids)}\")"
   ]
  },
  {
   "cell_type": "code",
   "execution_count": 48,
   "metadata": {},
   "outputs": [
    {
     "name": "stdout",
     "output_type": "stream",
     "text": [
      "Train: 277\n",
      "Test: 139\n",
      "Val: 139\n"
     ]
    }
   ],
   "source": [
    "# sample train, test and val\n",
    "# train should be ~70-75 pct, test and val is the rest split in half \n",
    "\n",
    "random.seed(42)\n",
    "random.shuffle(valid_problem_ids)\n",
    "n = len(valid_problem_ids)\n",
    "train_n = int(0.50 * n)\n",
    "test_n = (n - train_n) // 2\n",
    "val_n = n - train_n - test_n\n",
    "train_problem_ids = valid_problem_ids[:train_n]\n",
    "test_problem_ids = valid_problem_ids[train_n:train_n+test_n]\n",
    "val_problem_ids = valid_problem_ids[train_n+test_n:]\n",
    "\n",
    "print(f\"Train: {len(train_problem_ids)}\")\n",
    "print(f\"Test: {len(test_problem_ids)}\")\n",
    "print(f\"Val: {len(val_problem_ids)}\")"
   ]
  },
  {
   "cell_type": "code",
   "execution_count": 49,
   "metadata": {},
   "outputs": [
    {
     "name": "stdout",
     "output_type": "stream",
     "text": [
      "Train records: 277\n",
      "Test records: 139\n",
      "Val records: 139\n",
      "{'description_html': '<span class=\"lang-en\">\\n<p>Score : <var>1200</var> points</p>\\n<div class=\"part\">\\n<section>\\n<h3>Problem Statement</h3><p>Find the number of the possible tuples of sequences <var>(A_0,A_1,...,A_N)</var> that satisfy all of the following conditions, modulo <var>M</var>:</p>\\n<ul>\\n<li>For every <var>i</var> <var>(0\\\\leq i\\\\leq N)</var>, <var>A_i</var> is a sequence of length <var>i</var> consisting of integers between <var>1</var> and <var>K</var> (inclusive);</li>\\n<li>For every <var>i</var> <var>(1\\\\leq i\\\\leq N)</var>, <var>A_{i-1}</var> is a subsequence of <var>A_i</var>, that is, there exists <var>1\\\\leq x_i\\\\leq i</var> such that the removal of the <var>x_i</var>-th element of <var>A_i</var> would result in a sequence equal to <var>A_{i-1}</var>;</li>\\n<li>For every <var>i</var> <var>(1\\\\leq i\\\\leq N)</var>, <var>A_i</var> is lexicographically larger than <var>A_{i-1}</var>.</li>\\n</ul>\\n</section>\\n</div>\\n<div class=\"part\">\\n<section>\\n<h3>Constraints</h3><ul>\\n<li><var>1 \\\\leq N,K \\\\leq 300</var></li>\\n<li><var>2 \\\\leq M \\\\leq 10^9</var></li>\\n<li><var>N</var>, <var>K</var> and <var>M</var> are integers.</li>\\n</ul>\\n</section>\\n</div>\\n<hr/>\\n<div class=\"io-style\">\\n<div class=\"part\">\\n<section>\\n<h3>Input</h3><p>Input is given from Standard Input in the following format:</p>\\n<pre><var>N</var> <var>K</var> <var>M</var>\\n</pre>\\n</section>\\n</div>\\n<div class=\"part\">\\n<section>\\n<h3>Output</h3><p>Print the number of the possible tuples of sequences <var>(A_0,A_1,...,A_N)</var>, modulo <var>M</var>.</p>\\n</section>\\n</div>\\n</div>\\n<hr/>\\n<div class=\"part\">\\n<section>\\n<h3>Sample Input 1</h3><pre>2 2 100\\n</pre>\\n</section>\\n</div>\\n<div class=\"part\">\\n<section>\\n<h3>Sample Output 1</h3><pre>5\\n</pre>\\n<p>Five tuples below satisfy the conditions:</p>\\n<ul>\\n<li><var>(),(1),(1,1)</var></li>\\n<li><var>(),(1),(1,2)</var></li>\\n<li><var>(),(1),(2,1)</var></li>\\n<li><var>(),(2),(2,1)</var></li>\\n<li><var>(),(2),(2,2)</var></li>\\n</ul>\\n</section>\\n</div>\\n<hr/>\\n<div class=\"part\">\\n<section>\\n<h3>Sample Input 2</h3><pre>4 3 999999999\\n</pre>\\n</section>\\n</div>\\n<div class=\"part\">\\n<section>\\n<h3>Sample Output 2</h3><pre>358\\n</pre>\\n</section>\\n</div>\\n<hr/>\\n<div class=\"part\">\\n<section>\\n<h3>Sample Input 3</h3><pre>150 150 998244353\\n</pre>\\n</section>\\n</div>\\n<div class=\"part\">\\n<section>\\n<h3>Sample Output 3</h3><pre>186248260\\n</pre></section>\\n</div>\\n</span>', 'description_string': '\\nScore : 1200 points\\n\\n\\nProblem StatementFind the number of the possible tuples of sequences (A_0,A_1,...,A_N) that satisfy all of the following conditions, modulo M:\\n\\nFor every i (0\\\\leq i\\\\leq N), A_i is a sequence of length i consisting of integers between 1 and K (inclusive);\\nFor every i (1\\\\leq i\\\\leq N), A_{i-1} is a subsequence of A_i, that is, there exists 1\\\\leq x_i\\\\leq i such that the removal of the x_i-th element of A_i would result in a sequence equal to A_{i-1};\\nFor every i (1\\\\leq i\\\\leq N), A_i is lexicographically larger than A_{i-1}.\\n\\n\\n\\n\\n\\nConstraints\\n1 \\\\leq N,K \\\\leq 300\\n2 \\\\leq M \\\\leq 10^9\\nN, K and M are integers.\\n\\n\\n\\n\\n\\n\\n\\nInputInput is given from Standard Input in the following format:\\nN K M\\n\\n\\n\\n\\n\\nOutputPrint the number of the possible tuples of sequences (A_0,A_1,...,A_N), modulo M.\\n\\n\\n\\n\\n\\n\\nSample Input 12 2 100\\n\\n\\n\\n\\n\\nSample Output 15\\n\\nFive tuples below satisfy the conditions:\\n\\n(),(1),(1,1)\\n(),(1),(1,2)\\n(),(1),(2,1)\\n(),(2),(2,1)\\n(),(2),(2,2)\\n\\n\\n\\n\\n\\n\\nSample Input 24 3 999999999\\n\\n\\n\\n\\n\\nSample Output 2358\\n\\n\\n\\n\\n\\n\\nSample Input 3150 150 998244353\\n\\n\\n\\n\\n\\nSample Output 3186248260\\n\\n\\n', 'input_testcases': {'12': '8 3 1466674655', '52': '8 4 6133165', '28': '3 4 100', '84': '4 3 101', '26': '10 3 110', '50': '8 3 111', '11': '8 2 1466674655', '44': '4 4 111', '30': '4 4 101', '23': '1 4 362472130', '62': '1 10 9290019', '13': '6 2 100', '74': '1 9 308370397', '65': '10 7 7072539', '63': '10 4 7072539', '93': '2 1 1947524064', '40': '18 4 100', '61': '7 2 111', '79': '7 3 999999999', '36': '12 4 100', '41': '12 2 010', '92': '2 0 110', '90': '2 0 1057579467', '8': '1 2 110', '71': '4 10 2085911', '46': '36 3 100', '7': '4 4 1692604129', '25': '6 2 110', '69': '2 10 6016251', '60': '10 4 6620128', '77': '3 6 155425293', '56': '5 3 41993801', '4': '2 2 110', '98': '1 1 010', '31': '6 6 728055222', '35': '8 6 1466674655', '96': '0 1 110', '47': '4 7 101', '17': '1 3 110', '32': '4 4 110', '6': '300 150 998244353', '83': '9 4 1692604129', '15': '2 4 100', '58': '7 4 6620128', '67': '10 7 2345631', '51': '1 11 90695453', '48': '2 14 111', '81': '6 3 1507198201', '70': '2 5 162750814', '19': '6 4 1692604129', '103': '4 3 999999999', '14': '3 2 100', '1': '4 3 1692604129', '86': '8 4 1466674655', '95': '1 1 110', '59': '2 14 100', '99': '0 1 111', '42': '4 6 1348031049', '39': '6 2 904759855', '68': '1 34 110', '64': '1 19 111', '66': '8 6 50897096', '9': '3 3 110', '88': '2 0 1692604129', '102': '150 150 998244353', '0': '4 2 100', '45': '13 4 101', '43': '36 4 100', '76': '1 16 615642754', '72': '4 8 2085911', '85': '10 4 100', '91': '2 1 1057579467', '5': '2 3 100', '22': '4 2 011', '94': '1 0 110', '75': '2 11 2085911', '87': '2 1 100', '101': '2 2 100', '54': '5 2 41993801', '37': '6 4 111', '78': '2 13 84618100', '29': '1 6 111', '82': '217 150 998244353', '16': '150 162 998244353', '97': '0 1 100', '33': '6 2 101', '55': '8 4 6620128', '10': '10 2 100', '21': '10 2 110', '73': '4 11 2085911', '53': '3 12 111', '80': '7 2 100', '24': '8 5 1466674655', '57': '2 14 101', '100': '2 2 100', '18': '4 5 1507198201', '49': '6 5 1348031049', '89': '2 1 110', '20': '2 6 110', '3': '4 0 1692604129', '38': '6 3 111', '27': '8 7 1466674655', '34': '4 3 111', '2': '4 1 100'}, 'output_testcases': {'12': '1606137', '52': '1565175', '28': '54', '84': '55', '26': '102', '50': '78', '11': '21147', '44': '83', '30': '92', '23': '4', '62': '10', '13': '77', '74': '9', '65': '3614685', '63': '1356947', '93': '1', '40': '42', '61': '33', '79': '167894', '36': '37', '41': '7', '92': '0', '90': '0', '8': '2', '71': '64660', '46': '56', '7': '1304', '25': '107', '69': '145', '60': '1743899', '77': '561', '56': '2471', '4': '5', '98': '1', '31': '2201856', '35': '1051951026', '96': '1', '47': '89', '17': '3', '32': '94', '6': '274662407', '83': '402215465', '15': '22', '58': '1855570', '67': '2283282', '51': '11', '48': '65', '81': '19302', '70': '35', '19': '146115', '103': '358', '14': '15', '1': '358', '86': '26097835', '95': '1', '59': '87', '99': '1', '42': '7556', '39': '877', '68': '34', '64': '19', '66': '34009106', '9': '60', '88': '0', '102': '186248260', '0': '52', '45': '73', '43': '63', '76': '16', '72': '25488', '85': '75', '91': '1', '5': '12', '22': '8', '94': '0', '75': '176', '87': '1', '101': '5', '54': '203', '37': '39', '78': '247', '29': '6', '82': '987861978', '16': '813585744', '97': '1', '33': '69', '55': '6237451', '10': '70', '21': '90', '73': '95986', '53': '57', '80': '40', '24': '204904830', '57': '85', '100': '5', '18': '3455', '49': '660665', '89': '1', '20': '51', '3': '0', '38': '99', '27': '1152270312', '34': '25', '2': '1'}, 'orig_lang_html': '<span class=\"lang-en\">\\n<p>Score : <var>1200</var> points</p>\\n<div class=\"part\">\\n<section>\\n<h3>Problem Statement</h3><p>Find the number of the possible tuples of sequences <var>(A_0,A_1,...,A_N)</var> that satisfy all of the following conditions, modulo <var>M</var>:</p>\\n<ul>\\n<li>For every <var>i</var> <var>(0\\\\leq i\\\\leq N)</var>, <var>A_i</var> is a sequence of length <var>i</var> consisting of integers between <var>1</var> and <var>K</var> (inclusive);</li>\\n<li>For every <var>i</var> <var>(1\\\\leq i\\\\leq N)</var>, <var>A_{i-1}</var> is a subsequence of <var>A_i</var>, that is, there exists <var>1\\\\leq x_i\\\\leq i</var> such that the removal of the <var>x_i</var>-th element of <var>A_i</var> would result in a sequence equal to <var>A_{i-1}</var>;</li>\\n<li>For every <var>i</var> <var>(1\\\\leq i\\\\leq N)</var>, <var>A_i</var> is lexicographically larger than <var>A_{i-1}</var>.</li>\\n</ul>\\n</section>\\n</div>\\n<div class=\"part\">\\n<section>\\n<h3>Constraints</h3><ul>\\n<li><var>1 \\\\leq N,K \\\\leq 300</var></li>\\n<li><var>2 \\\\leq M \\\\leq 10^9</var></li>\\n<li><var>N</var>, <var>K</var> and <var>M</var> are integers.</li>\\n</ul>\\n</section>\\n</div>\\n<hr/>\\n<div class=\"io-style\">\\n<div class=\"part\">\\n<section>\\n<h3>Input</h3><p>Input is given from Standard Input in the following format:</p>\\n<pre><var>N</var> <var>K</var> <var>M</var>\\n</pre>\\n</section>\\n</div>\\n<div class=\"part\">\\n<section>\\n<h3>Output</h3><p>Print the number of the possible tuples of sequences <var>(A_0,A_1,...,A_N)</var>, modulo <var>M</var>.</p>\\n</section>\\n</div>\\n</div>\\n<hr/>\\n<div class=\"part\">\\n<section>\\n<h3>Sample Input 1</h3><pre>2 2 100\\n</pre>\\n</section>\\n</div>\\n<div class=\"part\">\\n<section>\\n<h3>Sample Output 1</h3><pre>5\\n</pre>\\n<p>Five tuples below satisfy the conditions:</p>\\n<ul>\\n<li><var>(),(1),(1,1)</var></li>\\n<li><var>(),(1),(1,2)</var></li>\\n<li><var>(),(1),(2,1)</var></li>\\n<li><var>(),(2),(2,1)</var></li>\\n<li><var>(),(2),(2,2)</var></li>\\n</ul>\\n</section>\\n</div>\\n<hr/>\\n<div class=\"part\">\\n<section>\\n<h3>Sample Input 2</h3><pre>4 3 999999999\\n</pre>\\n</section>\\n</div>\\n<div class=\"part\">\\n<section>\\n<h3>Sample Output 2</h3><pre>358\\n</pre>\\n</section>\\n</div>\\n<hr/>\\n<div class=\"part\">\\n<section>\\n<h3>Sample Input 3</h3><pre>150 150 998244353\\n</pre>\\n</section>\\n</div>\\n<div class=\"part\">\\n<section>\\n<h3>Sample Output 3</h3><pre>186248260\\n</pre></section>\\n</div>\\n</span>', 'orig_lang_string': '\\nScore : 1200 points\\n\\n\\nProblem StatementFind the number of the possible tuples of sequences (A_0,A_1,...,A_N) that satisfy all of the following conditions, modulo M:\\n\\nFor every i (0\\\\leq i\\\\leq N), A_i is a sequence of length i consisting of integers between 1 and K (inclusive);\\nFor every i (1\\\\leq i\\\\leq N), A_{i-1} is a subsequence of A_i, that is, there exists 1\\\\leq x_i\\\\leq i such that the removal of the x_i-th element of A_i would result in a sequence equal to A_{i-1};\\nFor every i (1\\\\leq i\\\\leq N), A_i is lexicographically larger than A_{i-1}.\\n\\n\\n\\n\\n\\nConstraints\\n1 \\\\leq N,K \\\\leq 300\\n2 \\\\leq M \\\\leq 10^9\\nN, K and M are integers.\\n\\n\\n\\n\\n\\n\\n\\nInputInput is given from Standard Input in the following format:\\nN K M\\n\\n\\n\\n\\n\\nOutputPrint the number of the possible tuples of sequences (A_0,A_1,...,A_N), modulo M.\\n\\n\\n\\n\\n\\n\\nSample Input 12 2 100\\n\\n\\n\\n\\n\\nSample Output 15\\n\\nFive tuples below satisfy the conditions:\\n\\n(),(1),(1,1)\\n(),(1),(1,2)\\n(),(1),(2,1)\\n(),(2),(2,1)\\n(),(2),(2,2)\\n\\n\\n\\n\\n\\n\\nSample Input 24 3 999999999\\n\\n\\n\\n\\n\\nSample Output 2358\\n\\n\\n\\n\\n\\n\\nSample Input 3150 150 998244353\\n\\n\\n\\n\\n\\nSample Output 3186248260\\n\\n\\n', 'codenet_problem_id': 'p03349'}\n"
     ]
    }
   ],
   "source": [
    "# each record should be a dict with the following keys:\n",
    "# description_html\n",
    "# description_string\n",
    "# input_testcases\n",
    "# output_testcases\n",
    "# orig_lang_html\n",
    "# orig_lang_string\n",
    "\n",
    "train_records = []\n",
    "test_records = []\n",
    "val_records = []\n",
    "\n",
    "for ids, records in [(train_problem_ids, train_records), (test_problem_ids, test_records), (val_problem_ids, val_records)]:\n",
    "    for problem_id in ids:\n",
    "        record = {}\n",
    "        record[\"description_html\"] = problem_id_2_html[problem_id]\n",
    "        record[\"description_string\"] = problem_id_2_text[problem_id]\n",
    "        record[\"input_testcases\"] = problem_id_to_inputs[problem_id]\n",
    "        record[\"output_testcases\"] = problem_id_to_outputs[problem_id]\n",
    "        record[\"orig_lang_html\"] = problem_id_2_html_orig[problem_id]\n",
    "        record[\"orig_lang_string\"] = problem_id_2_text_orig[problem_id]\n",
    "        record[\"codenet_problem_id\"] = problem_id\n",
    "        records.append(record)\n",
    "\n",
    "print(f\"Train records: {len(train_records)}\")\n",
    "print(f\"Test records: {len(test_records)}\")\n",
    "print(f\"Val records: {len(val_records)}\")\n",
    "\n",
    "print(train_records[0])\n",
    "\n"
   ]
  },
  {
   "cell_type": "code",
   "execution_count": 50,
   "metadata": {},
   "outputs": [],
   "source": [
    "PATH_TO_OUTPUT = \"/home/data1/diversity_codenet/high_solve_rate_problems\"\n",
    "if not os.path.exists(PATH_TO_OUTPUT):\n",
    "    os.makedirs(PATH_TO_OUTPUT)\n",
    "# save each to a jsonl file, records and lines = True \n",
    "train_records_df = pd.DataFrame(train_records)\n",
    "test_records_df = pd.DataFrame(test_records)\n",
    "val_records_df = pd.DataFrame(val_records)\n",
    "\n",
    "train_records_df.to_json(os.path.join(PATH_TO_OUTPUT, \"train_descriptions_and_testcases.jsonl\"), lines=True, orient=\"records\")\n",
    "test_records_df.to_json(os.path.join(PATH_TO_OUTPUT, \"test_descriptions_and_testcases.jsonl\"), lines=True, orient=\"records\")\n",
    "val_records_df.to_json(os.path.join(PATH_TO_OUTPUT, \"val_descriptions_and_testcases.jsonl\"), lines=True, orient=\"records\")\n"
   ]
  },
  {
   "cell_type": "code",
   "execution_count": 51,
   "metadata": {},
   "outputs": [],
   "source": [
    "# let's now go over the metadatas, sample up to 3000 solutions for eaa\n",
    "# ch problem\n",
    "# and save them to a jsonl file\n",
    "\n",
    "# first make problem_id_to_record \n",
    "\n",
    "problem_id_to_record = {}\n",
    "for record in train_records + test_records + val_records:\n",
    "    problem_id_to_record[record[\"codenet_problem_id\"]] = record\n",
    "\n",
    "# now let's write a function to sample up to 3000 solutions for each problem\n",
    "lang_2_file_ending = {\n",
    "    \"Python\": \"py\",\n",
    "    \"Java\": \"java\",\n",
    "    \"C\": \"c\",\n",
    "    \"C++\": \"cpp\",\n",
    "    \"Rust\": \"rs\",\n",
    "    \"Go\": \"go\",\n",
    "}\n",
    "\n",
    "def sample_solutions_for_problem(problem_id, problem_id_to_record, n=3000, language=\"python\"):   \n",
    "    metadata = pd.read_csv(os.path.join(PATH_TO_METADATA, f\"{problem_id}.csv\"))\n",
    "    lang_df = metadata[metadata[\"language\"] == language]\n",
    "    if len(lang_df) == 0:\n",
    "        return []\n",
    "    lang_df = lang_df.sample(n=min(n, len(lang_df)))\n",
    "    ## now read from the data folder and add to the record\n",
    "    lang_df[\"submission_id\"] = lang_df[\"submission_id\"].astype(str)\n",
    "    submission_records = []\n",
    "    for i, row in lang_df.iterrows():\n",
    "        submission_id = row[\"submission_id\"]\n",
    "        submission_path = os.path.join(PATH_TO_DATA, problem_id, language, f\"{submission_id}.{lang_2_file_ending[language]}\")\n",
    "        if os.path.exists(submission_path):\n",
    "            with open(submission_path, \"r\") as f:\n",
    "                code = f.read()\n",
    "            row[\"code\"] = code\n",
    "            row_dict = row.to_dict()\n",
    "            # add record to submission_records\n",
    "            # row_dict = {**row_dict, **problem_id_to_record[problem_id]}\n",
    "            submission_records.append(row_dict)\n",
    "    return submission_records\n",
    "    \n",
    "    \n",
    "\n",
    "    "
   ]
  },
  {
   "cell_type": "code",
   "execution_count": 52,
   "metadata": {},
   "outputs": [],
   "source": [
    "# df = sample_solutions_for_problem(\"p00705\", problem_id_to_record, n=3000, language=\"Python\")\n",
    "# pd.DataFrame(df)\n",
    "\n",
    "# def sample_solutions_for_all_problems(problem_ids, problem_id_to_record, n=3000, language=\"python\"):\n",
    "#     all_records = []\n",
    "#     for problem_id in tqdm(problem_ids):\n",
    "#         records = sample_solutions_for_problem(problem_id, problem_id_to_record, n=n, language=language)\n",
    "#         all_records.extend(records)\n",
    "#     return all_records"
   ]
  },
  {
   "cell_type": "code",
   "execution_count": 53,
   "metadata": {},
   "outputs": [],
   "source": [
    "import joblib\n",
    "from joblib import Parallel, delayed\n",
    "import contextlib\n",
    "\n",
    "\n",
    "@contextlib.contextmanager\n",
    "def tqdm_joblib(tqdm_object):\n",
    "    \"\"\"Context manager to patch joblib to report into tqdm progress bar given as argument\"\"\"\n",
    "    class TqdmBatchCompletionCallback(joblib.parallel.BatchCompletionCallBack):\n",
    "        def __call__(self, *args, **kwargs):\n",
    "            tqdm_object.update(n=self.batch_size)\n",
    "            return super().__call__(*args, **kwargs)\n",
    "\n",
    "    old_batch_callback = joblib.parallel.BatchCompletionCallBack\n",
    "    joblib.parallel.BatchCompletionCallBack = TqdmBatchCompletionCallback\n",
    "    try:\n",
    "        yield tqdm_object\n",
    "    finally:\n",
    "        joblib.parallel.BatchCompletionCallBack = old_batch_callback\n",
    "        tqdm_object.close()\n",
    "        \n",
    "        \n",
    "def sample_solutions_for_all_problems_parallel(problem_ids, problem_id_to_record, n=3000, language=\"python\"):\n",
    "    with tqdm_joblib(tqdm(total=len(problem_ids))) as pbar:\n",
    "        all_records = Parallel(n_jobs=20, backend=\"threading\")(delayed(sample_solutions_for_problem)(problem_id, problem_id_to_record, n=n, language=language) for problem_id in problem_ids)\n",
    "    # concat all dfs by flattening \n",
    "    all_records = [record for records in all_records for record in records]\n",
    "    all_records_df = pd.DataFrame(all_records)\n",
    "    return all_records_df\n",
    "\n",
    "\n",
    "        \n"
   ]
  },
  {
   "cell_type": "code",
   "execution_count": 54,
   "metadata": {},
   "outputs": [],
   "source": [
    "# demo_parallel = sample_solutions_for_all_problems_parallel(valid_problem_ids[:10], problem_id_to_record, n=3000, language=\"Python\")"
   ]
  },
  {
   "cell_type": "code",
   "execution_count": 55,
   "metadata": {},
   "outputs": [
    {
     "name": "stderr",
     "output_type": "stream",
     "text": [
      "100%|██████████| 277/277 [00:16<00:00, 16.74it/s]\n",
      "100%|██████████| 139/139 [00:09<00:00, 14.44it/s]\n",
      "100%|██████████| 139/139 [00:07<00:00, 17.52it/s]\n",
      "100%|██████████| 277/277 [00:34<00:00,  8.13it/s]\n",
      "100%|██████████| 139/139 [00:16<00:00,  8.25it/s]\n",
      "100%|██████████| 139/139 [00:15<00:00,  8.70it/s]\n"
     ]
    }
   ],
   "source": [
    "train_records_df = sample_solutions_for_all_problems_parallel(train_problem_ids, problem_id_to_record, n=200, language=\"Python\")\n",
    "test_records_df = sample_solutions_for_all_problems_parallel(test_problem_ids, problem_id_to_record, n=200, language=\"Python\")\n",
    "val_records_df = sample_solutions_for_all_problems_parallel(val_problem_ids, problem_id_to_record, n=200, language=\"Python\")\n",
    "\n",
    "train_records_df.to_json(os.path.join(PATH_TO_OUTPUT, \"train_examples.jsonl\"), lines=True, orient=\"records\")\n",
    "test_records_df.to_json(os.path.join(PATH_TO_OUTPUT, \"test_examples.jsonl\"), lines=True, orient=\"records\")\n",
    "val_records_df.to_json(os.path.join(PATH_TO_OUTPUT, \"val_examples.jsonl\"), lines=True, orient=\"records\")\n",
    "\n",
    "train_records_df = sample_solutions_for_all_problems_parallel(train_problem_ids, problem_id_to_record, n=200, language=\"C++\")\n",
    "test_records_df = sample_solutions_for_all_problems_parallel(test_problem_ids, problem_id_to_record, n=200, language=\"C++\")\n",
    "val_records_df = sample_solutions_for_all_problems_parallel(val_problem_ids, problem_id_to_record, n=200, language=\"C++\")\n",
    "\n",
    "train_records_df.to_json(os.path.join(PATH_TO_OUTPUT, \"train_examples_cpp.jsonl\"), lines=True, orient=\"records\")\n",
    "test_records_df.to_json(os.path.join(PATH_TO_OUTPUT, \"test_examples_cpp.jsonl\"), lines=True, orient=\"records\")\n",
    "val_records_df.to_json(os.path.join(PATH_TO_OUTPUT, \"val_examples_cpp.jsonl\"), lines=True, orient=\"records\")\n"
   ]
  },
  {
   "cell_type": "code",
   "execution_count": 56,
   "metadata": {},
   "outputs": [
    {
     "name": "stdout",
     "output_type": "stream",
     "text": [
      "count    188.000000\n",
      "mean      63.180851\n",
      "std       79.872085\n",
      "min        1.000000\n",
      "25%        4.750000\n",
      "50%       20.000000\n",
      "75%      123.750000\n",
      "max      200.000000\n",
      "dtype: float64\n",
      "count    100.000000\n",
      "mean      69.220000\n",
      "std       86.099728\n",
      "min        1.000000\n",
      "25%        3.000000\n",
      "50%       18.000000\n",
      "75%      200.000000\n",
      "max      200.000000\n",
      "dtype: float64\n",
      "count     91.000000\n",
      "mean      61.285714\n",
      "std       78.927996\n",
      "min        1.000000\n",
      "25%        3.000000\n",
      "50%       17.000000\n",
      "75%       96.000000\n",
      "max      200.000000\n",
      "dtype: float64\n"
     ]
    }
   ],
   "source": [
    "# print average number of submissions per problem \n",
    "def avg_submissions_per_problem(jsonl_df_path):\n",
    "    df = pd.read_json(jsonl_df_path, lines=True)\n",
    "    grouped = df.groupby(\"problem_id\").size()\n",
    "    return grouped.describe()\n",
    "\n",
    "print(avg_submissions_per_problem(os.path.join(PATH_TO_OUTPUT, \"train_examples.jsonl\")))\n",
    "print(avg_submissions_per_problem(os.path.join(PATH_TO_OUTPUT, \"test_examples.jsonl\")))\n",
    "print(avg_submissions_per_problem(os.path.join(PATH_TO_OUTPUT, \"val_examples.jsonl\")))"
   ]
  },
  {
   "cell_type": "code",
   "execution_count": 57,
   "metadata": {},
   "outputs": [
    {
     "data": {
      "text/plain": [
       "'/home/data1/diversity_codenet/high_solve_rate_problems'"
      ]
     },
     "execution_count": 57,
     "metadata": {},
     "output_type": "execute_result"
    }
   ],
   "source": [
    "PATH_TO_OUTPUT"
   ]
  },
  {
   "cell_type": "code",
   "execution_count": null,
   "metadata": {},
   "outputs": [],
   "source": []
  },
  {
   "cell_type": "code",
   "execution_count": 61,
   "metadata": {},
   "outputs": [
    {
     "name": "stdout",
     "output_type": "stream",
     "text": [
      "\n",
      "Score : 100 points\n",
      "\n",
      "\n",
      "Problem StatementSmeke has decided to participate in AtCoder Beginner Contest (ABC) if his current rating is less than 1200, and participate in AtCoder Regular Contest (ARC) otherwise.\n",
      "You are given Smeke's current rating, x. Print ABC if Smeke will participate in ABC, and print ARC otherwise.\n",
      "\n",
      "\n",
      "\n",
      "\n",
      "Constraints\n",
      "1 ≦ x ≦ 3{,}000\n",
      "x is an integer.\n",
      "\n",
      "\n",
      "\n",
      "\n",
      "\n",
      "\n",
      "\n",
      "InputThe input is given from Standard Input in the following format:\n",
      "x\n",
      "\n",
      "\n",
      "\n",
      "\n",
      "\n",
      "OutputPrint the answer.\n",
      "\n",
      "\n",
      "\n",
      "\n",
      "\n",
      "\n",
      "Sample Input 11000\n",
      "\n",
      "\n",
      "\n",
      "\n",
      "\n",
      "Sample Output 1ABC\n",
      "\n",
      "Smeke's current rating is less than 1200, thus the output should be ABC.\n",
      "\n",
      "\n",
      "\n",
      "\n",
      "\n",
      "Sample Input 22000\n",
      "\n",
      "\n",
      "\n",
      "\n",
      "\n",
      "Sample Output 2ARC\n",
      "\n",
      "Smeke's current rating is not less than 1200, thus the output should be ARC.\n",
      "\n",
      "\n"
     ]
    }
   ],
   "source": [
    "# print some descriptions\n",
    "df = pd.read_json(os.path.join(PATH_TO_OUTPUT, \"train_descriptions_and_testcases.jsonl\"), lines=True)\n",
    "print(df.iloc[1][\"description_string\"])"
   ]
  },
  {
   "cell_type": "code",
   "execution_count": null,
   "metadata": {},
   "outputs": [],
   "source": [
    "metadata_3000 = pd.read_csv(os.path.join(PATH_TO_METADATA, \"p03245.csv\"))\n",
    "metadata_3000\n"
   ]
  },
  {
   "cell_type": "code",
   "execution_count": null,
   "metadata": {},
   "outputs": [],
   "source": []
  }
 ],
 "metadata": {
  "kernelspec": {
   "display_name": "py39",
   "language": "python",
   "name": "python3"
  },
  "language_info": {
   "codemirror_mode": {
    "name": "ipython",
    "version": 3
   },
   "file_extension": ".py",
   "mimetype": "text/x-python",
   "name": "python",
   "nbconvert_exporter": "python",
   "pygments_lexer": "ipython3",
   "version": "3.8.16"
  }
 },
 "nbformat": 4,
 "nbformat_minor": 2
}
