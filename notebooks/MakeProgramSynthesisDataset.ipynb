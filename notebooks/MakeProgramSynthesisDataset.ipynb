{
 "cells": [
  {
   "cell_type": "code",
   "execution_count": 1,
   "metadata": {},
   "outputs": [],
   "source": [
    "import pandas as pd \n",
    "import os \n",
    "import shutil\n",
    "import random \n",
    "import glob \n",
    "from bs4 import BeautifulSoup\n",
    "from tqdm import tqdm "
   ]
  },
  {
   "cell_type": "code",
   "execution_count": 2,
   "metadata": {},
   "outputs": [],
   "source": [
    "PATH_TO_CODENET = \"/data1/shypula/Project_CodeNet\"\n",
    "PATH_TO_METADATA = \"/data1/shypula/Project_CodeNet/metadata\"\n",
    "PATH_TO_PROBLEM_DESC = \"/data1/shypula/Project_CodeNet/problem_descriptions_translated\"\n",
    "PATH_TO_DATA = \"/data1/shypula/Project_CodeNet/data\"\n",
    "PATH_TO_TESTCASES = \"/data1/shypula/codenet_testcases\"\n",
    "PATH_TO_PROBLEM_DESC_ORIG = \"/data1/shypula/Project_CodeNet/problem_descriptions\"\n",
    "\n",
    "\n",
    "# problem desc is /{problem_id}.html\n",
    "# metadata is /{problem_id}.csv\n",
    "# data is /{problem_id}/LANG/{submission_id}.{ext}\n",
    "# testcases is /{problem_id}/input.*.txt and /{problem_id}/output.*.txt\n",
    "\n",
    "def html_string_to_text(html_string):\n",
    "    soup = BeautifulSoup(html_string, 'html.parser')\n",
    "    return soup.get_text()\n",
    "\n",
    "\n",
    "def print_n_from_dict(d, n=5, max_len=100):\n",
    "    for i, (k, v) in enumerate(d.items()):\n",
    "        if type(v) == str and len(v) > max_len:\n",
    "            print(f\"{k}: {v[:max_len]}...\")\n",
    "        else: \n",
    "            print(f\"{k}: {v}\")\n",
    "        if i > n:\n",
    "            break\n",
    "\n"
   ]
  },
  {
   "cell_type": "code",
   "execution_count": 3,
   "metadata": {},
   "outputs": [
    {
     "name": "stderr",
     "output_type": "stream",
     "text": [
      " 84%|████████▍ | 3375/3999 [00:07<00:01, 536.09it/s]Traceback (most recent call last):\n",
      "  File \"/tmp/ipykernel_1921952/1050089094.py\", line 12, in <cell line: 6>\n",
      "    problem_id_2_text[problem_id] = html_string_to_text(html_string)\n",
      "  File \"/tmp/ipykernel_1921952/2456984889.py\", line 15, in html_string_to_text\n",
      "    soup = BeautifulSoup(html_string, 'html.parser')\n",
      "  File \"/home/shypula/anaconda3/envs/py39/lib/python3.9/site-packages/bs4/__init__.py\", line 344, in __init__\n",
      "    raise ParserRejectedMarkup(\n",
      "bs4.builder.ParserRejectedMarkup: The markup you provided was rejected by the parser. Trying a different parser or a different encoding may help.\n",
      "\n",
      "Original exception(s) from parser:\n",
      " unknown status keyword 'C' in marked section\n",
      " 87%|████████▋ | 3488/3999 [00:07<00:00, 543.27it/s]"
     ]
    },
    {
     "name": "stdout",
     "output_type": "stream",
     "text": [
      "Error processing p00194\n"
     ]
    },
    {
     "name": "stderr",
     "output_type": "stream",
     "text": [
      "100%|██████████| 3999/3999 [00:08<00:00, 450.01it/s]"
     ]
    },
    {
     "name": "stdout",
     "output_type": "stream",
     "text": [
      "p03466: \n",
      "Score : 1100 points\n",
      "\n",
      "\n",
      "Problem StatementLet f(A, B), where A and B are positive integers, be the str...\n",
      "p03036: \n",
      "Score : 200 points\n",
      "\n",
      "\n",
      "Problem StatementThe development of algae in a pond is as follows.\n",
      "Let the tot...\n",
      "p02277: \n",
      "Quick Sort\n",
      "\n",
      "\n",
      "Let's arrange a deck of cards. Your task is to sort totally n cards. A card consists o...\n",
      "p03935: \n",
      "\n",
      "\t\t\t\tMax Score: $1400$ Points \n",
      "\n",
      "Problem Statement\n",
      "\t\t\t\t\tE869120 defined a sequence $a$ like this: \n",
      "\n",
      "...\n",
      "p03466: <span class=\"lang-en\">\n",
      "<p>Score : <var>1100</var> points</p>\n",
      "<div class=\"part\">\n",
      "<section>\n",
      "<h3>Proble...\n",
      "p03036: <span class=\"lang-en\">\n",
      "<p>Score : <var>200</var> points</p>\n",
      "<div class=\"part\">\n",
      "<section>\n",
      "<h3>Problem...\n",
      "p02277: \n",
      "<H1>Quick Sort</H1>\n",
      "<!--\n",
      "<p style=\"color:#f00\">\n",
      "Please note that problem description and judge data...\n",
      "p03935: <span class=\"lang-en lang-child hidden-lang\">\n",
      "<div class=\"part\">\n",
      "\t\t\t\tMax Score: $1400$ Points <br/>\n",
      "...\n"
     ]
    },
    {
     "name": "stderr",
     "output_type": "stream",
     "text": [
      "\n"
     ]
    }
   ],
   "source": [
    "problem_id_2_html = {}\n",
    "problem_id_2_text = {}\n",
    "import traceback\n",
    "\n",
    "all_html_files = glob.glob(os.path.join(PATH_TO_PROBLEM_DESC, \"*.html\"))\n",
    "for html_file in tqdm(all_html_files):\n",
    "    problem_id = os.path.basename(html_file).replace(\".html\", \"\")\n",
    "    with open(html_file, \"r\") as f:\n",
    "        html_string = f.read()\n",
    "        problem_id_2_html[problem_id] = html_string\n",
    "        try: \n",
    "            problem_id_2_text[problem_id] = html_string_to_text(html_string)\n",
    "        except Exception as e:\n",
    "            problem_id_2_text[problem_id] = html_string\n",
    "            print(f\"Error processing {problem_id}\")\n",
    "            traceback.print_exc()\n",
    "        \n",
    "\n",
    "        \n",
    "print_n_from_dict(problem_id_2_text, 2)\n",
    "print_n_from_dict(problem_id_2_html, 2)"
   ]
  },
  {
   "cell_type": "code",
   "execution_count": 4,
   "metadata": {},
   "outputs": [
    {
     "name": "stderr",
     "output_type": "stream",
     "text": [
      "100%|██████████| 3999/3999 [00:08<00:00, 491.75it/s]\n"
     ]
    }
   ],
   "source": [
    "problem_id_2_html_orig = {}\n",
    "problem_id_2_text_orig = {}\n",
    "\n",
    "all_html_files = glob.glob(os.path.join(PATH_TO_PROBLEM_DESC_ORIG, \"*.html\"))\n",
    "for html_file in tqdm(all_html_files):\n",
    "    problem_id = os.path.basename(html_file).replace(\".html\", \"\")\n",
    "    with open(html_file, \"r\") as f:\n",
    "        html_string = f.read()\n",
    "        problem_id_2_html_orig[problem_id] = html_string\n",
    "        problem_id_2_text_orig[problem_id] = html_string_to_text(html_string)\n",
    "        "
   ]
  },
  {
   "cell_type": "code",
   "execution_count": 5,
   "metadata": {},
   "outputs": [
    {
     "name": "stdout",
     "output_type": "stream",
     "text": [
      "count     3999.000000\n",
      "mean      1847.297324\n",
      "std       1090.382192\n",
      "min          0.000000\n",
      "25%       1139.500000\n",
      "50%       1643.000000\n",
      "75%       2323.500000\n",
      "max      20297.000000\n",
      "dtype: float64\n",
      "count     3999.000000\n",
      "mean      2672.850963\n",
      "std       1293.106508\n",
      "min          1.000000\n",
      "25%       1880.000000\n",
      "50%       2529.000000\n",
      "75%       3250.500000\n",
      "max      27218.000000\n",
      "dtype: float64\n"
     ]
    }
   ],
   "source": [
    "print(pd.Series(problem_id_2_text).apply(len).describe())\n",
    "print(pd.Series(problem_id_2_html).apply(len).describe())"
   ]
  },
  {
   "cell_type": "code",
   "execution_count": 6,
   "metadata": {},
   "outputs": [
    {
     "name": "stdout",
     "output_type": "stream",
     "text": [
      "count     3999.000000\n",
      "mean      1591.359840\n",
      "std       1061.352577\n",
      "min          1.000000\n",
      "25%        947.000000\n",
      "50%       1345.000000\n",
      "75%       1915.000000\n",
      "max      20297.000000\n",
      "dtype: float64\n",
      "count     3999.000000\n",
      "mean      2506.493623\n",
      "std       1319.754792\n",
      "min          1.000000\n",
      "25%       1699.000000\n",
      "50%       2315.000000\n",
      "75%       3050.000000\n",
      "max      27218.000000\n",
      "dtype: float64\n"
     ]
    }
   ],
   "source": [
    "print(pd.Series(problem_id_2_text_orig).apply(len).describe())\n",
    "print(pd.Series(problem_id_2_html_orig).apply(len).describe())"
   ]
  },
  {
   "cell_type": "code",
   "execution_count": 7,
   "metadata": {},
   "outputs": [
    {
     "name": "stderr",
     "output_type": "stream",
     "text": [
      "100%|██████████| 3999/3999 [01:44<00:00, 38.18it/s]"
     ]
    },
    {
     "name": "stdout",
     "output_type": "stream",
     "text": [
      "p03466: {'12': '5\\n2 3 1 5\\n9 4 1 10\\n2 3 6 4\\n6 4 3 1\\n8 2 5 8', '52': '5\\n0 6 1 5\\n6 4 1 2\\n2 3 6 4\\n6 4 3 2\\n12 2 4 8', '28': '5\\n2 3 1 5\\n6 4 1 10\\n2 3 4 4\\n6 7 3 7\\n8 20 5 14', '84': '5\\n2 3 1 5\\n6 4 2 10\\n2 3 4 4\\n6 7 5 0\\n16 20 5 14', '26': '5\\n2 3 1 5\\n6 4 1 10\\n2 3 4 4\\n6 4 3 7\\n8 20 5 14', '50': '5\\n2 6 1 7\\n9 4 1 10\\n2 3 6 4\\n6 4 3 7\\n12 2 5 7', '11': '5\\n2 3 1 5\\n6 7 1 10\\n2 3 4 4\\n6 7 3 7\\n8 10 5 14', '44': '5\\n0 5 1 5\\n6 4 2 3\\n1 5 6 4\\n8 4 3 1\\n12 2 5 0', '30': '5\\n2 6 1 7\\n9 4 1 10\\n2 3 6 4\\n6 4 3 7\\n12 2 5 8', '23': '5\\n1 6 1 5\\n1 4 1 2\\n2 3 6 3\\n6 4 3 7\\n8 2 5 8', '62': '5\\n3 3 1 5\\n8 4 1 10\\n4 3 4 4\\n6 4 3 7\\n8 2 5 8', '13': '5\\n2 6 1 5\\n9 4 1 2\\n2 3 6 4\\n6 4 3 7\\n7 2 5 8', '74': '5\\n3 3 1 5\\n8 4 1 10\\n4 3 4 4\\n6 4 3 7\\n8 2 10 8', '65': '5\\n1 6 1 5\\n17 4 1 2\\n2 3 6 2\\n6 4 3 7\\n7 2 5 8', '63': '5\\n2 3 1 5\\n6 4 1 10\\n2 3 4 4\\n6 7 3 0\\n16 20 5 14', '93': '5\\n3 3 1 5\\n18 4 1 10\\n4 3 4 4\\n6 4 3 7\\n8 2 10 8', '40': '5\\n0 6 1 5\\n6 4 2 2\\n2 3 6 4\\n6 4 3 1\\n12 0 5 8', '61': '5\\n0 5 2 3\\n6 4 2 2\\n1 5 6 4\\n8 4 3 2\\n12 2 5 0', '79': '5\\n2 3 2 5\\n9 8 1 10\\n2 1 8 4\\n6 4 3 7\\n23 2 1 8', '36': '5\\n2 3 1 5\\n9 8 1 10\\n2 1 6 4\\n6 4 3 7\\n12 2 1 8', '41': '5\\n1 6 1 5\\n1 4 1 2\\n2 3 6 3\\n6 4 3 6\\n8 2 5 8', '92': '5\\n1 6 1 5\\n1 6 1 2\\n2 3 6 1\\n6 4 1 8\\n8 4 5 7', '90': '5\\n0 6 1 5\\n6 7 1 2\\n2 3 6 4\\n2 4 3 2\\n8 2 4 2', '8': '5\\n1 6 1 5\\n9 4 1 2\\n2 3 6 4\\n6 4 3 7\\n12 2 5 8', '71': '5\\n0 6 1 5\\n6 4 3 2\\n2 3 6 4\\n4 4 3 1\\n12 0 5 8', '46': '5\\n3 3 1 5\\n6 4 1 10\\n4 3 4 4\\n6 4 3 7\\n8 2 5 8', '7': '5\\n2 6 1 5\\n9 4 1 2\\n2 3 6 4\\n6 4 3 7\\n12 2 5 8', '25': '5\\n0 5 2 5\\n6 4 2 2\\n1 5 6 4\\n8 4 3 1\\n12 2 5 0', '69': '5\\n2 3 1 5\\n6 7 1 10\\n2 3 1 4\\n6 12 3 10\\n8 10 10 14', '60': '5\\n0 5 1 5\\n6 4 1 3\\n2 5 6 4\\n6 4 3 1\\n12 2 5 0', '77': '5\\n1 6 1 5\\n17 4 1 2\\n2 3 6 2\\n6 4 1 7\\n7 2 5 8', '56': '5\\n1 6 1 4\\n1 4 1 2\\n2 3 6 1\\n6 4 3 7\\n12 2 5 8', '4': '5\\n2 3 1 5\\n9 4 1 10\\n2 3 6 4\\n6 4 3 7\\n8 2 5 8', '98': '5\\n0 5 1 5\\n6 4 4 0\\n2 8 10 4\\n6 2 1 1\\n15 1 5 10', '31': '5\\n2 6 1 5\\n9 4 1 2\\n2 3 6 4\\n6 4 3 7\\n12 2 5 4', '35': '5\\n0 6 1 5\\n6 4 1 2\\n2 3 6 4\\n6 4 3 2\\n12 2 2 8', '96': '5\\n2 3 1 4\\n11 6 1 7\\n2 3 4 4\\n7 2 3 7\\n12 2 5 8', '47': '5\\n2 3 1 5\\n6 4 1 10\\n2 3 4 4\\n6 7 3 7\\n16 20 5 14', '17': '5\\n2 3 1 5\\n6 7 1 10\\n2 3 4 4\\n6 7 3 7\\n8 10 6 14', '32': '5\\n1 6 1 5\\n9 4 1 2\\n2 3 6 4\\n6 4 3 7\\n12 2 5 10', '6': '5\\n2 6 1 5\\n9 4 1 10\\n2 3 6 4\\n6 4 3 7\\n12 2 5 8', '83': '5\\n3 3 1 5\\n13 4 1 10\\n4 3 4 4\\n6 4 3 7\\n8 2 10 8', '15': '5\\n0 6 1 5\\n6 4 1 2\\n2 3 6 4\\n6 4 3 2\\n12 2 5 8', '58': '5\\n1 6 1 5\\n1 5 1 2\\n2 3 6 1\\n6 4 3 7\\n8 2 5 7', '67': '5\\n2 3 1 5\\n9 8 1 10\\n2 1 8 4\\n6 4 3 7\\n23 2 1 8', '51': '5\\n2 6 1 5\\n9 4 1 2\\n2 3 6 4\\n6 4 3 7\\n12 2 5 10', '48': '5\\n2 3 1 5\\n9 13 1 10\\n2 3 6 4\\n6 4 3 7\\n8 2 5 8', '81': '5\\n1 6 1 5\\n1 6 1 2\\n2 3 6 1\\n6 4 1 7\\n8 2 5 7', '70': '5\\n2 3 1 2\\n9 8 1 10\\n2 1 6 4\\n6 4 3 4\\n12 2 3 0', '19': '5\\n1 6 1 5\\n1 4 1 2\\n2 3 6 4\\n6 4 3 7\\n12 2 5 8', '14': '5\\n1 6 1 5\\n2 4 1 2\\n2 3 6 4\\n6 4 3 7\\n12 2 5 8', '1': '5\\n2 3 1 5\\n6 4 1 10\\n2 3 4 4\\n6 4 3 7\\n8 2 5 8', '86': '5\\n1 6 1 7\\n9 7 1 1\\n1 2 6 4\\n6 4 3 7\\n12 2 9 8', '95': '5\\n0 5 1 5\\n6 4 4 0\\n2 8 10 4\\n6 2 1 1\\n15 1 5 8', '59': '5\\n0 5 1 5\\n6 4 4 2\\n2 5 6 4\\n6 4 3 1\\n15 2 5 8', '99': '5\\n0 5 1 5\\n6 4 4 0\\n2 8 10 4\\n6 2 1 1\\n15 2 5 10', '42': '5\\n0 5 1 5\\n6 4 2 2\\n2 5 6 4\\n6 4 3 1\\n15 2 5 8', '39': '5\\n2 3 1 2\\n9 8 1 10\\n2 1 6 4\\n6 4 3 7\\n12 2 3 8', '68': '5\\n1 11 1 5\\n1 4 1 2\\n2 3 6 4\\n9 4 3 7\\n23 2 5 8', '64': '5\\n2 6 2 5\\n9 4 1 2\\n2 3 6 4\\n6 4 3 7\\n12 2 5 10', '66': '5\\n2 3 1 5\\n6 4 4 10\\n1 3 4 4\\n6 3 3 7\\n8 7 5 8', '9': '5\\n0 6 1 5\\n6 4 1 2\\n2 3 6 4\\n6 4 3 7\\n12 2 5 8', '88': '5\\n2 6 2 5\\n9 4 1 2\\n2 3 6 4\\n5 4 3 7\\n12 1 3 10', '0': '5\\n2 3 1 5\\n6 4 1 10\\n2 3 4 4\\n6 4 3 7\\n8 10 5 14', '45': '5\\n2 3 1 5\\n6 4 1 10\\n2 3 1 4\\n6 4 3 7\\n8 20 5 14', '43': '5\\n0 5 1 5\\n6 4 1 2\\n2 5 6 4\\n6 4 3 1\\n12 2 5 0', '76': '5\\n2 6 2 5\\n9 4 1 2\\n2 3 6 4\\n6 4 3 7\\n12 1 5 10', '72': '5\\n1 6 1 5\\n1 4 1 2\\n0 3 6 3\\n6 4 3 6\\n12 2 5 8', '85': '5\\n2 6 2 5\\n9 4 1 2\\n2 3 6 4\\n6 4 3 7\\n12 1 3 10', '91': '5\\n2 3 1 0\\n9 8 1 10\\n2 1 11 4\\n6 4 3 4\\n12 2 4 0', '5': '5\\n2 3 1 5\\n9 4 1 10\\n2 3 6 4\\n6 4 3 7\\n12 2 5 8', '22': '5\\n2 3 1 5\\n9 8 1 10\\n2 1 6 4\\n6 4 3 7\\n12 2 3 8', '94': '5\\n2 3 1 4\\n11 6 1 7\\n2 3 4 4\\n7 3 3 7\\n12 2 5 8', '75': '5\\n2 3 1 2\\n9 4 1 7\\n2 3 4 4\\n7 4 3 7\\n12 2 5 8', '87': '5\\n1 6 1 5\\n1 6 1 2\\n2 3 6 1\\n6 4 1 7\\n8 4 5 7', '54': '5\\n2 3 1 5\\n6 7 1 10\\n2 3 1 4\\n6 12 3 7\\n8 10 10 14', '101': '5\\n2 3 1 5\\n6 4 1 10\\n2 3 4 4\\n6 4 3 7\\n8 10 5 8', '37': '5\\n1 11 1 5\\n1 4 1 2\\n2 3 6 4\\n6 4 3 7\\n12 2 5 8', '78': '5\\n1 6 1 7\\n9 7 1 1\\n1 2 6 4\\n6 4 3 7\\n12 2 5 8', '29': '5\\n2 3 1 5\\n9 4 1 7\\n2 3 6 4\\n6 4 3 7\\n12 2 5 8', '82': '5\\n0 5 2 4\\n6 4 2 2\\n1 9 6 4\\n8 4 3 2\\n12 2 5 0', '16': '5\\n2 3 1 5\\n6 4 1 10\\n2 3 5 4\\n6 4 3 7\\n8 3 5 8', '97': '5\\n2 12 2 5\\n9 4 1 2\\n2 3 6 4\\n5 5 3 7\\n12 1 3 10', '33': '5\\n2 3 1 5\\n6 4 1 10\\n2 3 5 4\\n6 6 3 7\\n8 2 5 8', '55': '5\\n2 3 1 2\\n9 8 1 10\\n2 1 6 4\\n6 4 3 4\\n12 2 3 8', '10': '5\\n2 3 1 5\\n6 4 2 10\\n2 3 4 4\\n6 4 3 7\\n8 10 5 8', '21': '5\\n2 3 1 5\\n6 7 1 10\\n2 3 4 4\\n6 12 3 7\\n8 10 6 14', '73': '5\\n0 5 1 5\\n8 4 4 3\\n1 5 6 4\\n8 4 3 1\\n12 2 5 0', '53': '5\\n2 3 1 5\\n6 4 4 10\\n2 3 4 4\\n6 3 3 7\\n8 7 5 8', '80': '5\\n2 3 1 5\\n6 7 1 10\\n2 3 1 4\\n6 12 2 10\\n8 10 10 14', '24': '5\\n0 5 1 5\\n6 4 2 2\\n2 5 6 4\\n6 4 3 1\\n12 2 5 0', '57': '5\\n0 6 1 5\\n8 4 4 2\\n2 5 6 4\\n6 4 3 1\\n12 2 5 8', '100': '5\\n2 3 1 5\\n6 4 1 10\\n2 3 4 4\\n6 4 3 7\\n8 10 5 8', '18': '5\\n2 3 1 5\\n9 8 1 10\\n2 1 6 4\\n6 4 3 7\\n12 2 5 8', '49': '5\\n2 3 1 2\\n9 4 1 7\\n2 3 6 4\\n6 4 3 7\\n12 2 5 8', '89': '5\\n1 6 2 7\\n9 7 1 1\\n1 2 6 4\\n6 4 3 7\\n12 2 9 8', '20': '5\\n0 6 1 5\\n6 4 2 2\\n2 3 6 4\\n6 4 3 2\\n12 2 5 8', '3': '5\\n2 3 1 5\\n6 4 1 10\\n2 3 6 4\\n6 4 3 7\\n8 2 5 8', '38': '5\\n2 3 1 5\\n6 7 1 10\\n2 3 1 4\\n6 12 3 7\\n8 10 6 14', '27': '5\\n3 3 1 5\\n6 4 1 10\\n2 3 4 4\\n6 4 3 7\\n8 2 5 8', '34': '5\\n1 6 1 7\\n9 4 1 2\\n1 3 6 4\\n6 4 3 7\\n12 2 5 8', '2': '5\\n2 3 1 5\\n6 4 1 10\\n2 3 4 4\\n6 7 3 7\\n8 10 5 14'}\n",
      "p03036: {'12': '1 1 30', '52': '3 -4 -1', '28': '11 -2 -1', '84': '-1 -1 4', '26': '-1 2 38', '50': '10 -4 -1', '11': '8 3 -1', '44': '6 -3 1', '30': '-1 0 3', '23': '11 1 -1', '62': '1 1 1', '13': '8 3 0', '74': '4 0 -7', '65': '-1 0 1', '63': '2 -2 -1', '93': '1 0 2', '40': '-2 1 17', '61': '2 0 1', '79': '4 0 2', '36': '-2 0 9', '41': '5 -2 1', '92': '2 4 -4', '90': '-1 0 4', '8': '1 1 57', '71': '4 0 -3', '46': '6 -2 2', '7': '8 10 -1', '25': '11 0 -1', '69': '4 0 -2', '60': '1 -2 1', '77': '2 0 2', '56': '2 -4 0', '4': '1 10 32', '98': '2 1 0', '31': '28 -2 -1', '35': '6 -2 -2', '96': '1 1 -1', '47': '0 -1 0', '17': '2 1 40', '32': '-2 0 3', '6': '1 1 32', '83': '2 1 -10', '15': '8 0 0', '58': '2 -2 1', '67': '4 0 -1', '51': '1 -2 0', '48': '6 -4 -1', '81': '3 1 -8', '70': '-2 -1 1', '19': '0 1 40', '14': '1 1 36', '1': '8 40 60', '86': '-1 -1 2', '95': '1 8 -4', '59': '2 -1 2', '99': '1 9 -2', '42': '-2 1 20', '39': '6 -2 1', '68': '-1 -1 1', '64': '2 0 -1', '66': '2 1 -1', '9': '8 2 -1', '88': '-1 0 2', '102': '4 40 60', '0': '0 10 20', '45': '6 -3 2', '43': '5 -3 1', '76': '2 0 -7', '72': '4 0 -5', '85': '2 2 -10', '91': '2 4 -2', '5': '8 10 0', '22': '-1 1 47', '94': '1 4 -4', '75': '2 -2 2', '87': '2 2 -1', '101': '2 10 20', '54': '2 -4 -1', '37': '6 -2 0', '78': '2 1 -7', '29': '17 -2 -1', '82': '3 1 -10', '16': '2 1 36', '97': '1 8 -2', '33': '6 -2 -1', '55': '2 -1 0', '10': '1 1 79', '21': '10 1 -1', '73': '1 -1 1', '53': '1 -1 -1', '80': '2 1 -8', '24': '-1 1 38', '57': '2 -1 1', '100': '2 10 20', '18': '13 0 -1', '49': '1 -1 0', '89': '2 4 -1', '20': '13 1 -1', '3': '8 40 0', '38': '-2 1 9', '27': '11 -1 -1', '34': '-2 0 5', '2': '1 10 20'}\n",
      "p02277: {'12': '6\\nD 5\\nH 2\\nC 0\\nS 3\\nC 2\\nC 1', '52': '6\\nD 3\\nH 4\\nD 1\\nS 3\\nD 2\\nC 2', '28': '6\\nD 3\\nH 1\\nC 3\\nS 4\\nC 3\\nC 2', '84': '2\\nS 2\\nH 2', '26': '6\\nD 3\\nH 1\\nC 3\\nS 4\\nC 3\\nC 1', '50': '6\\nD 4\\nH 2\\nD 0\\nS 3\\nC 2\\nC 1', '11': '6\\nD 5\\nH 3\\nC 2\\nS 3\\nC 2\\nC 2', '44': '6\\nD 2\\nH 5\\nC 3\\nS 3\\nC 2\\nC 3', '30': '6\\nD 3\\nH 1\\nC 2\\nS 4\\nC 2\\nC 2', '23': '6\\nD 2\\nH 5\\nC 3\\nS 3\\nC 2\\nC 2', '62': '6\\nD 3\\nH 2\\nD 2\\nS 1\\nC 2\\nC 0', '13': '6\\nD 5\\nH 0\\nC 2\\nS 4\\nC 2\\nC 1', '74': '6\\nD 5\\nH 3\\nD 0\\nS 6\\nC 2\\nC -1', '65': '6\\nD 5\\nH 3\\nC 0\\nS 6\\nC 2\\nC 0', '63': '6\\nD 3\\nH 4\\nD 1\\nS 3\\nD 2\\nC 4', '93': '6\\nD 3\\nH 2\\nC 0\\nS 3\\nD 1\\nC 1', '40': '6\\nD 2\\nH 5\\nC 2\\nS 3\\nC 2\\nC 3', '61': '6\\nD 3\\nH 1\\nC 4\\nS 4\\nC 2\\nD 1', '79': '6\\nD 3\\nH 2\\nC 0\\nS 3\\nC 2\\nC 1', '36': '6\\nD 3\\nH 0\\nD 1\\nS 3\\nC 2\\nC 2', '41': '6\\nD 8\\nH 2\\nC 0\\nS 3\\nC 1\\nC 1', '92': '6\\nD 3\\nH 0\\nD 1\\nS 4\\nD 4\\nC 1', '90': '6\\nD 2\\nH 3\\nC 4\\nS 3\\nC 2\\nC 2', '8': '6\\nD 3\\nH 0\\nD 1\\nS 3\\nC 2\\nC 1', '71': '6\\nD 5\\nH 3\\nC 0\\nS 6\\nC 2\\nC -1', '46': '6\\nD 2\\nH 5\\nC 1\\nS 3\\nC 2\\nC 2', '7': '6\\nD 3\\nH 2\\nD 1\\nS 3\\nD 2\\nC 0', '25': '6\\nD 1\\nH 5\\nC 3\\nS 3\\nC 2\\nC 2', '69': '6\\nD 3\\nH 2\\nD 2\\nS 2\\nC 2\\nC 0', '60': '6\\nD 3\\nH 1\\nC 3\\nS 2\\nC 2\\nC 2', '77': '6\\nD 8\\nH 2\\nD 4\\nS 2\\nC 2\\nC 0', '56': '6\\nD 3\\nH 0\\nC 4\\nS 8\\nC 2\\nC 1', '4': '6\\nD 5\\nH 2\\nC 2\\nS 3\\nC 2\\nC 2', '98': '6\\nD 0\\nH 5\\nC 3\\nS 3\\nC 2\\nD 2', '31': '2\\nS 0\\nH 1', '35': '6\\nD 3\\nH 2\\nD 0\\nS 3\\nD 2\\nC 0', '96': '6\\nD 3\\nH 1\\nC 2\\nS 4\\nC 4\\nC 1', '47': '6\\nD 3\\nH 1\\nC 5\\nS 4\\nC 3\\nC 1', '17': '6\\nD 5\\nH 2\\nC 0\\nS 3\\nC 1\\nC 1', '32': '6\\nD 3\\nH 2\\nD 1\\nS 3\\nD 2\\nC 2', '6': '2\\nS 1\\nH 2', '83': '6\\nD 5\\nH 0\\nC 1\\nS 3\\nC 2\\nC 1', '15': '6\\nD 1\\nH 2\\nC 0\\nS 3\\nC 2\\nC 2', '58': '6\\nC 3\\nH 1\\nC 4\\nS 4\\nC 3\\nC 1', '67': '6\\nD 3\\nH 0\\nD 4\\nS 8\\nC 2\\nC 1', '51': '6\\nD 3\\nH 2\\nD 2\\nS 3\\nC 2\\nC 0', '48': '6\\nD 3\\nH 1\\nC 3\\nS 1\\nC 2\\nC 2', '81': '6\\nD 0\\nH 2\\nC 1\\nS 3\\nC 2\\nC 2', '70': '6\\nD 5\\nH -1\\nC 0\\nS 7\\nC 2\\nC 2', '19': '6\\nD 3\\nH 0\\nD 1\\nS 4\\nC 4\\nC 1', '14': '6\\nD 3\\nH 0\\nD 1\\nS 4\\nC 2\\nC 1', '1': '6\\nD 3\\nH 2\\nD 1\\nS 3\\nC 2\\nC 2', '86': '6\\nD 3\\nH 0\\nC 1\\nS 3\\nC 2\\nC 2', '95': '6\\nD 2\\nH 5\\nC 6\\nS 3\\nC 2\\nC 2', '59': '6\\nD 2\\nH 2\\nC 1\\nS 3\\nC 2\\nC 2', '99': '6\\nD 3\\nH 1\\nC 3\\nS 4\\nC 5\\nC 2', '42': '6\\nD 3\\nH 0\\nC 4\\nS 4\\nC 2\\nC 1', '39': '6\\nD 5\\nH 3\\nC 0\\nS 3\\nC 2\\nC 1', '68': '6\\nD 2\\nH 2\\nC 1\\nS 5\\nC 2\\nC 2', '64': '6\\nD 5\\nH -1\\nC 0\\nS 5\\nC 2\\nC 2', '66': '6\\nD 8\\nH 2\\nC 0\\nS 1\\nC 1\\nC 2', '9': '6\\nD 3\\nH 3\\nD 1\\nS 3\\nC 2\\nC 2', '88': '6\\nD 5\\nH 3\\nC 2\\nS 3\\nC 2\\nC 4', '102': '6\\nD 3\\nH 2\\nD 1\\nS 3\\nD 2\\nC 1', '0': '6\\nD 3\\nH 2\\nD 1\\nS 3\\nC 2\\nC 1', '45': '6\\nC 3\\nH 1\\nC 2\\nS 4\\nC 3\\nC 1', '43': '6\\nD 3\\nH 0\\nD 1\\nS 4\\nC 8\\nC 1', '76': '6\\nD 8\\nH 2\\nD 2\\nS 2\\nC 2\\nC 0', '72': '6\\nC 3\\nH 0\\nD 4\\nS 8\\nC 2\\nC 1', '85': '6\\nD 3\\nH 4\\nD 1\\nS 3\\nD 2\\nC 0', '91': '6\\nD 5\\nH 2\\nC -1\\nS 3\\nC 1\\nC 1', '5': '6\\nD 5\\nH 0\\nC 2\\nS 3\\nC 2\\nC 1', '22': '6\\nD 3\\nH 1\\nC 2\\nS 4\\nC 2\\nC 1', '94': '6\\nD 3\\nH 1\\nD 2\\nS 4\\nC 2\\nC 1', '75': '6\\nC 3\\nH 0\\nD 2\\nS 8\\nC 2\\nC 1', '87': '6\\nD 5\\nH 1\\nC 0\\nS 3\\nC 2\\nC 2', '101': '6\\nD 3\\nH 2\\nD 1\\nS 3\\nD 2\\nC 1', '54': '6\\nD 5\\nH 3\\nC 0\\nS 6\\nC 2\\nC 1', '37': '6\\nD 3\\nH 4\\nD 1\\nS 3\\nC 2\\nC 2', '78': '6\\nD 3\\nH 2\\nD 1\\nS 2\\nD 2\\nC 1', '29': '6\\nD 3\\nH 1\\nC 3\\nS 4\\nC 2\\nC 2', '82': '6\\nD 7\\nH 2\\nC 2\\nS 3\\nC 2\\nC 2', '16': '6\\nD 2\\nH 3\\nC 2\\nS 3\\nC 2\\nC 2', '97': '6\\nD 1\\nH 5\\nC 3\\nS 3\\nC 2\\nC 1', '33': '6\\nD 3\\nH 2\\nD 0\\nS 3\\nC 2\\nC 1', '55': '6\\nD 8\\nH 2\\nC 0\\nS 3\\nC 1\\nC 2', '10': '6\\nD 5\\nH 2\\nC 0\\nS 3\\nC 2\\nC 2', '21': '6\\nD 3\\nH 2\\nC 0\\nS 3\\nC 1\\nC 1', '73': '6\\nD 5\\nH 2\\nD 2\\nS 2\\nC 2\\nC 0', '53': '6\\nD 5\\nH 0\\nC 0\\nS 5\\nC 2\\nC 2', '80': '6\\nD 3\\nH 2\\nC 1\\nS 3\\nC 0\\nC 2', '24': '6\\nD 3\\nH 1\\nC 2\\nS 4\\nC 3\\nC 1', '57': '6\\nD 6\\nH 0\\nD 1\\nS 4\\nC 8\\nC 1', '100': '2\\nS 1\\nH 1', '18': '6\\nD 3\\nH 0\\nC 2\\nS 4\\nC 2\\nC 1', '49': '6\\nD 3\\nH 1\\nC 4\\nS 4\\nC 2\\nC 1', '89': '6\\nD 2\\nH 2\\nC 0\\nS 3\\nC 2\\nC 2', '20': '6\\nD 2\\nH 5\\nC 2\\nS 3\\nC 2\\nC 2', '3': '6\\nD 5\\nH 2\\nC 1\\nS 3\\nC 2\\nC 2', '38': '6\\nD 5\\nH 2\\nC 0\\nS 5\\nC 2\\nC 2', '27': '6\\nD 0\\nH 5\\nC 3\\nS 3\\nC 2\\nC 2', '34': '6\\nD 3\\nH 2\\nD 1\\nS 3\\nC 2\\nC 0', '2': '6\\nD 3\\nH 2\\nC 1\\nS 3\\nC 2\\nC 2'}\n",
      "p03935: {'12': '16 31', '52': '19 31', '28': '63 7', '84': '3 5', '26': '63 2', '50': '32 46', '11': '3 9', '44': '6 38', '30': '118 8', '23': '70 123', '62': '65 123', '13': '4 9', '74': '19 17', '65': '106 7', '63': '70 3', '93': '87 178', '40': '4 14', '61': '46 178', '79': '4 4', '36': '101 2', '41': '12 17', '92': '42 116', '90': '28 80', '8': '16 29', '71': '101 6', '46': '1 25', '7': '12 0', '25': '121 2', '69': '137 5', '60': '42 89', '77': '6 66', '56': '6 10', '4': '12 1', '98': '159 6', '31': '118 5', '35': '101 7', '96': '3 8', '47': '2 4', '17': '4 10', '32': '112 5', '6': '2 7', '83': '13 46', '15': '4 18', '58': '2 10', '67': '118 12', '51': '3 12', '48': '5 29', '81': '5 53', '70': '110 5', '19': '1 10', '103': '12 20', '14': '27 31', '1': '12 2', '86': '27 33', '95': '217 3', '59': '42 140', '99': '57 12', '42': '16 26', '39': '001 3', '68': '236 5', '64': '217 2', '66': '159 7', '9': '2 9', '88': '10 45', '102': '16 30', '0': '6 7', '45': '1 4', '43': '14 2', '76': '23 2', '72': '100 5', '85': '19 11', '91': '42 148', '5': '16 25', '22': '46 123', '94': '46 189', '75': '7 26', '87': '8 12', '101': '4 7', '54': '8 18', '37': '101 3', '78': '1 23', '29': '118 7', '82': '4 12', '16': '27 51', '97': '62 7', '33': '111 5', '55': '10 51', '10': '16 46', '21': '42 123', '73': '4 5', '53': '27 40', '80': '22 2', '24': '70 2', '57': '28 51', '100': '4 7', '18': '27 102', '49': '2 12', '89': '6 11', '20': '42 102', '3': '1 7', '38': '001 5', '27': '63 4', '34': '101 5', '2': '16 38'}\n",
      "p03466: {'12': 'BABAB\\nAABAABAABA\\n\\n\\nAAAB', '52': 'BBBBB\\nAA\\n\\n\\nABAAA', '28': 'BABAB\\nAABAABAABB\\nA\\nBABAB\\nABBBABBBAB', '84': 'BABAB\\nABAABAABB\\nA\\n\\nABAABAABAB', '26': 'BABAB\\nAABAABAABB\\nA\\nBAABA\\nABBBABBBAB', '50': 'BBABBAB\\nAABAABAABA\\n\\nBAABA\\nBAA', '11': 'BABAB\\nBABABABABA\\nA\\nBABAB\\nABABBABBAB', '44': 'BBBBB\\nAB', '30': 'BBABBAB\\nAABAABAABA\\n\\nBAABA\\nBAAA', '23': 'BBBAB\\nBB\\n\\nBAABA\\nAAAB', '62': 'ABABA\\nAABAABAABA\\nB\\nBAABA\\nAAAB', '13': 'BBABB\\nAA\\n\\nBAABA\\nAAAB', '74': 'ABABA\\nAABAABAABA\\nB\\nBAABA', '65': 'BBBAB\\nAA\\n\\nBAABA\\nAAAB', '63': 'BABAB\\nAABAABAABB\\nA\\n\\nABAABAABAB', '93': 'ABABA\\nAAAABAAAAB\\nB\\nBAABA', '40': 'BBBBB\\nA\\n\\n\\nAAAA', '61': 'BB\\nA', '79': 'ABAB\\nABABABABAB\\n\\nBAABA\\nAAAAAAAA', '36': 'BABAB\\nABABABABAB\\n\\nBAABA\\nAAAABAAA', '41': 'BBBAB\\nBB\\n\\nBAAB\\nAAAB', '92': 'BBBAB\\nBB\\n\\nAABAABAA\\nABA', '90': 'BBBBB\\nBA', '8': 'BBBAB\\nAA\\n\\nBAABA\\nBAAA', '71': 'BBBBB\\n\\n\\n\\nAAAA', '46': 'ABABA\\nAABAABAABB\\nB\\nBAABA\\nAAAB', '7': 'BBABB\\nAA\\n\\nBAABA\\nBAAA', '25': 'BBBB\\nA', '69': 'BABAB\\nBABABABABA\\nBABA\\nBABBABBA\\nABBAB', '60': 'BBBBB\\nAAB', '77': 'BBBAB\\nAA\\n\\nAABAABA\\nAAAB', '56': 'BBBA\\nBB\\n\\nBAABA\\nBAAA', '4': 'BABAB\\nAABAABAABA\\n\\nBAABA\\nAAAB', '98': 'BBBBB\\n\\n\\nA\\nAAAABA', '31': 'BBABB\\nAA\\n\\nBAABA', '35': 'BBBBB\\nAA\\n\\n\\nAAABAAA', '96': 'BABA\\nAABAABA\\nA\\nABAAA\\nBAAA', '47': 'BABAB\\nAABAABAABB\\nA\\nBABAB\\nABAABAABAB', '17': 'BABAB\\nBABABABABA\\nA\\nBABAB\\nBABBABBAB', '32': 'BBBAB\\nAA\\n\\nBAABA\\nBAAAAB', '6': 'BBABB\\nAABAABAABA\\n\\nBAABA\\nBAAA', '83': 'ABABA\\nAAABAAABAA\\nB\\nBAABA', '15': 'BBBBB\\nAA\\n\\n\\nBAAA', '58': 'BBBAB\\nBB\\n\\nBAABA\\nAAA', '67': 'BABAB\\nABABABABAB\\n\\nBAABA\\nAAAAAAAA', '51': 'BBABB\\nAA\\n\\nBAABA\\nBAAAAB', '48': 'BABAB\\nAABAABBABB\\n\\nBAABA\\nAAAB', '81': 'BBBAB\\nBB\\n\\nAABAABA\\nAAA', '70': 'BA\\nABABABABAB\\n\\nBA', '19': 'BBBAB\\nBB\\n\\nBAABA\\nBAAA', '14': 'BBBAB\\nAB\\n\\nBAABA\\nBAAA', '1': 'BABAB\\nAABAABAABB\\nA\\nBAABA\\nAAAB', '86': 'BBBABBB\\nA\\n\\nBAABA', '95': 'BBBBB\\n\\n\\nA\\nAAAA', '59': 'BBBBB\\n\\n\\n\\nABAA', '99': 'BBBBB\\n\\n\\nA\\nABAAAA', '42': 'BBBBB\\nA\\n\\n\\nABAA', '39': 'BA\\nABABABABAB\\n\\nBAABA\\nAABAAA', '68': 'BBBBB\\nBB\\n\\nBAABA\\nAAAA', '64': 'BABB\\nAA\\n\\nBAABA\\nBAAAAB', '66': 'BABAB\\nAABAABB\\nB\\nBAABA\\nABAB', '9': 'BBBBB\\nAA\\n\\nBAABA\\nBAAA', '88': 'BABB\\nAA\\n\\nABABA\\nAAAABAAA', '0': 'BABAB\\nAABAABAABB\\nA\\nBAABA\\nABABBABBAB', '45': 'BABAB\\nAABAABAABB\\nBABA\\nBAABA\\nABBBABBBAB', '43': 'BBBBB\\nAA', '76': 'BABB\\nAA\\n\\nBAABA\\nAABAAA', '72': 'BBBAB\\nBB\\n\\nBAAB\\nBAAA', '85': 'BABB\\nAA\\n\\nBAABA\\nAAAABAAA', '91': 'ABABABABAB\\n\\nBA', '5': 'BABAB\\nAABAABAABA\\n\\nBAABA\\nBAAA', '22': 'BABAB\\nABABABABAB\\n\\nBAABA\\nAABAAA', '94': 'BABA\\nAABAABA\\nA\\nBAABA\\nBAAA', '75': 'BA\\nAABAABA\\nA\\nBAABA\\nBAAA', '87': 'BBBAB\\nBB\\n\\nAABAABA\\nABA', '54': 'BABAB\\nBABABABABA\\nBABA\\nBABBA\\nABBAB', '101': 'BABAB\\nAABAABAABB\\nA\\nBAABA\\nABAB', '37': 'BBBBB\\nBB\\n\\nBAABA\\nBAAA', '78': 'BBBABBB\\nA\\n\\nBAABA\\nBAAA', '29': 'BABAB\\nAABAABA\\n\\nBAABA\\nBAAA', '82': 'BBB\\nA', '16': 'BABAB\\nAABAABAABB\\n\\nBAABA\\nABAA', '97': 'BBBA\\nAA\\n\\nABABA\\nAAAABAAA', '33': 'BABAB\\nAABAABAABB\\n\\nABABA\\nAAAB', '55': 'BA\\nABABABABAB\\n\\nBA\\nAABAAA', '10': 'BABAB\\nABAABAABB\\nA\\nBAABA\\nABAB', '21': 'BABAB\\nBABABABABA\\nA\\nBABBA\\nBABBABBAB', '73': 'BBBBB', '53': 'BABAB\\nAABAABB\\nA\\nBAABA\\nABAB', '80': 'BABAB\\nBABABABABA\\nBABA\\nBBABBABBA\\nABBAB', '24': 'BBBBB\\nA', '57': 'BBBBB\\n\\n\\n\\nBAAA', '100': 'BABAB\\nAABAABAABB\\nA\\nBAABA\\nABAB', '18': 'BABAB\\nABABABABAB\\n\\nBAABA\\nBAAA', '49': 'BA\\nAABAABA\\n\\nBAABA\\nBAAA', '89': 'BBABBB\\nA\\n\\nBAABA', '20': 'BBBBB\\nA\\n\\n\\nBAAA', '3': 'BABAB\\nAABAABAABB\\n\\nBAABA\\nAAAB', '38': 'BABAB\\nBABABABABA\\nBABA\\nBABBA\\nBABBABBAB', '27': 'ABABA\\nAABAABAABB\\nA\\nBAABA\\nAAAB', '34': 'BBBABBB\\nAA\\n\\nBAABA\\nBAAA', '2': 'BABAB\\nAABAABAABB\\nA\\nBABAB\\nABABBABBAB'}\n",
      "p03036: {'12': '29\\n28\\n27\\n26\\n25\\n24\\n23\\n22\\n21\\n20', '52': '1\\n7\\n25\\n79\\n241\\n727\\n2185\\n6559\\n19681\\n59047', '28': '-9\\n-97\\n-1065\\n-11713\\n-128841\\n-1417249\\n-15589737\\n-171487105\\n-1886358153\\n-20749939681', '84': '-3\\n4\\n-3\\n4\\n-3\\n4\\n-3\\n4\\n-3\\n4', '26': '-40\\n38\\n-40\\n38\\n-40\\n38\\n-40\\n38\\n-40\\n38', '50': '-6\\n-56\\n-556\\n-5556\\n-55556\\n-555556\\n-5555556\\n-55555556\\n-555555556\\n-5555555556', '11': '-11\\n-91\\n-731\\n-5851\\n-46811\\n-374491\\n-2995931\\n-23967451\\n-191739611\\n-1533916891', '44': '9\\n57\\n345\\n2073\\n12441\\n74649\\n447897\\n2687385\\n16124313\\n96745881', '30': '-3\\n3\\n-3\\n3\\n-3\\n3\\n-3\\n3\\n-3\\n3', '23': '-12\\n-133\\n-1464\\n-16105\\n-177156\\n-1948717\\n-21435888\\n-235794769\\n-2593742460\\n-28531167061', '62': '0\\n-1\\n-2\\n-3\\n-4\\n-5\\n-6\\n-7\\n-8\\n-9', '13': '-3\\n-27\\n-219\\n-1755\\n-14043\\n-112347\\n-898779\\n-7190235\\n-57521883\\n-460175067', '74': '-28\\n-112\\n-448\\n-1792\\n-7168\\n-28672\\n-114688\\n-458752\\n-1835008\\n-7340032', '65': '-1\\n1\\n-1\\n1\\n-1\\n1\\n-1\\n1\\n-1\\n1', '63': '0\\n2\\n6\\n14\\n30\\n62\\n126\\n254\\n510\\n1022', '93': '2\\n2\\n2\\n2\\n2\\n2\\n2\\n2\\n2\\n2', '40': '-35\\n69\\n-139\\n277\\n-555\\n1109\\n-2219\\n4437\\n-8875\\n17749', '61': '2\\n4\\n8\\n16\\n32\\n64\\n128\\n256\\n512\\n1024', '79': '8\\n32\\n128\\n512\\n2048\\n8192\\n32768\\n131072\\n524288\\n2097152', '36': '-18\\n36\\n-72\\n144\\n-288\\n576\\n-1152\\n2304\\n-4608\\n9216', '41': '7\\n37\\n187\\n937\\n4687\\n23437\\n117187\\n585937\\n2929687\\n14648437', '92': '-12\\n-28\\n-60\\n-124\\n-252\\n-508\\n-1020\\n-2044\\n-4092\\n-8188', '90': '-4\\n4\\n-4\\n4\\n-4\\n4\\n-4\\n4\\n-4\\n4', '8': '56\\n55\\n54\\n53\\n52\\n51\\n50\\n49\\n48\\n47', '71': '-12\\n-48\\n-192\\n-768\\n-3072\\n-12288\\n-49152\\n-196608\\n-786432\\n-3145728', '46': '14\\n86\\n518\\n3110\\n18662\\n111974\\n671846\\n4031078\\n24186470\\n145118822', '7': '-18\\n-154\\n-1242\\n-9946\\n-79578\\n-636634\\n-5093082\\n-40744666\\n-325957338\\n-2607658714', '25': '-11\\n-121\\n-1331\\n-14641\\n-161051\\n-1771561\\n-19487171\\n-214358881\\n-2357947691\\n-25937424601', '69': '-8\\n-32\\n-128\\n-512\\n-2048\\n-8192\\n-32768\\n-131072\\n-524288\\n-2097152', '60': '3\\n5\\n7\\n9\\n11\\n13\\n15\\n17\\n19\\n21', '77': '4\\n8\\n16\\n32\\n64\\n128\\n256\\n512\\n1024\\n2048', '56': '4\\n12\\n28\\n60\\n124\\n252\\n508\\n1020\\n2044\\n4092', '4': '22\\n12\\n2\\n-8\\n-18\\n-28\\n-38\\n-48\\n-58\\n-68', '98': '-1\\n-3\\n-7\\n-15\\n-31\\n-63\\n-127\\n-255\\n-511\\n-1023', '31': '-26\\n-726\\n-20326\\n-569126\\n-15935526\\n-446194726\\n-12493452326\\n-349816665126\\n-9794866623526\\n-274256265458726', '35': '-10\\n-58\\n-346\\n-2074\\n-12442\\n-74650\\n-447898\\n-2687386\\n-16124314\\n-96745882', '96': '-2\\n-3\\n-4\\n-5\\n-6\\n-7\\n-8\\n-9\\n-10\\n-11', '47': '1\\n1\\n1\\n1\\n1\\n1\\n1\\n1\\n1\\n1', '17': '79\\n157\\n313\\n625\\n1249\\n2497\\n4993\\n9985\\n19969\\n39937', '32': '-6\\n12\\n-24\\n48\\n-96\\n192\\n-384\\n768\\n-1536\\n3072', '6': '31\\n30\\n29\\n28\\n27\\n26\\n25\\n24\\n23\\n22', '83': '-21\\n-43\\n-87\\n-175\\n-351\\n-703\\n-1407\\n-2815\\n-5631\\n-11263', '15': '0\\n0\\n0\\n0\\n0\\n0\\n0\\n0\\n0\\n0', '58': '4\\n10\\n22\\n46\\n94\\n190\\n382\\n766\\n1534\\n3070', '67': '-4\\n-16\\n-64\\n-256\\n-1024\\n-4096\\n-16384\\n-65536\\n-262144\\n-1048576', '51': '2\\n4\\n6\\n8\\n10\\n12\\n14\\n16\\n18\\n20', '48': '-2\\n-8\\n-44\\n-260\\n-1556\\n-9332\\n-55988\\n-335924\\n-2015540\\n-12093236', '81': '-25\\n-76\\n-229\\n-688\\n-2065\\n-6196\\n-18589\\n-55768\\n-167305\\n-501916', '70': '-1\\n3\\n-5\\n11\\n-21\\n43\\n-85\\n171\\n-341\\n683', '19': '-1\\n-1\\n-1\\n-1\\n-1\\n-1\\n-1\\n-1\\n-1\\n-1', '14': '35\\n34\\n33\\n32\\n31\\n30\\n29\\n28\\n27\\n26', '1': '440\\n3480\\n27800\\n222360\\n1778840\\n14230680\\n113845400\\n910763160\\n7286105240\\n58288841880', '86': '-1\\n2\\n-1\\n2\\n-1\\n2\\n-1\\n2\\n-1\\n2', '95': '-12\\n-20\\n-28\\n-36\\n-44\\n-52\\n-60\\n-68\\n-76\\n-84', '59': '5\\n11\\n23\\n47\\n95\\n191\\n383\\n767\\n1535\\n3071', '99': '-11\\n-20\\n-29\\n-38\\n-47\\n-56\\n-65\\n-74\\n-83\\n-92', '42': '-41\\n81\\n-163\\n325\\n-651\\n1301\\n-2603\\n5205\\n-10411\\n20821', '39': '8\\n50\\n302\\n1814\\n10886\\n65318\\n391910\\n2351462\\n14108774\\n84652646', '68': '0\\n1\\n0\\n1\\n0\\n1\\n0\\n1\\n0\\n1', '64': '-2\\n-4\\n-8\\n-16\\n-32\\n-64\\n-128\\n-256\\n-512\\n-1024', '66': '-3\\n-7\\n-15\\n-31\\n-63\\n-127\\n-255\\n-511\\n-1023\\n-2047', '9': '-10\\n-82\\n-658\\n-5266\\n-42130\\n-337042\\n-2696338\\n-21570706\\n-172565650\\n-1380525202', '88': '-2\\n2\\n-2\\n2\\n-2\\n2\\n-2\\n2\\n-2\\n2', '102': '200\\n760\\n3000\\n11960\\n47800\\n191160\\n764600\\n3058360\\n12233400\\n48933560', '0': '-10\\n-10\\n-10\\n-10\\n-10\\n-10\\n-10\\n-10\\n-10\\n-10', '45': '15\\n93\\n561\\n3369\\n20217\\n121305\\n727833\\n4367001\\n26202009\\n157212057', '43': '8\\n43\\n218\\n1093\\n5468\\n27343\\n136718\\n683593\\n3417968\\n17089843', '76': '-14\\n-28\\n-56\\n-112\\n-224\\n-448\\n-896\\n-1792\\n-3584\\n-7168', '72': '-20\\n-80\\n-320\\n-1280\\n-5120\\n-20480\\n-81920\\n-327680\\n-1310720\\n-5242880', '85': '-22\\n-46\\n-94\\n-190\\n-382\\n-766\\n-1534\\n-3070\\n-6142\\n-12286', '91': '-8\\n-20\\n-44\\n-92\\n-188\\n-380\\n-764\\n-1532\\n-3068\\n-6140', '5': '-10\\n-90\\n-730\\n-5850\\n-46810\\n-374490\\n-2995930\\n-23967450\\n-191739610\\n-1533916890', '22': '-48\\n47\\n-48\\n47\\n-48\\n47\\n-48\\n47\\n-48\\n47', '94': '-8\\n-12\\n-16\\n-20\\n-24\\n-28\\n-32\\n-36\\n-40\\n-44', '75': '6\\n14\\n30\\n62\\n126\\n254\\n510\\n1022\\n2046\\n4094', '87': '-4\\n-10\\n-22\\n-46\\n-94\\n-190\\n-382\\n-766\\n-1534\\n-3070', '101': '30\\n50\\n90\\n170\\n330\\n650\\n1290\\n2570\\n5130\\n10250', '54': '2\\n8\\n20\\n44\\n92\\n188\\n380\\n764\\n1532\\n3068', '37': '2\\n14\\n86\\n518\\n3110\\n18662\\n111974\\n671846\\n4031078\\n24186470', '78': '-15\\n-31\\n-63\\n-127\\n-255\\n-511\\n-1023\\n-2047\\n-4095\\n-8191', '29': '-15\\n-253\\n-4299\\n-73081\\n-1242375\\n-21120373\\n-359046339\\n-6103787761\\n-103764391935\\n-1763994662893', '82': '-31\\n-94\\n-283\\n-850\\n-2551\\n-7654\\n-22963\\n-68890\\n-206671\\n-620014', '16': '71\\n141\\n281\\n561\\n1121\\n2241\\n4481\\n8961\\n17921\\n35841', '97': '-10\\n-18\\n-26\\n-34\\n-42\\n-50\\n-58\\n-66\\n-74\\n-82', '33': '-4\\n-22\\n-130\\n-778\\n-4666\\n-27994\\n-167962\\n-1007770\\n-6046618\\n-36279706', '55': '1\\n3\\n7\\n15\\n31\\n63\\n127\\n255\\n511\\n1023', '10': '78\\n77\\n76\\n75\\n74\\n73\\n72\\n71\\n70\\n69', '21': '-11\\n-111\\n-1111\\n-11111\\n-111111\\n-1111111\\n-11111111\\n-111111111\\n-1111111111\\n-11111111111', '73': '2\\n3\\n4\\n5\\n6\\n7\\n8\\n9\\n10\\n11', '53': '0\\n1\\n2\\n3\\n4\\n5\\n6\\n7\\n8\\n9', '80': '-17\\n-35\\n-71\\n-143\\n-287\\n-575\\n-1151\\n-2303\\n-4607\\n-9215', '24': '-39\\n38\\n-39\\n38\\n-39\\n38\\n-39\\n38\\n-39\\n38', '57': '3\\n7\\n15\\n31\\n63\\n127\\n255\\n511\\n1023\\n2047', '100': '30\\n50\\n90\\n170\\n330\\n650\\n1290\\n2570\\n5130\\n10250', '18': '-13\\n-169\\n-2197\\n-28561\\n-371293\\n-4826809\\n-62748517\\n-815730721\\n-10604499373\\n-137858491849', '49': '1\\n2\\n3\\n4\\n5\\n6\\n7\\n8\\n9\\n10', '89': '-6\\n-16\\n-36\\n-76\\n-156\\n-316\\n-636\\n-1276\\n-2556\\n-5116', '20': '-14\\n-183\\n-2380\\n-30941\\n-402234\\n-5229043\\n-67977560\\n-883708281\\n-11488207654\\n-149346699503', '3': '-40\\n-360\\n-2920\\n-23400\\n-187240\\n-1497960\\n-11983720\\n-95869800\\n-766958440\\n-6135667560', '38': '-19\\n37\\n-75\\n149\\n-299\\n597\\n-1195\\n2389\\n-4779\\n9557', '27': '-10\\n-109\\n-1198\\n-13177\\n-144946\\n-1594405\\n-17538454\\n-192922993\\n-2122152922\\n-23343682141', '34': '-10\\n20\\n-40\\n80\\n-160\\n320\\n-640\\n1280\\n-2560\\n5120', '2': '10\\n0\\n-10\\n-20\\n-30\\n-40\\n-50\\n-60\\n-70\\n-80'}\n",
      "p02277: {'12': 'Not stable\\nC 0\\nC 1\\nC 2\\nH 2\\nS 3\\nD 5', '52': 'Not stable\\nD 1\\nD 2\\nC 2\\nS 3\\nD 3\\nH 4', '28': 'Not stable\\nH 1\\nC 2\\nC 3\\nC 3\\nD 3\\nS 4', '84': 'Stable\\nS 2\\nH 2', '26': 'Not stable\\nH 1\\nC 1\\nC 3\\nC 3\\nD 3\\nS 4', '50': 'Not stable\\nD 0\\nC 1\\nC 2\\nH 2\\nS 3\\nD 4', '11': 'Not stable\\nC 2\\nC 2\\nC 2\\nS 3\\nH 3\\nD 5', '44': 'Not stable\\nD 2\\nC 2\\nS 3\\nC 3\\nC 3\\nH 5', '30': 'Stable\\nH 1\\nC 2\\nC 2\\nC 2\\nD 3\\nS 4', '23': 'Not stable\\nD 2\\nC 2\\nC 2\\nS 3\\nC 3\\nH 5', '62': 'Not stable\\nC 0\\nS 1\\nD 2\\nH 2\\nC 2\\nD 3', '13': 'Stable\\nH 0\\nC 1\\nC 2\\nC 2\\nS 4\\nD 5', '74': 'Stable\\nC -1\\nD 0\\nC 2\\nH 3\\nD 5\\nS 6', '65': 'Stable\\nC 0\\nC 0\\nC 2\\nH 3\\nD 5\\nS 6', '63': 'Stable\\nD 1\\nD 2\\nD 3\\nS 3\\nH 4\\nC 4', '93': 'Not stable\\nC 0\\nD 1\\nC 1\\nH 2\\nS 3\\nD 3', '40': 'Stable\\nD 2\\nC 2\\nC 2\\nS 3\\nC 3\\nH 5', '61': 'Stable\\nH 1\\nD 1\\nC 2\\nD 3\\nC 4\\nS 4', '79': 'Not stable\\nC 0\\nC 1\\nC 2\\nH 2\\nD 3\\nS 3', '36': 'Stable\\nH 0\\nD 1\\nC 2\\nC 2\\nD 3\\nS 3', '41': 'Stable\\nC 0\\nC 1\\nC 1\\nH 2\\nS 3\\nD 8', '92': 'Not stable\\nH 0\\nD 1\\nC 1\\nD 3\\nD 4\\nS 4', '90': 'Not stable\\nD 2\\nC 2\\nC 2\\nS 3\\nH 3\\nC 4', '8': 'Not stable\\nH 0\\nD 1\\nC 1\\nC 2\\nS 3\\nD 3', '71': 'Stable\\nC -1\\nC 0\\nC 2\\nH 3\\nD 5\\nS 6', '46': 'Stable\\nC 1\\nD 2\\nC 2\\nC 2\\nS 3\\nH 5', '7': 'Not stable\\nC 0\\nD 1\\nH 2\\nD 2\\nS 3\\nD 3', '25': 'Not stable\\nD 1\\nC 2\\nC 2\\nS 3\\nC 3\\nH 5', '69': 'Stable\\nC 0\\nH 2\\nD 2\\nS 2\\nC 2\\nD 3', '60': 'Not stable\\nH 1\\nS 2\\nC 2\\nC 2\\nC 3\\nD 3', '77': 'Stable\\nC 0\\nH 2\\nS 2\\nC 2\\nD 4\\nD 8', '56': 'Stable\\nH 0\\nC 1\\nC 2\\nD 3\\nC 4\\nS 8', '4': 'Stable\\nH 2\\nC 2\\nC 2\\nC 2\\nS 3\\nD 5', '98': 'Not stable\\nD 0\\nC 2\\nD 2\\nS 3\\nC 3\\nH 5', '31': 'Stable\\nS 0\\nH 1', '35': 'Not stable\\nD 0\\nC 0\\nD 2\\nH 2\\nD 3\\nS 3', '96': 'Not stable\\nH 1\\nC 1\\nC 2\\nD 3\\nC 4\\nS 4', '47': 'Not stable\\nH 1\\nC 1\\nC 3\\nD 3\\nS 4\\nC 5', '17': 'Stable\\nC 0\\nC 1\\nC 1\\nH 2\\nS 3\\nD 5', '32': 'Stable\\nD 1\\nH 2\\nD 2\\nC 2\\nD 3\\nS 3', '6': 'Stable\\nS 1\\nH 2', '83': 'Stable\\nH 0\\nC 1\\nC 1\\nC 2\\nS 3\\nD 5', '15': 'Stable\\nC 0\\nD 1\\nH 2\\nC 2\\nC 2\\nS 3', '58': 'Stable\\nH 1\\nC 1\\nC 3\\nC 3\\nC 4\\nS 4', '67': 'Stable\\nH 0\\nC 1\\nC 2\\nD 3\\nD 4\\nS 8', '51': 'Not stable\\nC 0\\nH 2\\nD 2\\nC 2\\nS 3\\nD 3', '48': 'Not stable\\nH 1\\nS 1\\nC 2\\nC 2\\nC 3\\nD 3', '81': 'Stable\\nD 0\\nC 1\\nH 2\\nC 2\\nC 2\\nS 3', '70': 'Stable\\nH -1\\nC 0\\nC 2\\nC 2\\nD 5\\nS 7', '19': 'Not stable\\nH 0\\nD 1\\nC 1\\nD 3\\nC 4\\nS 4', '14': 'Stable\\nH 0\\nD 1\\nC 1\\nC 2\\nD 3\\nS 4', '1': 'Stable\\nD 1\\nH 2\\nC 2\\nC 2\\nD 3\\nS 3', '86': 'Stable\\nH 0\\nC 1\\nC 2\\nC 2\\nD 3\\nS 3', '95': 'Stable\\nD 2\\nC 2\\nC 2\\nS 3\\nH 5\\nC 6', '59': 'Not stable\\nC 1\\nH 2\\nD 2\\nC 2\\nC 2\\nS 3', '99': 'Not stable\\nH 1\\nC 2\\nC 3\\nD 3\\nS 4\\nC 5', '42': 'Stable\\nH 0\\nC 1\\nC 2\\nD 3\\nC 4\\nS 4', '39': 'Not stable\\nC 0\\nC 1\\nC 2\\nS 3\\nH 3\\nD 5', '68': 'Not stable\\nC 1\\nH 2\\nD 2\\nC 2\\nC 2\\nS 5', '64': 'Stable\\nH -1\\nC 0\\nC 2\\nC 2\\nD 5\\nS 5', '66': 'Stable\\nC 0\\nS 1\\nC 1\\nH 2\\nC 2\\nD 8', '9': 'Not stable\\nD 1\\nC 2\\nC 2\\nS 3\\nH 3\\nD 3', '88': 'Not stable\\nC 2\\nC 2\\nS 3\\nH 3\\nC 4\\nD 5', '102': 'Not stable\\nD 1\\nC 1\\nD 2\\nH 2\\nD 3\\nS 3', '0': 'Not stable\\nD 1\\nC 1\\nC 2\\nH 2\\nD 3\\nS 3', '45': 'Stable\\nH 1\\nC 1\\nC 2\\nC 3\\nC 3\\nS 4', '43': 'Stable\\nH 0\\nD 1\\nC 1\\nD 3\\nS 4\\nC 8', '76': 'Stable\\nC 0\\nH 2\\nD 2\\nS 2\\nC 2\\nD 8', '72': 'Stable\\nH 0\\nC 1\\nC 2\\nC 3\\nD 4\\nS 8', '85': 'Not stable\\nC 0\\nD 1\\nD 2\\nS 3\\nD 3\\nH 4', '91': 'Stable\\nC -1\\nC 1\\nC 1\\nH 2\\nS 3\\nD 5', '5': 'Stable\\nH 0\\nC 1\\nC 2\\nC 2\\nS 3\\nD 5', '22': 'Stable\\nH 1\\nC 1\\nC 2\\nC 2\\nD 3\\nS 4', '94': 'Stable\\nH 1\\nC 1\\nD 2\\nC 2\\nD 3\\nS 4', '75': 'Stable\\nH 0\\nC 1\\nD 2\\nC 2\\nC 3\\nS 8', '87': 'Stable\\nC 0\\nH 1\\nC 2\\nC 2\\nS 3\\nD 5', '101': 'Not stable\\nD 1\\nC 1\\nD 2\\nH 2\\nD 3\\nS 3', '54': 'Stable\\nC 0\\nC 1\\nC 2\\nH 3\\nD 5\\nS 6', '37': 'Not stable\\nD 1\\nC 2\\nC 2\\nS 3\\nD 3\\nH 4', '78': 'Not stable\\nD 1\\nC 1\\nS 2\\nD 2\\nH 2\\nD 3', '29': 'Stable\\nH 1\\nC 2\\nC 2\\nD 3\\nC 3\\nS 4', '82': 'Stable\\nH 2\\nC 2\\nC 2\\nC 2\\nS 3\\nD 7', '16': 'Stable\\nD 2\\nC 2\\nC 2\\nC 2\\nH 3\\nS 3', '97': 'Not stable\\nD 1\\nC 1\\nC 2\\nS 3\\nC 3\\nH 5', '33': 'Not stable\\nD 0\\nC 1\\nC 2\\nH 2\\nD 3\\nS 3', '55': 'Stable\\nC 0\\nC 1\\nH 2\\nC 2\\nS 3\\nD 8', '10': 'Stable\\nC 0\\nH 2\\nC 2\\nC 2\\nS 3\\nD 5', '21': 'Not stable\\nC 0\\nC 1\\nC 1\\nH 2\\nS 3\\nD 3', '73': 'Stable\\nC 0\\nH 2\\nD 2\\nS 2\\nC 2\\nD 5', '53': 'Stable\\nH 0\\nC 0\\nC 2\\nC 2\\nD 5\\nS 5', '80': 'Stable\\nC 0\\nC 1\\nH 2\\nC 2\\nD 3\\nS 3', '24': 'Not stable\\nH 1\\nC 1\\nC 2\\nC 3\\nD 3\\nS 4', '57': 'Stable\\nH 0\\nD 1\\nC 1\\nS 4\\nD 6\\nC 8', '100': 'Stable\\nS 1\\nH 1', '18': 'Stable\\nH 0\\nC 1\\nC 2\\nC 2\\nD 3\\nS 4', '49': 'Stable\\nH 1\\nC 1\\nC 2\\nD 3\\nC 4\\nS 4', '89': 'Not stable\\nC 0\\nH 2\\nD 2\\nC 2\\nC 2\\nS 3', '20': 'Stable\\nD 2\\nC 2\\nC 2\\nC 2\\nS 3\\nH 5', '3': 'Stable\\nC 1\\nH 2\\nC 2\\nC 2\\nS 3\\nD 5', '38': 'Stable\\nC 0\\nH 2\\nC 2\\nC 2\\nD 5\\nS 5', '27': 'Not stable\\nD 0\\nC 2\\nC 2\\nS 3\\nC 3\\nH 5', '34': 'Not stable\\nC 0\\nD 1\\nH 2\\nC 2\\nS 3\\nD 3', '2': 'Stable\\nC 1\\nH 2\\nC 2\\nC 2\\nD 3\\nS 3'}\n",
      "p03935: {'12': '656835898', '52': '857741519', '28': '110221970', '84': '26', '26': '63', '50': '243159255', '11': '221', '44': '814411873', '30': '623198304', '23': '396400358', '62': '70310907', '13': '530', '74': '304531348', '65': '273533523', '63': '2486', '93': '14457793', '40': '6610', '61': '108507677', '79': '25', '36': '101', '41': '30428254', '92': '454129300', '90': '581183487', '8': '396835115', '71': '96742853', '46': '75025', '7': '0', '25': '121', '69': '15339207', '60': '858419444', '77': '258771290', '56': '4685', '4': '1', '98': '901985273', '31': '8502551', '35': '712445980', '96': '133', '47': '7', '17': '894', '32': '6919782', '6': '33', '83': '979039299', '15': '46135', '58': '143', '67': '677962323', '51': '972', '48': '24151764', '81': '135669311', '70': '6444957', '19': '55', '103': '174174144', '14': '913187911', '1': '12', '86': '389828771', '95': '23654', '59': '918023453', '99': '107563736', '42': '628689768', '39': '2', '68': '132591705', '64': '217', '66': '705739858', '9': '88', '88': '719146023', '102': '102292850', '0': '709', '45': '3', '43': '14', '76': '23', '72': '4426427', '85': '15586342', '91': '141518664', '5': '378000346', '22': '960087486', '94': '727461433', '75': '38839257', '87': '70954', '101': '176', '54': '1914166', '37': '5152', '78': '28657', '29': '265217321', '82': '2462', '16': '171253160', '97': '100518497', '33': '6679205', '55': '908007918', '10': '942083119', '21': '268300608', '73': '51', '53': '748837192', '80': '22', '24': '70', '57': '905338544', '100': '176', '18': '95990504', '49': '376', '89': '8273', '20': '184174004', '3': '13', '38': '5', '27': '43744', '34': '4603380', '2': '764202521'}\n"
     ]
    },
    {
     "name": "stderr",
     "output_type": "stream",
     "text": [
      "\n"
     ]
    }
   ],
   "source": [
    "import re\n",
    "\n",
    "problem_id_to_inputs = {}\n",
    "problem_id_to_outputs = {}\n",
    "\n",
    "\n",
    "for problem_id in tqdm(problem_id_2_text):\n",
    "    tc2input = {}\n",
    "    tc2output = {}\n",
    "    input_files = glob.glob(os.path.join(PATH_TO_TESTCASES, problem_id, \"input.*.txt\"))\n",
    "    # output_files = glob.glob(os.path.join(PATH_TO_TESTCASES, problem_id, \"output.*.txt\"))\n",
    "    if len(input_files) > 0:\n",
    "        input_tc_nos = [re.search(r\"input\\.(\\d+)\\.txt\", f).group(1) for f in input_files]\n",
    "        for input_tc_no in input_tc_nos:\n",
    "            input_tc_path = os.path.join(PATH_TO_TESTCASES, problem_id, f\"input.{input_tc_no}.txt\")\n",
    "            output_tc_path = os.path.join(PATH_TO_TESTCASES, problem_id, f\"output.{input_tc_no}.txt\")\n",
    "            assert os.path.exists(input_tc_path)\n",
    "            assert os.path.exists(output_tc_path), f\"Missing output file for {input_tc_path}\"\n",
    "            with open(input_tc_path, \"r\") as f:\n",
    "                input_tc = f.read().strip()\n",
    "            with open(output_tc_path, \"r\") as f:\n",
    "                output_tc = f.read().strip()\n",
    "            tc2input[input_tc_no] = input_tc\n",
    "            tc2output[input_tc_no] = output_tc\n",
    "    problem_id_to_inputs[problem_id] = tc2input\n",
    "    problem_id_to_outputs[problem_id] = tc2output\n",
    "    \n",
    "print_n_from_dict(problem_id_to_inputs, 2)\n",
    "print_n_from_dict(problem_id_to_outputs, 2)"
   ]
  },
  {
   "cell_type": "code",
   "execution_count": 8,
   "metadata": {},
   "outputs": [
    {
     "name": "stdout",
     "output_type": "stream",
     "text": [
      "Number of valid problem ids: 3898\n"
     ]
    }
   ],
   "source": [
    "def filter_problem_ids(problem_id, problem_id_to_inputs, problem_id_2_text): \n",
    "    if problem_id not in problem_id_to_inputs:\n",
    "        return False\n",
    "    if len(problem_id_to_inputs[problem_id]) == 0:\n",
    "        return False\n",
    "    if len(problem_id_2_text[problem_id]) < 100:\n",
    "        return False\n",
    "    return True\n",
    "\n",
    "\n",
    "valid_problem_ids = [problem_id for problem_id in problem_id_2_text if filter_problem_ids(problem_id, problem_id_to_inputs, problem_id_2_text)]\n",
    "print(f\"Number of valid problem ids: {len(valid_problem_ids)}\")"
   ]
  },
  {
   "cell_type": "code",
   "execution_count": 9,
   "metadata": {},
   "outputs": [
    {
     "name": "stdout",
     "output_type": "stream",
     "text": [
      "Train: 2728\n",
      "Test: 585\n",
      "Val: 585\n"
     ]
    }
   ],
   "source": [
    "# sample train, test and val\n",
    "# train should be ~70-75 pct, test and val is the rest split in half \n",
    "\n",
    "random.seed(42)\n",
    "random.shuffle(valid_problem_ids)\n",
    "n = len(valid_problem_ids)\n",
    "train_n = int(0.7 * n)\n",
    "test_n = (n - train_n) // 2\n",
    "val_n = n - train_n - test_n\n",
    "train_problem_ids = valid_problem_ids[:train_n]\n",
    "test_problem_ids = valid_problem_ids[train_n:train_n+test_n]\n",
    "val_problem_ids = valid_problem_ids[train_n+test_n:]\n",
    "\n",
    "print(f\"Train: {len(train_problem_ids)}\")\n",
    "print(f\"Test: {len(test_problem_ids)}\")\n",
    "print(f\"Val: {len(val_problem_ids)}\")"
   ]
  },
  {
   "cell_type": "code",
   "execution_count": 10,
   "metadata": {},
   "outputs": [
    {
     "name": "stdout",
     "output_type": "stream",
     "text": [
      "Train records: 2728\n",
      "Test records: 585\n",
      "Val records: 585\n",
      "{'description_html': '<span class=\"lang-en\">\\n<p>Score : <var>600</var> points</p>\\n<div class=\"part\">\\n<section>\\n<h3>Problem Statement</h3>\\n<p>Takahashi has <var>N</var> cards. The <var>i</var>-th of these cards has an integer <var>A_i</var> written on it.</p>\\n<p>Takahashi will choose an integer <var>K</var>, and then repeat the following operation some number of times:</p>\\n<ul>\\n<li>Choose exactly <var>K</var> cards such that the integers written on them are all different, and eat those cards. (The eaten cards disappear.)</li>\\n</ul>\\n<p>For each <var>K = 1,2, \\\\ldots, N</var>, find the maximum number of times Takahashi can do the operation.</p>\\n</section>\\n</div>\\n<div class=\"part\">\\n<section>\\n<h3>Constraints</h3>\\n<ul>\\n<li><var> 1 \\\\le N \\\\le 3 \\\\times 10^5 </var></li>\\n<li><var> 1 \\\\le A_i \\\\le N </var></li>\\n<li>All values in input are integers.</li>\\n</ul>\\n</section>\\n</div>\\n<hr/>\\n<div class=\"io-style\">\\n<div class=\"part\">\\n<section>\\n<h3>Input</h3>\\n<p>Input is given from Standard Input in the following format:</p>\\n<pre><var>N</var>\\n<var>A_1</var> <var>A_2</var> <var>\\\\ldots</var> <var>A_N</var>\\n</pre>\\n</section>\\n</div>\\n<div class=\"part\">\\n<section>\\n<h3>Output</h3>\\n<p>Print <var>N</var> integers.\\nThe <var>t</var>-th <var>(1 \\\\le t \\\\le N)</var> of them should be the answer for the case <var>K=t</var>.</p>\\n</section>\\n</div>\\n</div>\\n<hr/>\\n<div class=\"part\">\\n<section>\\n<h3>Sample Input 1</h3><pre>3\\n2 1 2\\n</pre>\\n</section>\\n</div>\\n<div class=\"part\">\\n<section>\\n<h3>Sample Output 1</h3><pre>3\\n1\\n0\\n</pre>\\n<p>For <var>K = 1</var>, we can do the operation as follows:</p>\\n<ul>\\n<li>Choose the first card to eat.</li>\\n<li>Choose the second card to eat.</li>\\n<li>Choose the third card to eat.</li>\\n</ul>\\n<p>For <var>K = 2</var>, we can do the operation as follows:</p>\\n<ul>\\n<li>Choose the first and second cards to eat.</li>\\n</ul>\\n<p>For <var>K = 3</var>, we cannot do the operation at all. Note that we cannot choose the first and third cards at the same time.</p>\\n</section>\\n</div>\\n<hr/>\\n<div class=\"part\">\\n<section>\\n<h3>Sample Input 2</h3><pre>5\\n1 2 3 4 5\\n</pre>\\n</section>\\n</div>\\n<div class=\"part\">\\n<section>\\n<h3>Sample Output 2</h3><pre>5\\n2\\n1\\n1\\n1\\n</pre>\\n</section>\\n</div>\\n<hr/>\\n<div class=\"part\">\\n<section>\\n<h3>Sample Input 3</h3><pre>4\\n1 3 3 3\\n</pre>\\n</section>\\n</div>\\n<div class=\"part\">\\n<section>\\n<h3>Sample Output 3</h3><pre>4\\n1\\n0\\n0\\n</pre></section>\\n</div>\\n</span>', 'description_string': '\\nScore : 600 points\\n\\n\\nProblem Statement\\nTakahashi has N cards. The i-th of these cards has an integer A_i written on it.\\nTakahashi will choose an integer K, and then repeat the following operation some number of times:\\n\\nChoose exactly K cards such that the integers written on them are all different, and eat those cards. (The eaten cards disappear.)\\n\\nFor each K = 1,2, \\\\ldots, N, find the maximum number of times Takahashi can do the operation.\\n\\n\\n\\n\\nConstraints\\n\\n 1 \\\\le N \\\\le 3 \\\\times 10^5 \\n 1 \\\\le A_i \\\\le N \\nAll values in input are integers.\\n\\n\\n\\n\\n\\n\\n\\nInput\\nInput is given from Standard Input in the following format:\\nN\\nA_1 A_2 \\\\ldots A_N\\n\\n\\n\\n\\n\\nOutput\\nPrint N integers.\\nThe t-th (1 \\\\le t \\\\le N) of them should be the answer for the case K=t.\\n\\n\\n\\n\\n\\n\\nSample Input 13\\n2 1 2\\n\\n\\n\\n\\n\\nSample Output 13\\n1\\n0\\n\\nFor K = 1, we can do the operation as follows:\\n\\nChoose the first card to eat.\\nChoose the second card to eat.\\nChoose the third card to eat.\\n\\nFor K = 2, we can do the operation as follows:\\n\\nChoose the first and second cards to eat.\\n\\nFor K = 3, we cannot do the operation at all. Note that we cannot choose the first and third cards at the same time.\\n\\n\\n\\n\\n\\nSample Input 25\\n1 2 3 4 5\\n\\n\\n\\n\\n\\nSample Output 25\\n2\\n1\\n1\\n1\\n\\n\\n\\n\\n\\n\\nSample Input 34\\n1 3 3 3\\n\\n\\n\\n\\n\\nSample Output 34\\n1\\n0\\n0\\n\\n\\n', 'input_testcases': {'12': '4\\n2 3 1 3', '52': '4\\n1 3 4 3', '28': '4\\n2 3 3 3', '84': '4\\n2 2 1 2', '26': '4\\n4 2 4 3', '50': '5\\n2 2 5 3 1', '11': '5\\n5 1 2 3 4', '44': '4\\n4 3 1 3', '30': '4\\n2 1 4 3', '23': '5\\n2 2 5 3 5', '62': '4\\n2 2 4 4', '13': '4\\n1 3 2 3', '74': '4\\n3 3 3 2', '65': '4\\n2 1 4 2', '63': '4\\n4 1 2 2', '93': '4\\n2 1 2 1', '40': '4\\n4 2 2 2', '61': '4\\n4 1 2 1', '79': '4\\n3 4 4 1', '36': '4\\n1 1 4 3', '41': '4\\n4 2 2 1', '92': '4\\n2 1 1 4', '90': '4\\n1 2 2 3', '8': '5\\n4 2 2 4 4', '71': '4\\n3 2 1 4', '46': '4\\n1 2 2 2', '7': '4\\n2 2 2 2', '25': '4\\n3 3 4 1', '69': '4\\n2 2 4 2', '60': '4\\n4 4 2 2', '77': '4\\n3 2 1 3', '56': '5\\n4 2 5 3 4', '4': '5\\n1 2 3 3 5', '98': '4\\n1 4 2 2', '31': '4\\n3 4 1 3', '35': '4\\n2 1 3 3', '96': '4\\n3 4 2 2', '47': '5\\n2 2 4 3 5', '17': '4\\n2 3 3 2', '32': '4\\n1 3 4 2', '6': '4\\n2 3 4 1', '83': '4\\n1 1 2 2', '15': '4\\n2 3 2 3', '58': '4\\n3 1 2 2', '67': '4\\n2 2 1 4', '51': '4\\n4 2 2 3', '48': '4\\n1 1 2 3', '81': '4\\n1 4 1 3', '70': '4\\n3 2 3 2', '19': '4\\n2 3 2 1', '103': '4\\n1 3 3 3', '14': '4\\n1 3 3 1', '1': '4\\n1 3 3 2', '86': '4\\n3 2 1 2', '95': '5\\n4 2 5 4 4', '59': '4\\n1 1 1 4', '99': '5\\n5 2 2 3 4', '42': '4\\n2 3 3 4', '39': '4\\n1 2 1 4', '68': '5\\n4 2 3 3 4', '64': '5\\n4 2 2 3 4', '66': '4\\n3 1 3 2', '9': '3\\n2 2 1', '88': '4\\n3 3 3 4', '102': '3\\n2 1 2', '0': '4\\n1 3 1 3', '45': '4\\n2 3 3 1', '43': '4\\n1 1 1 3', '76': '5\\n1 2 5 3 5', '72': '5\\n4 2 1 3 4', '85': '4\\n1 3 1 1', '91': '4\\n1 2 4 3', '5': '5\\n2 2 3 3 5', '22': '4\\n1 3 1 2', '94': '4\\n2 3 2 4', '75': '4\\n4 3 2 2', '87': '4\\n1 2 1 1', '101': '3\\n2 1 2', '54': '4\\n2 1 2 2', '37': '4\\n1 3 4 1', '78': '5\\n2 2 3 2 5', '29': '4\\n1 1 1 2', '82': '4\\n3 3 3 3', '16': '4\\n2 1 2 3', '97': '4\\n4 1 1 1', '33': '4\\n1 3 1 4', '55': '4\\n1 3 2 4', '10': '5\\n4 4 5 4 4', '21': '4\\n2 2 2 3', '73': '4\\n4 3 3 2', '53': '4\\n2 1 4 4', '80': '4\\n4 2 4 1', '24': '4\\n2 2 4 3', '57': '4\\n1 1 4 2', '100': '5\\n1 2 3 4 5', '18': '4\\n3 3 1 3', '49': '4\\n4 3 4 1', '89': '5\\n4 2 4 3 5', '20': '4\\n1 3 2 2', '3': '4\\n2 3 2 2', '38': '4\\n3 2 2 2', '27': '4\\n1 2 1 3', '34': '5\\n4 2 5 3 5', '2': '3\\n2 2 2'}, 'output_testcases': {'12': '4\\n2\\n1\\n0', '52': '4\\n2\\n1\\n0', '28': '4\\n1\\n0\\n0', '84': '4\\n1\\n0\\n0', '26': '4\\n2\\n1\\n0', '50': '5\\n2\\n1\\n1\\n0', '11': '5\\n2\\n1\\n1\\n1', '44': '4\\n2\\n1\\n0', '30': '4\\n2\\n1\\n1', '23': '5\\n2\\n1\\n0\\n0', '62': '4\\n2\\n0\\n0', '13': '4\\n2\\n1\\n0', '74': '4\\n1\\n0\\n0', '65': '4\\n2\\n1\\n0', '63': '4\\n2\\n1\\n0', '93': '4\\n2\\n0\\n0', '40': '4\\n1\\n0\\n0', '61': '4\\n2\\n1\\n0', '79': '4\\n2\\n1\\n0', '36': '4\\n2\\n1\\n0', '41': '4\\n2\\n1\\n0', '92': '4\\n2\\n1\\n0', '90': '4\\n2\\n1\\n0', '8': '5\\n2\\n0\\n0\\n0', '71': '4\\n2\\n1\\n1', '46': '4\\n1\\n0\\n0', '7': '4\\n0\\n0\\n0', '25': '4\\n2\\n1\\n0', '69': '4\\n1\\n0\\n0', '60': '4\\n2\\n0\\n0', '77': '4\\n2\\n1\\n0', '56': '5\\n2\\n1\\n1\\n0', '4': '5\\n2\\n1\\n1\\n0', '98': '4\\n2\\n1\\n0', '31': '4\\n2\\n1\\n0', '35': '4\\n2\\n1\\n0', '96': '4\\n2\\n1\\n0', '47': '5\\n2\\n1\\n1\\n0', '17': '4\\n2\\n0\\n0', '32': '4\\n2\\n1\\n1', '6': '4\\n2\\n1\\n1', '83': '4\\n2\\n0\\n0', '15': '4\\n2\\n0\\n0', '58': '4\\n2\\n1\\n0', '67': '4\\n2\\n1\\n0', '51': '4\\n2\\n1\\n0', '48': '4\\n2\\n1\\n0', '81': '4\\n2\\n1\\n0', '70': '4\\n2\\n0\\n0', '19': '4\\n2\\n1\\n0', '103': '4\\n1\\n0\\n0', '14': '4\\n2\\n0\\n0', '1': '4\\n2\\n1\\n0', '86': '4\\n2\\n1\\n0', '95': '5\\n2\\n1\\n0\\n0', '59': '4\\n1\\n0\\n0', '99': '5\\n2\\n1\\n1\\n0', '42': '4\\n2\\n1\\n0', '39': '4\\n2\\n1\\n0', '68': '5\\n2\\n1\\n0\\n0', '64': '5\\n2\\n1\\n0\\n0', '66': '4\\n2\\n1\\n0', '9': '3\\n1\\n0', '88': '4\\n1\\n0\\n0', '102': '3\\n1\\n0', '0': '4\\n2\\n0\\n0', '45': '4\\n2\\n1\\n0', '43': '4\\n1\\n0\\n0', '76': '5\\n2\\n1\\n1\\n0', '72': '5\\n2\\n1\\n1\\n0', '85': '4\\n1\\n0\\n0', '91': '4\\n2\\n1\\n1', '5': '5\\n2\\n1\\n0\\n0', '22': '4\\n2\\n1\\n0', '94': '4\\n2\\n1\\n0', '75': '4\\n2\\n1\\n0', '87': '4\\n1\\n0\\n0', '101': '3\\n1\\n0', '54': '4\\n1\\n0\\n0', '37': '4\\n2\\n1\\n0', '78': '5\\n2\\n1\\n0\\n0', '29': '4\\n1\\n0\\n0', '82': '4\\n0\\n0\\n0', '16': '4\\n2\\n1\\n0', '97': '4\\n1\\n0\\n0', '33': '4\\n2\\n1\\n0', '55': '4\\n2\\n1\\n1', '10': '5\\n1\\n0\\n0\\n0', '21': '4\\n1\\n0\\n0', '73': '4\\n2\\n1\\n0', '53': '4\\n2\\n1\\n0', '80': '4\\n2\\n1\\n0', '24': '4\\n2\\n1\\n0', '57': '4\\n2\\n1\\n0', '100': '5\\n2\\n1\\n1\\n1', '18': '4\\n1\\n0\\n0', '49': '4\\n2\\n1\\n0', '89': '5\\n2\\n1\\n1\\n0', '20': '4\\n2\\n1\\n0', '3': '4\\n1\\n0\\n0', '38': '4\\n1\\n0\\n0', '27': '4\\n2\\n1\\n0', '34': '5\\n2\\n1\\n1\\n0', '2': '3\\n0\\n0'}, 'orig_lang_html': '<span class=\"lang-en\">\\n<p>Score : <var>600</var> points</p>\\n<div class=\"part\">\\n<section>\\n<h3>Problem Statement</h3>\\n<p>Takahashi has <var>N</var> cards. The <var>i</var>-th of these cards has an integer <var>A_i</var> written on it.</p>\\n<p>Takahashi will choose an integer <var>K</var>, and then repeat the following operation some number of times:</p>\\n<ul>\\n<li>Choose exactly <var>K</var> cards such that the integers written on them are all different, and eat those cards. (The eaten cards disappear.)</li>\\n</ul>\\n<p>For each <var>K = 1,2, \\\\ldots, N</var>, find the maximum number of times Takahashi can do the operation.</p>\\n</section>\\n</div>\\n<div class=\"part\">\\n<section>\\n<h3>Constraints</h3>\\n<ul>\\n<li><var> 1 \\\\le N \\\\le 3 \\\\times 10^5 </var></li>\\n<li><var> 1 \\\\le A_i \\\\le N </var></li>\\n<li>All values in input are integers.</li>\\n</ul>\\n</section>\\n</div>\\n<hr/>\\n<div class=\"io-style\">\\n<div class=\"part\">\\n<section>\\n<h3>Input</h3>\\n<p>Input is given from Standard Input in the following format:</p>\\n<pre><var>N</var>\\n<var>A_1</var> <var>A_2</var> <var>\\\\ldots</var> <var>A_N</var>\\n</pre>\\n</section>\\n</div>\\n<div class=\"part\">\\n<section>\\n<h3>Output</h3>\\n<p>Print <var>N</var> integers.\\nThe <var>t</var>-th <var>(1 \\\\le t \\\\le N)</var> of them should be the answer for the case <var>K=t</var>.</p>\\n</section>\\n</div>\\n</div>\\n<hr/>\\n<div class=\"part\">\\n<section>\\n<h3>Sample Input 1</h3><pre>3\\n2 1 2\\n</pre>\\n</section>\\n</div>\\n<div class=\"part\">\\n<section>\\n<h3>Sample Output 1</h3><pre>3\\n1\\n0\\n</pre>\\n<p>For <var>K = 1</var>, we can do the operation as follows:</p>\\n<ul>\\n<li>Choose the first card to eat.</li>\\n<li>Choose the second card to eat.</li>\\n<li>Choose the third card to eat.</li>\\n</ul>\\n<p>For <var>K = 2</var>, we can do the operation as follows:</p>\\n<ul>\\n<li>Choose the first and second cards to eat.</li>\\n</ul>\\n<p>For <var>K = 3</var>, we cannot do the operation at all. Note that we cannot choose the first and third cards at the same time.</p>\\n</section>\\n</div>\\n<hr/>\\n<div class=\"part\">\\n<section>\\n<h3>Sample Input 2</h3><pre>5\\n1 2 3 4 5\\n</pre>\\n</section>\\n</div>\\n<div class=\"part\">\\n<section>\\n<h3>Sample Output 2</h3><pre>5\\n2\\n1\\n1\\n1\\n</pre>\\n</section>\\n</div>\\n<hr/>\\n<div class=\"part\">\\n<section>\\n<h3>Sample Input 3</h3><pre>4\\n1 3 3 3\\n</pre>\\n</section>\\n</div>\\n<div class=\"part\">\\n<section>\\n<h3>Sample Output 3</h3><pre>4\\n1\\n0\\n0\\n</pre></section>\\n</div>\\n</span>', 'orig_lang_string': '\\nScore : 600 points\\n\\n\\nProblem Statement\\nTakahashi has N cards. The i-th of these cards has an integer A_i written on it.\\nTakahashi will choose an integer K, and then repeat the following operation some number of times:\\n\\nChoose exactly K cards such that the integers written on them are all different, and eat those cards. (The eaten cards disappear.)\\n\\nFor each K = 1,2, \\\\ldots, N, find the maximum number of times Takahashi can do the operation.\\n\\n\\n\\n\\nConstraints\\n\\n 1 \\\\le N \\\\le 3 \\\\times 10^5 \\n 1 \\\\le A_i \\\\le N \\nAll values in input are integers.\\n\\n\\n\\n\\n\\n\\n\\nInput\\nInput is given from Standard Input in the following format:\\nN\\nA_1 A_2 \\\\ldots A_N\\n\\n\\n\\n\\n\\nOutput\\nPrint N integers.\\nThe t-th (1 \\\\le t \\\\le N) of them should be the answer for the case K=t.\\n\\n\\n\\n\\n\\n\\nSample Input 13\\n2 1 2\\n\\n\\n\\n\\n\\nSample Output 13\\n1\\n0\\n\\nFor K = 1, we can do the operation as follows:\\n\\nChoose the first card to eat.\\nChoose the second card to eat.\\nChoose the third card to eat.\\n\\nFor K = 2, we can do the operation as follows:\\n\\nChoose the first and second cards to eat.\\n\\nFor K = 3, we cannot do the operation at all. Note that we cannot choose the first and third cards at the same time.\\n\\n\\n\\n\\n\\nSample Input 25\\n1 2 3 4 5\\n\\n\\n\\n\\n\\nSample Output 25\\n2\\n1\\n1\\n1\\n\\n\\n\\n\\n\\n\\nSample Input 34\\n1 3 3 3\\n\\n\\n\\n\\n\\nSample Output 34\\n1\\n0\\n0\\n\\n\\n', 'codenet_problem_id': 'p02890'}\n"
     ]
    }
   ],
   "source": [
    "# each record should be a dict with the following keys:\n",
    "# description_html\n",
    "# description_string\n",
    "# input_testcases\n",
    "# output_testcases\n",
    "# orig_lang_html\n",
    "# orig_lang_string\n",
    "\n",
    "train_records = []\n",
    "test_records = []\n",
    "val_records = []\n",
    "\n",
    "for ids, records in [(train_problem_ids, train_records), (test_problem_ids, test_records), (val_problem_ids, val_records)]:\n",
    "    for problem_id in ids:\n",
    "        record = {}\n",
    "        record[\"description_html\"] = problem_id_2_html[problem_id]\n",
    "        record[\"description_string\"] = problem_id_2_text[problem_id]\n",
    "        record[\"input_testcases\"] = problem_id_to_inputs[problem_id]\n",
    "        record[\"output_testcases\"] = problem_id_to_outputs[problem_id]\n",
    "        record[\"orig_lang_html\"] = problem_id_2_html_orig[problem_id]\n",
    "        record[\"orig_lang_string\"] = problem_id_2_text_orig[problem_id]\n",
    "        record[\"codenet_problem_id\"] = problem_id\n",
    "        records.append(record)\n",
    "\n",
    "print(f\"Train records: {len(train_records)}\")\n",
    "print(f\"Test records: {len(test_records)}\")\n",
    "print(f\"Val records: {len(val_records)}\")\n",
    "\n",
    "print(train_records[0])\n",
    "\n"
   ]
  },
  {
   "cell_type": "code",
   "execution_count": 11,
   "metadata": {},
   "outputs": [],
   "source": [
    "PATH_TO_OUTPUT = \"/data1/shypula/Project_CodeNet/processed\"\n",
    "if not os.path.exists(PATH_TO_OUTPUT):\n",
    "    os.makedirs(PATH_TO_OUTPUT)\n",
    "# save each to a jsonl file, records and lines = True \n",
    "train_records_df = pd.DataFrame(train_records)\n",
    "test_records_df = pd.DataFrame(test_records)\n",
    "val_records_df = pd.DataFrame(val_records)\n",
    "\n",
    "train_records_df.to_json(os.path.join(PATH_TO_OUTPUT, \"train_descriptions_and_testcases.jsonl\"), lines=True, orient=\"records\")\n",
    "test_records_df.to_json(os.path.join(PATH_TO_OUTPUT, \"test_descriptions_and_testcases.jsonl\"), lines=True, orient=\"records\")\n",
    "val_records_df.to_json(os.path.join(PATH_TO_OUTPUT, \"val_descriptions_and_testcases.jsonl\"), lines=True, orient=\"records\")\n"
   ]
  },
  {
   "cell_type": "code",
   "execution_count": 12,
   "metadata": {},
   "outputs": [],
   "source": [
    "# let's now go over the metadatas, sample up to 3000 solutions for eaa\n",
    "# ch problem\n",
    "# and save them to a jsonl file\n",
    "\n",
    "# first make problem_id_to_record \n",
    "\n",
    "problem_id_to_record = {}\n",
    "for record in train_records + test_records + val_records:\n",
    "    problem_id_to_record[record[\"codenet_problem_id\"]] = record\n",
    "\n",
    "# now let's write a function to sample up to 3000 solutions for each problem\n",
    "lang_2_file_ending = {\n",
    "    \"Python\": \"py\",\n",
    "    \"Java\": \"java\",\n",
    "    \"C\": \"c\",\n",
    "    \"C++\": \"cpp\",\n",
    "    \"Rust\": \"rs\",\n",
    "    \"Go\": \"go\",\n",
    "}\n",
    "\n",
    "def sample_solutions_for_problem(problem_id, problem_id_to_record, n=3000, language=\"python\"):   \n",
    "    metadata = pd.read_csv(os.path.join(PATH_TO_METADATA, f\"{problem_id}.csv\"))\n",
    "    lang_df = metadata[metadata[\"language\"] == language]\n",
    "    if len(lang_df) == 0:\n",
    "        return []\n",
    "    lang_df = lang_df.sample(n=min(n, len(lang_df)))\n",
    "    ## now read from the data folder and add to the record\n",
    "    lang_df[\"submission_id\"] = lang_df[\"submission_id\"].astype(str)\n",
    "    submission_records = []\n",
    "    for i, row in lang_df.iterrows():\n",
    "        submission_id = row[\"submission_id\"]\n",
    "        submission_path = os.path.join(PATH_TO_DATA, problem_id, language, f\"{submission_id}.{lang_2_file_ending[language]}\")\n",
    "        if os.path.exists(submission_path):\n",
    "            with open(submission_path, \"r\") as f:\n",
    "                code = f.read()\n",
    "            row[\"code\"] = code\n",
    "            row_dict = row.to_dict()\n",
    "            # add record to submission_records\n",
    "            # row_dict = {**row_dict, **problem_id_to_record[problem_id]}\n",
    "            submission_records.append(row_dict)\n",
    "    return submission_records\n",
    "    \n",
    "    \n",
    "\n",
    "    "
   ]
  },
  {
   "cell_type": "code",
   "execution_count": 13,
   "metadata": {},
   "outputs": [],
   "source": [
    "# df = sample_solutions_for_problem(\"p00705\", problem_id_to_record, n=3000, language=\"Python\")\n",
    "# pd.DataFrame(df)\n",
    "\n",
    "# def sample_solutions_for_all_problems(problem_ids, problem_id_to_record, n=3000, language=\"python\"):\n",
    "#     all_records = []\n",
    "#     for problem_id in tqdm(problem_ids):\n",
    "#         records = sample_solutions_for_problem(problem_id, problem_id_to_record, n=n, language=language)\n",
    "#         all_records.extend(records)\n",
    "#     return all_records"
   ]
  },
  {
   "cell_type": "code",
   "execution_count": 17,
   "metadata": {},
   "outputs": [],
   "source": [
    "import joblib\n",
    "from joblib import Parallel, delayed\n",
    "import contextlib\n",
    "\n",
    "\n",
    "@contextlib.contextmanager\n",
    "def tqdm_joblib(tqdm_object):\n",
    "    \"\"\"Context manager to patch joblib to report into tqdm progress bar given as argument\"\"\"\n",
    "    class TqdmBatchCompletionCallback(joblib.parallel.BatchCompletionCallBack):\n",
    "        def __call__(self, *args, **kwargs):\n",
    "            tqdm_object.update(n=self.batch_size)\n",
    "            return super().__call__(*args, **kwargs)\n",
    "\n",
    "    old_batch_callback = joblib.parallel.BatchCompletionCallBack\n",
    "    joblib.parallel.BatchCompletionCallBack = TqdmBatchCompletionCallback\n",
    "    try:\n",
    "        yield tqdm_object\n",
    "    finally:\n",
    "        joblib.parallel.BatchCompletionCallBack = old_batch_callback\n",
    "        tqdm_object.close()\n",
    "        \n",
    "        \n",
    "def sample_solutions_for_all_problems_parallel(problem_ids, problem_id_to_record, n=3000, language=\"python\"):\n",
    "    with tqdm_joblib(tqdm(total=len(problem_ids))) as pbar:\n",
    "        all_records = Parallel(n_jobs=100, backend=\"threading\")(delayed(sample_solutions_for_problem)(problem_id, problem_id_to_record, n=n, language=language) for problem_id in problem_ids)\n",
    "    # concat all dfs by flattening \n",
    "    all_records = [record for records in all_records for record in records]\n",
    "    all_records_df = pd.DataFrame(all_records)\n",
    "    return all_records_df\n",
    "\n",
    "\n",
    "        \n"
   ]
  },
  {
   "cell_type": "code",
   "execution_count": 18,
   "metadata": {},
   "outputs": [],
   "source": [
    "# demo_parallel = sample_solutions_for_all_problems_parallel(valid_problem_ids[:10], problem_id_to_record, n=3000, language=\"Python\")"
   ]
  },
  {
   "cell_type": "code",
   "execution_count": 19,
   "metadata": {},
   "outputs": [
    {
     "name": "stderr",
     "output_type": "stream",
     "text": [
      "100%|██████████| 2728/2728 [08:01<00:00,  5.67it/s]\n",
      "100%|██████████| 585/585 [01:51<00:00,  5.24it/s]\n",
      "100%|██████████| 585/585 [01:34<00:00,  6.18it/s]\n",
      "100%|██████████| 2728/2728 [14:54<00:00,  3.05it/s]\n",
      "100%|██████████| 585/585 [03:10<00:00,  3.07it/s]\n",
      "100%|██████████| 585/585 [03:11<00:00,  3.05it/s]\n"
     ]
    }
   ],
   "source": [
    "train_records_df = sample_solutions_for_all_problems_parallel(train_problem_ids, problem_id_to_record, n=200, language=\"Python\")\n",
    "test_records_df = sample_solutions_for_all_problems_parallel(test_problem_ids, problem_id_to_record, n=200, language=\"Python\")\n",
    "val_records_df = sample_solutions_for_all_problems_parallel(val_problem_ids, problem_id_to_record, n=200, language=\"Python\")\n",
    "\n",
    "train_records_df.to_json(os.path.join(PATH_TO_OUTPUT, \"train_examples.jsonl\"), lines=True, orient=\"records\")\n",
    "test_records_df.to_json(os.path.join(PATH_TO_OUTPUT, \"test_examples.jsonl\"), lines=True, orient=\"records\")\n",
    "val_records_df.to_json(os.path.join(PATH_TO_OUTPUT, \"val_examples.jsonl\"), lines=True, orient=\"records\")\n",
    "\n",
    "train_records_df = sample_solutions_for_all_problems_parallel(train_problem_ids, problem_id_to_record, n=200, language=\"C++\")\n",
    "test_records_df = sample_solutions_for_all_problems_parallel(test_problem_ids, problem_id_to_record, n=200, language=\"C++\")\n",
    "val_records_df = sample_solutions_for_all_problems_parallel(val_problem_ids, problem_id_to_record, n=200, language=\"C++\")\n",
    "\n",
    "train_records_df.to_json(os.path.join(PATH_TO_OUTPUT, \"train_examples_cpp.jsonl\"), lines=True, orient=\"records\")\n",
    "test_records_df.to_json(os.path.join(PATH_TO_OUTPUT, \"test_examples_cpp.jsonl\"), lines=True, orient=\"records\")\n",
    "val_records_df.to_json(os.path.join(PATH_TO_OUTPUT, \"val_examples_cpp.jsonl\"), lines=True, orient=\"records\")\n"
   ]
  },
  {
   "cell_type": "code",
   "execution_count": null,
   "metadata": {},
   "outputs": [],
   "source": [
    "metadata_3000 = pd.read_csv(os.path.join(PATH_TO_METADATA, \"p03245.csv\"))\n",
    "metadata_3000\n"
   ]
  },
  {
   "cell_type": "code",
   "execution_count": null,
   "metadata": {},
   "outputs": [],
   "source": []
  }
 ],
 "metadata": {
  "kernelspec": {
   "display_name": "py39",
   "language": "python",
   "name": "python3"
  },
  "language_info": {
   "codemirror_mode": {
    "name": "ipython",
    "version": 3
   },
   "file_extension": ".py",
   "mimetype": "text/x-python",
   "name": "python",
   "nbconvert_exporter": "python",
   "pygments_lexer": "ipython3",
   "version": "3.9.18"
  }
 },
 "nbformat": 4,
 "nbformat_minor": 2
}
