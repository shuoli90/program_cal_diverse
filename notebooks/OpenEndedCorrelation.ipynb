{
 "cells": [
  {
   "cell_type": "code",
   "execution_count": 6,
   "metadata": {},
   "outputs": [
    {
     "name": "stdout",
     "output_type": "stream",
     "text": [
      "Found 21 result.tsv files in /data0/shypula/prog_diversity/all_experiments/Open_Ended_Reevaluation_EAD_Open_and_Commercial_2024-08-02_16-02-07/meta-llama-Meta-Llama-3-8B_temp_1.0_top_p_1.0_num_return_sequences_100_open_ended_default\n",
      "Found 21 result.tsv files in /data0/shypula/prog_diversity/all_experiments/Open_Ended_Reevaluation_EAD_Open_and_Commercial_2024-08-02_16-02-07/meta-llama-Meta-Llama-3-70B_temp_1.0_top_p_1.0_num_return_sequences_100_open_ended_default\n",
      "Found 21 result.tsv files in /data0/shypula/prog_diversity/all_experiments/Open_Ended_Reevaluation_EAD_Open_and_Commercial_2024-08-02_16-02-07/meta-llama-Meta-Llama-3-70B-Instruct_temp_1.0_top_p_1.0_num_return_sequences_100_open_ended_default\n",
      "Found 21 result.tsv files in /data0/shypula/prog_diversity/all_experiments/Open_Ended_Reevaluation_EAD_Open_and_Commercial_2024-08-02_16-02-07/meta-llama-Meta-Llama-3-70B-Instruct_temp_1.0_top_p_1.0_num_return_sequences_100_open_ended_two_shot_cot\n",
      "Found 21 result.tsv files in /data0/shypula/prog_diversity/all_experiments/Open_Ended_Reevaluation_EAD_Open_and_Commercial_2024-08-02_16-02-07/codellama-CodeLlama-7b-Instruct-hf_temp_1.0_top_p_1.0_num_return_sequences_100_open_ended_default\n"
     ]
    }
   ],
   "source": [
    "import os \n",
    "import glob \n",
    "import json \n",
    "\n",
    "\n",
    "directories = paths = [\"/data0/shypula/prog_diversity/all_experiments/Open_Ended_Reevaluation_EAD_Open_and_Commercial_2024-08-02_16-02-07/\", \n",
    "                        \"/data1/shypula/prog_diversity/all_experiments/OpenEndedCommercialV3_2024-08-09_02-28-20/\"]\n",
    "\n",
    "\n",
    "key_columns = [\"all_semantic_count_wcoh_nonempty_woutput\", \"all_average_cosine_distance_programs\", \"all_average_cosine_distance_raw\", \n",
    "               \"all_average_cosine_distance_programs_zero_null\", \n",
    "               \"all_ead_4_bootstrap\", \"all_stripped_subtrees_4_bootstrap\"]\n",
    "\n",
    "\n",
    "def read_tsv_file(file_path):\n",
    "    \"\"\"\n",
    "    Read a TSV file and return all key-value pairs as a dictionary.\n",
    "    \"\"\"\n",
    "    result_dict = {}\n",
    "    with open(file_path, 'r') as f:\n",
    "        for line in f:\n",
    "            key, value = line.strip().split('\\t')\n",
    "            result_dict[key] = value\n",
    "    return result_dict\n",
    "\n",
    "\n",
    "experiment_dirs = []\n",
    "for directory in directories:\n",
    "    ds = [d for d in os.listdir(directory) if os.path.isdir(os.path.join(directory, d))]\n",
    "    ds = [os.path.join(directory, d) for d in ds]\n",
    "    experiment_dirs.extend(ds)\n",
    "\n",
    "all_results = []\n",
    "    \n",
    "for i, directory in enumerate(experiment_dirs):\n",
    "    results_tsvs = glob.glob(os.path.join(directory, \"p*\", \"result.tsv\"))\n",
    "    if i < 5:\n",
    "        print(f\"Found {len(results_tsvs)} result.tsv files in {directory}\")\n",
    "    \n",
    "    for tsv_path in results_tsvs:\n",
    "        result = read_tsv_file(tsv_path)\n",
    "        all_results.append(result)\n",
    "        \n",
    "        \n",
    "    \n",
    "filtered_result_dicts = [{k: v for k, v in result.items() if k in key_columns} for result in all_results]        \n",
    "    \n",
    "    \n",
    "    \n"
   ]
  },
  {
   "cell_type": "code",
   "execution_count": 7,
   "metadata": {},
   "outputs": [
    {
     "name": "stdout",
     "output_type": "stream",
     "text": [
      "2037\n",
      "{'all_semantic_count_wcoh_nonempty_woutput': '0', 'all_average_cosine_distance_programs': '0.13482898473739624', 'all_average_cosine_distance_raw': '0.0870131328701973', 'all_average_cosine_distance_programs_zero_null': '0.12457308918237686', 'all_ead_4_bootstrap': '0.9033094657355264', 'all_stripped_subtrees_4_bootstrap': '0.9179964390448261'}\n"
     ]
    }
   ],
   "source": [
    "print(len(filtered_result_dicts))\n",
    "print(filtered_result_dicts[0])"
   ]
  },
  {
   "cell_type": "code",
   "execution_count": null,
   "metadata": {},
   "outputs": [],
   "source": []
  }
 ],
 "metadata": {
  "kernelspec": {
   "display_name": "py311",
   "language": "python",
   "name": "python3"
  },
  "language_info": {
   "codemirror_mode": {
    "name": "ipython",
    "version": 3
   },
   "file_extension": ".py",
   "mimetype": "text/x-python",
   "name": "python",
   "nbconvert_exporter": "python",
   "pygments_lexer": "ipython3",
   "version": "3.12.0"
  }
 },
 "nbformat": 4,
 "nbformat_minor": 2
}
